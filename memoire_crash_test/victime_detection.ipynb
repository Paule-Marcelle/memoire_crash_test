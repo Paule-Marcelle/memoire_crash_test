{
  "cells": [
    {
      "cell_type": "markdown",
      "metadata": {
        "id": "czmb2CAfwZkB"
      },
      "source": [
        "### <font color='#00d2d3'> Importer les packages"
      ]
    },
    {
      "cell_type": "code",
      "execution_count": null,
      "metadata": {
        "colab": {
          "base_uri": "https://localhost:8080/"
        },
        "id": "LU_5yINqMjZ0",
        "outputId": "ff088e99-d5c9-4cb7-985b-f7f74099cb47"
      },
      "outputs": [
        {
          "name": "stderr",
          "output_type": "stream",
          "text": [
            "[nltk_data] Downloading package stopwords to /root/nltk_data...\n",
            "[nltk_data]   Unzipping corpora/stopwords.zip.\n",
            "[nltk_data] Downloading package wordnet to /root/nltk_data...\n"
          ]
        }
      ],
      "source": [
        "# Importer les packages\n",
        "import numpy as np\n",
        "import pandas as pd\n",
        "import matplotlib.pyplot as plt\n",
        "import re\n",
        "import nltk\n",
        "nltk.download('stopwords') # Télécharger le package stopwords\n",
        "nltk.download('wordnet')\n",
        "from nltk.corpus import stopwords # Importer le package stopwords"
      ]
    },
    {
      "cell_type": "markdown",
      "metadata": {
        "id": "KlHMJw7NQw5k"
      },
      "source": [
        "### <font color='#00d2d3'> Importer et lire les données"
      ]
    },
    {
      "cell_type": "code",
      "execution_count": null,
      "metadata": {
        "colab": {
          "base_uri": "https://localhost:8080/"
        },
        "id": "QYwI5fuQMojZ",
        "outputId": "846c21f1-4ce9-43ef-918c-139dda911129"
      },
      "outputs": [
        {
          "name": "stdout",
          "output_type": "stream",
          "text": [
            "Mounted at /content/drive\n"
          ]
        }
      ],
      "source": [
        "# Importer les données\n",
        "from google.colab import drive\n",
        "drive.mount('/content/drive')"
      ]
    },
    {
      "cell_type": "code",
      "execution_count": null,
      "metadata": {
        "id": "pk4viDNHKqNg"
      },
      "outputs": [],
      "source": [
        "# Afficher les données\n",
        "data=pd.read_csv('/content/drive/MyDrive/Future_Intern/reddit_data.csv')\n",
        "df= pd.read_csv('/content/drive/MyDrive/Memoire/reddit_good.csv')"
      ]
    },
    {
      "cell_type": "markdown",
      "metadata": {
        "id": "0AqkjpUZQw5m"
      },
      "source": [
        "- 1 : Negative\n",
        "- 0 : Positive"
      ]
    },
    {
      "cell_type": "code",
      "execution_count": null,
      "metadata": {
        "colab": {
          "base_uri": "https://localhost:8080/"
        },
        "id": "v5DYAQbZQw5n",
        "outputId": "e2a47c04-f85c-4c10-fb7b-45e9eaaf1ca7"
      },
      "outputs": [
        {
          "data": {
            "text/plain": [
              "(5600, 5)"
            ]
          },
          "execution_count": 4,
          "metadata": {},
          "output_type": "execute_result"
        }
      ],
      "source": [
        "# Dimension des données\n",
        "df.shape"
      ]
    },
    {
      "cell_type": "markdown",
      "metadata": {
        "id": "XhtOBqkqQw5o"
      },
      "source": [
        "### <font color='#00d2d3'> Pré-traitement des données"
      ]
    },
    {
      "cell_type": "code",
      "execution_count": null,
      "metadata": {
        "colab": {
          "base_uri": "https://localhost:8080/"
        },
        "id": "jtFrSBXPQw5p",
        "outputId": "19299af0-769c-4b04-c13c-f896c269b5ee"
      },
      "outputs": [
        {
          "name": "stdout",
          "output_type": "stream",
          "text": [
            "selftext\n",
            "<class 'str'>      12375\n",
            "<class 'float'>      872\n",
            "Name: count, dtype: int64\n",
            "title\n",
            "<class 'str'>    5600\n",
            "Name: count, dtype: int64\n"
          ]
        }
      ],
      "source": [
        "print(data['selftext'].apply(type).value_counts())\n",
        "print(df['title'].apply(type).value_counts())"
      ]
    },
    {
      "cell_type": "markdown",
      "metadata": {
        "id": "_41c8uL5Qw5r"
      },
      "source": [
        "#### <font color='#00d2d3'> Pré-traitement des données textuelles"
      ]
    },
    {
      "cell_type": "code",
      "execution_count": null,
      "metadata": {
        "colab": {
          "base_uri": "https://localhost:8080/",
          "height": 36
        },
        "id": "dwMVggXAQw5u",
        "outputId": "2b85a491-d215-4523-ff91-300656d626d0"
      },
      "outputs": [
        {
          "data": {
            "application/vnd.google.colaboratory.intrinsic+json": {
              "type": "string"
            },
            "text/plain": [
              "'Spent the past 19 years of my life in the military. Happy to say that in one more year I will be retired. 🙌🏾🙌🏾'"
            ]
          },
          "execution_count": 6,
          "metadata": {},
          "output_type": "execute_result"
        }
      ],
      "source": [
        "# Afficher la première ligne de la colonne text\n",
        "df['title'][0]"
      ]
    },
    {
      "cell_type": "code",
      "execution_count": null,
      "metadata": {
        "colab": {
          "base_uri": "https://localhost:8080/",
          "height": 126
        },
        "id": "LC5qNlC3vA7M",
        "outputId": "897fa0d3-7fe9-4adf-d6d1-e9ae966d0769"
      },
      "outputs": [
        {
          "data": {
            "application/vnd.google.colaboratory.intrinsic+json": {
              "type": "string"
            },
            "text/plain": [
              "'\\nMe (28f) nd my boyfriend (34m) have been in a relationship for 2 years. We got into an argument last night. It started over this girl he used to work with as I’d seen he had liked one of her photos and I asked if they still talked. He said no look at my phone if you want. So I called his bluff and I was like fine I will. When I went to check their chat was empty and I know they had previously messaged. I asked him why he deleted the chat and he said he did it ages ago to stop our arguments. He tried to grab his phone back but I was clinging onto it and kept saying but why are they deleted. He eventually tackled the phone off of me and left a mark on my arm and broke 2 of my nails. Is this domestic abuse? I have a very dark feeling that my partner just hit me but he insists it was just because we tackled for the phone and I wouldn’t let go and that he hadn’t “hit or abused me”. I’m very confused and upset, the deleted messages are a separate issue to this. I’d like clarification on the tackle and outcome of it, before I begin processing the message part. \\n\\nTL;DR boyfriend tackled me for his phone leaving me with marks on my arm and 2 broken nails'"
            ]
          },
          "execution_count": 7,
          "metadata": {},
          "output_type": "execute_result"
        }
      ],
      "source": [
        "# Afficher la deuxième ligne de la colonne text\n",
        "data['selftext'][0]"
      ]
    },
    {
      "cell_type": "markdown",
      "metadata": {
        "id": "8TbCKi_C2DVr"
      },
      "source": [
        "###### <font color='#1dd1a1'> Commencer le nettoyage des tweets\n"
      ]
    },
    {
      "cell_type": "code",
      "execution_count": null,
      "metadata": {
        "id": "CJDmurEzQw5y"
      },
      "outputs": [],
      "source": [
        "# Fonction supprimant les links\n",
        "def remove_links(title):\n",
        "    title= re.sub(r'http:?//\\S+ | https:?//\\S+','',title)\n",
        "    return title"
      ]
    },
    {
      "cell_type": "code",
      "execution_count": null,
      "metadata": {
        "id": "Vm1912YqQw5y"
      },
      "outputs": [],
      "source": [
        "# Fonction supprimant les @username\n",
        "def remove_users(title):\n",
        "    title = re.sub(r'@[\\w\\-._]+','',title)\n",
        "    return title"
      ]
    },
    {
      "cell_type": "code",
      "execution_count": null,
      "metadata": {
        "id": "06fJkgu2Qw5z"
      },
      "outputs": [],
      "source": [
        "# Supprimer les adresses emails\n",
        "def email_address(text):\n",
        "  title= re.sub(r'@[\\w\\-._]+','',text)\n",
        "  return title"
      ]
    },
    {
      "cell_type": "code",
      "execution_count": null,
      "metadata": {
        "colab": {
          "base_uri": "https://localhost:8080/"
        },
        "id": "yhDsZZaaRVnv",
        "outputId": "670f8463-3b86-41c7-fc62-e183311ddf3d"
      },
      "outputs": [
        {
          "name": "stdout",
          "output_type": "stream",
          "text": [
            "Collecting contractions\n",
            "  Downloading contractions-0.1.73-py2.py3-none-any.whl.metadata (1.2 kB)\n",
            "Collecting textsearch>=0.0.21 (from contractions)\n",
            "  Downloading textsearch-0.0.24-py2.py3-none-any.whl.metadata (1.2 kB)\n",
            "Collecting anyascii (from textsearch>=0.0.21->contractions)\n",
            "  Downloading anyascii-0.3.2-py3-none-any.whl.metadata (1.5 kB)\n",
            "Collecting pyahocorasick (from textsearch>=0.0.21->contractions)\n",
            "  Downloading pyahocorasick-2.1.0-cp310-cp310-manylinux_2_5_x86_64.manylinux1_x86_64.manylinux_2_12_x86_64.manylinux2010_x86_64.whl.metadata (13 kB)\n",
            "Downloading contractions-0.1.73-py2.py3-none-any.whl (8.7 kB)\n",
            "Downloading textsearch-0.0.24-py2.py3-none-any.whl (7.6 kB)\n",
            "Downloading anyascii-0.3.2-py3-none-any.whl (289 kB)\n",
            "\u001b[2K   \u001b[90m━━━━━━━━━━━━━━━━━━━━━━━━━━━━━━━━━━━━━━━━\u001b[0m \u001b[32m289.9/289.9 kB\u001b[0m \u001b[31m12.7 MB/s\u001b[0m eta \u001b[36m0:00:00\u001b[0m\n",
            "\u001b[?25hDownloading pyahocorasick-2.1.0-cp310-cp310-manylinux_2_5_x86_64.manylinux1_x86_64.manylinux_2_12_x86_64.manylinux2010_x86_64.whl (110 kB)\n",
            "\u001b[2K   \u001b[90m━━━━━━━━━━━━━━━━━━━━━━━━━━━━━━━━━━━━━━━━\u001b[0m \u001b[32m110.7/110.7 kB\u001b[0m \u001b[31m9.8 MB/s\u001b[0m eta \u001b[36m0:00:00\u001b[0m\n",
            "\u001b[?25hInstalling collected packages: pyahocorasick, anyascii, textsearch, contractions\n",
            "Successfully installed anyascii-0.3.2 contractions-0.1.73 pyahocorasick-2.1.0 textsearch-0.0.24\n"
          ]
        }
      ],
      "source": [
        "!pip install contractions"
      ]
    },
    {
      "cell_type": "code",
      "execution_count": null,
      "metadata": {
        "id": "dr4lFuBHQw50"
      },
      "outputs": [],
      "source": [
        "import contractions\n",
        "# Fonction étendant les contractions\n",
        "def contraction(title):\n",
        "    expanded_all = []\n",
        "    for word in title.split():\n",
        "        expanded_all.append(contractions.fix(word)) # utiliser la fonction fix de contractions\n",
        "\n",
        "    expand = ' '.join(expanded_all)\n",
        "    return expand"
      ]
    },
    {
      "cell_type": "code",
      "execution_count": null,
      "metadata": {
        "id": "p8oVUvyDQw51"
      },
      "outputs": [],
      "source": [
        "# Supprimer html caractères\n",
        "def clean_html(text):\n",
        "   title = re.sub(r'&\\w+','',text)\n",
        "   return title"
      ]
    },
    {
      "cell_type": "code",
      "execution_count": null,
      "metadata": {
        "id": "nLNuYb7KQw52"
      },
      "outputs": [],
      "source": [
        "# Remplacer tout ce qui n'est chaines de caractères alphabétiques et espace par ' '\n",
        "def alpha_b(text):\n",
        "   title = re.sub(r'^a-zA-Z\\s]+',' ',text)\n",
        "   return title"
      ]
    },
    {
      "cell_type": "code",
      "execution_count": null,
      "metadata": {
        "id": "8Eb-oR4dQw52"
      },
      "outputs": [],
      "source": [
        "def crochet(text):\n",
        "   title= re.sub(r'\\[.*?\\]', '', text)\n",
        "   return title"
      ]
    },
    {
      "cell_type": "code",
      "execution_count": null,
      "metadata": {
        "id": "Jqv5Z7AHQw53"
      },
      "outputs": [],
      "source": [
        "# Fonction remplaçant les espaces multiples et convertissant majuscules en minuscules\n",
        "def lower(text):\n",
        "    title = re.sub(r'\\s(2,)',' ' ,text)\n",
        "    return title"
      ]
    },
    {
      "cell_type": "code",
      "execution_count": null,
      "metadata": {
        "id": "zK7xShT2Qw53"
      },
      "outputs": [],
      "source": [
        "# Supprimer les espaces en début et fin de tweet\n",
        "def clean_space(text):\n",
        "    title = re.sub(r'^\\s|\\s$',' ' ,text)\n",
        "    return title"
      ]
    },
    {
      "cell_type": "code",
      "execution_count": null,
      "metadata": {
        "id": "TrTkDXL6Qw54"
      },
      "outputs": [],
      "source": [
        "# Fonction supprimant les stopwords\n",
        "def remove_stopwords(text):\n",
        "    Stopwords = stopwords.words('english')\n",
        "    title= ' '.join([word for word in text.split() if word not in Stopwords])\n",
        "    return title"
      ]
    },
    {
      "cell_type": "code",
      "execution_count": null,
      "metadata": {
        "id": "q6nwwvbsQw55"
      },
      "outputs": [],
      "source": [
        "# Lemmatization\n",
        "from nltk.stem import WordNetLemmatizer\n",
        "lemma=WordNetLemmatizer()\n",
        "def lem_sw(text):\n",
        "    title = [lemma.lemmatize(word) for word in text.split()]\n",
        "    title = \" \".join(title)\n",
        "    return title"
      ]
    },
    {
      "cell_type": "markdown",
      "metadata": {
        "id": "q1GFBn2peCbz"
      },
      "source": [
        "###### <font color='#1dd1a1'> Appliquer les différentes fonctions sur letitle\n",
        "\n"
      ]
    },
    {
      "cell_type": "code",
      "execution_count": null,
      "metadata": {
        "id": "2T1IFv1zkKlx"
      },
      "outputs": [],
      "source": [
        "# Appliquer la fonction remove_users\n",
        "data['new_title'] = data.title.apply(func =remove_users)\n",
        "# Appliquer la fonction remove_links\n",
        "data['new_title'] = data.new_title.apply(func =remove_links)\n",
        "# Appliquer la fonction email_address\n",
        "data['new_title'] = data.new_title.apply(func =email_address)\n",
        "# Appliquer la fonction remove_contraction\n",
        "data['new_title'] = data.new_title.apply(func = contraction)\n",
        "# Appliquer la fonction clean_html\n",
        "data['new_title'] = data.new_title.apply(func =clean_html)\n",
        "# Appliquer la fonction alpha_b\n",
        "data['new_title'] = data.new_title.apply(func =alpha_b)\n",
        "# Appliquer la fonction crochet\n",
        "data['new_title'] = data.new_title.apply(func =crochet)\n",
        "# Appliquer la fonction lower\n",
        "data['new_title'] = data.new_title.apply(func =lower)\n",
        "# Appliquer la fonction clean_space\n",
        "data['new_title'] = data.new_title.apply(func =clean_space)\n",
        "# Appliquer la fonction remove_stopwords\n",
        "data['new_title'] = data.new_title.apply(func =remove_stopwords)\n",
        "# Appliquer la fonction lem_sw\n",
        "data['new_title'] = data.new_title.apply(func =lem_sw)"
      ]
    },
    {
      "cell_type": "code",
      "execution_count": null,
      "metadata": {
        "id": "qmSXuqouKTCi"
      },
      "outputs": [],
      "source": [
        "# Appliquer la fonction remove_users\n",
        "df['new_title'] = df.title.apply(func =remove_users)\n",
        "# Appliquer la fonction remove_links\n",
        "df['new_title'] = df.new_title.apply(func =remove_links)\n",
        "# Appliquer la fonction email_address\n",
        "df['new_title'] = df.new_title.apply(func =email_address)\n",
        "# Appliquer la fonction remove_contraction\n",
        "df['new_title'] = df.new_title.apply(func = contraction)\n",
        "# Appliquer la fonction clean_html\n",
        "df['new_title'] = df.new_title.apply(func =clean_html)\n",
        "# Appliquer la fonction alpha_b\n",
        "df['new_title'] = df.new_title.apply(func =alpha_b)\n",
        "# Appliquer la fonction crochet\n",
        "df['new_title'] = df.new_title.apply(func =crochet)\n",
        "# Appliquer la fonction lower\n",
        "df['new_title'] = df.new_title.apply(func =lower)\n",
        "# Appliquer la fonction clean_space\n",
        "df['new_title'] = df.new_title.apply(func =clean_space)\n",
        "# Appliquer la fonction remove_stopwords\n",
        "df['new_title'] = df.new_title.apply(func =remove_stopwords)\n",
        "# Appliquer la fonction lem_sw\n",
        "df['new_title'] = df.new_title.apply(func =lem_sw)"
      ]
    },
    {
      "cell_type": "code",
      "execution_count": null,
      "metadata": {
        "colab": {
          "base_uri": "https://localhost:8080/",
          "height": 36
        },
        "id": "jpUFyoATx3Z2",
        "outputId": "10bc749b-cec0-4359-8f62-374707551c9d"
      },
      "outputs": [
        {
          "data": {
            "application/vnd.google.colaboratory.intrinsic+json": {
              "type": "string"
            },
            "text/plain": [
              "'No Politics!'"
            ]
          },
          "execution_count": 22,
          "metadata": {},
          "output_type": "execute_result"
        }
      ],
      "source": [
        "# Afficher la ligne d'index 0\n",
        "df['new_title'][1200]"
      ]
    },
    {
      "cell_type": "code",
      "execution_count": null,
      "metadata": {
        "colab": {
          "base_uri": "https://localhost:8080/",
          "height": 272
        },
        "id": "72eVV9HWfXFw",
        "outputId": "887e432d-09a1-4d71-a04a-3a7d6d3eba11"
      },
      "outputs": [
        {
          "data": {
            "text/html": [
              "<div>\n",
              "<style scoped>\n",
              "    .dataframe tbody tr th:only-of-type {\n",
              "        vertical-align: middle;\n",
              "    }\n",
              "\n",
              "    .dataframe tbody tr th {\n",
              "        vertical-align: top;\n",
              "    }\n",
              "\n",
              "    .dataframe thead th {\n",
              "        text-align: right;\n",
              "    }\n",
              "</style>\n",
              "<table border=\"1\" class=\"dataframe\">\n",
              "  <thead>\n",
              "    <tr style=\"text-align: right;\">\n",
              "      <th></th>\n",
              "      <th>0</th>\n",
              "    </tr>\n",
              "  </thead>\n",
              "  <tbody>\n",
              "    <tr>\n",
              "      <th>title</th>\n",
              "      <td>0</td>\n",
              "    </tr>\n",
              "    <tr>\n",
              "      <th>selftext</th>\n",
              "      <td>1016</td>\n",
              "    </tr>\n",
              "    <tr>\n",
              "      <th>created_utc</th>\n",
              "      <td>0</td>\n",
              "    </tr>\n",
              "    <tr>\n",
              "      <th>author</th>\n",
              "      <td>48</td>\n",
              "    </tr>\n",
              "    <tr>\n",
              "      <th>subreddit</th>\n",
              "      <td>0</td>\n",
              "    </tr>\n",
              "    <tr>\n",
              "      <th>new_title</th>\n",
              "      <td>0</td>\n",
              "    </tr>\n",
              "  </tbody>\n",
              "</table>\n",
              "</div><br><label><b>dtype:</b> int64</label>"
            ],
            "text/plain": [
              "title             0\n",
              "selftext       1016\n",
              "created_utc       0\n",
              "author           48\n",
              "subreddit         0\n",
              "new_title         0\n",
              "dtype: int64"
            ]
          },
          "execution_count": 23,
          "metadata": {},
          "output_type": "execute_result"
        }
      ],
      "source": [
        "df.isnull().sum()"
      ]
    },
    {
      "cell_type": "code",
      "execution_count": null,
      "metadata": {
        "colab": {
          "base_uri": "https://localhost:8080/",
          "height": 597
        },
        "id": "twRYTOISFGT4",
        "outputId": "6c74cf4b-cd2f-4d41-915c-148000a5c13a"
      },
      "outputs": [
        {
          "data": {
            "application/vnd.google.colaboratory.intrinsic+json": {
              "summary": "{\n  \"name\": \"df\",\n  \"rows\": 5600,\n  \"fields\": [\n    {\n      \"column\": \"title\",\n      \"properties\": {\n        \"dtype\": \"category\",\n        \"num_unique_values\": 697,\n        \"samples\": [\n          \"How to end fwb arrangement? \",\n          \"Important: Paywalls\",\n          \"[L] I would like someone to hear me rant\"\n        ],\n        \"semantic_type\": \"\",\n        \"description\": \"\"\n      }\n    },\n    {\n      \"column\": \"selftext\",\n      \"properties\": {\n        \"dtype\": \"category\",\n        \"num_unique_values\": 569,\n        \"samples\": [\n          \"Today started off a little dangerous. I woke up at what I thought would be a great time. Let's just say it was not the best time. I got ready and made my cousin's spare bed. I gathered my things and raced out the door since I saw snowfall. Snowfall means bad roads and bad roads are never fun for no one. I walked down the driveway and ended up falling on my butt at one point due to the snow. It wasn't my proudest moment but it happens to the best of us. Later in the day my side hurt and I was wondering why and couldn't think of anything until I remembered what had occurred that morning. It was quite funny to me though. I drove into work and the one light that I came across I almost went through due to how bad the road and my tires were and the brakes not being ready for it. I didn't but it was an experience to say the least. I got to work safely and went in to make money towards the tires. Dollar by dollar and soon enough I'll have enough. Work was extremely busy and I loved it. I loved interacting with the customers and talking to them. I loved wishing them a happy holiday. Some coworkers wanted me to do every customer despite being busy with other stuff as well. The new coworker tried to do whatever she could to just avoid it and the boss's girlfriend glared at me despite doing nothing when a customer would come in. It was silly but I enjoyed the customers so I made the best of it and I got tipped more for it. We had a small celebration in the sense one coworker brought a breakfast pizza from this awesome pizzeria and other treats. I was excited about the pizza. I also decided starting today I would be wary of what I eat but for the holidays I'm going to stop counting calories specifically. I'm good at judging what I eat now and won't go overboard except maybe a little bit on the Eve's. I'll start back up once a few days into the new year and all leftovers are gone. I don't even want to eat too many carbs on many days because it makes me feel bloated and tired. The lack of calorie counting is mostly to give me a break and still enjoy that I'm doing this and appreciate the process I'm going through. I've been working hard and allowing myself to enjoy all the holidays and the treats I make is the least I can do. Besides that, my favorite customer interaction of the day was one who told me he was going around for music and we talked about our trips to one of the states I visited and he had visited there as well. We had a good conversation about different places to see and he then tipped me really well. It was a really nice interaction and I appreciated how he treated me. After work my coworker's husband had called me. I thought maybe he needed to reach her and couldn't. He actually wanted to talk to me about data transfer on his PS5 and it felt pretty cool I was the first person he would reach out to. We talked for a bit about the issue and then about work. It was a nice conversation and I wasn't really expecting a call from him since he was also my old boss. I can't complain though because talking to people I care about is always nice. After that was time for the gym and it was leg day all the way. Problem was the conversation took a little too long and the gym closed early. I did all my sets but had little resting time. I feel that I will probably be sore tomorrow. Here was my workout:\\n\\nSmith machine with 1 exercise:\\n\\nRomanian Deadlifts:\\nReps of 10 8 6 with weight increasing by 10 each time to be just the bar at 20 lbs +20 lbs, +40 lbs, +50 lbs\\n\\nSeated leg press:\\nReps of 10 8 6 with weight typically increasing by 5 each time to be 95, 100, and 105\\n\\nNote: Did 35 40 45 at the end of each set only doing one leg 4 times each\\n\\nSeated leg curl: \\nReps of 10 8 4 with weight increasing by 5 each time to be 80 90 and 95\\n\\nLeg extension:\\nReps of 8 6 4 with weight increasing by 5 each time to be 100, 105, and 110 pounds\\n\\nHip adduction:\\nReps of 10 8 6 with weight increasing by 5 each time to be 110, 115, and 120\\n\\n15 minutes of the stair stepper. I upped how fast it went after 10 minutes from 44 steps per minute to 60.\\n\\nAfter the gym was ingredient gathering time for the baked goods. I got what I need for the next day. My plan for when I got home was to be as busy as possible. Instead I honestly just needed to lay down. My sleep schedule got messed up and I was so freaking tired from working, working out, and figuring out my ingredients. I just needed some resting time and I gave myself it. The end of the night was pretty mellow and I had a great day. \\n\\nSBIST was how busy the shop at work was. It felt crazy with how much movement I was able to do today. It has felt dead since I came back but Christmas has revitalized it. I was moving everywhere in order to help customers and trying to take over when I could since some of my coworkers were doing what they could do to avoid helping customers. I wish it weren't that way but more for me to help and love doing. Even the bad customers give me a learning experience with how to deal with people. I loved being able to not feel like I had a second break. It's much better than the days where I am finding anything to do. I like working where I feel like I am needed and today felt like that. \\n\\nI hope tomorrow is another busy day at work. If it isn't, then it will be a busy day at home. I have to do my Christmas baking. I am baking lemon bars for the family who don't care for cheesecake and making triple chocolate muffins for my uncle's gift. Every year now that everybody is old enough, we each get a random person in the family to make or buy gifts for. It used to be just to make gifts but people hated doing it. I wish it still was that since I always made mine and loved getting things made for me but I understand. Last year my great aunt requested me despite it being against the rules and this year my aunt requested me. It still feels weird for once for people to want to have me but it fills me with happiness more and more knowing I feel more wanted. Christmas is special to me which is why I only like celebrating the week of it happening. I want it to feel special during that week rather than feeling drawn out. Christmas spirit and its baking shall make this week great. Thank you my conjurers of the light snow. You provide beauty without making my car want to kill me. \\n\",\n          \"felt like I\\u2019d never get out of it but happy I was able to restart and get it right \",\n          \"So I (22F) have been having problems with my siblings (24F & 20FtM) since about last year because I'm physically unable to do house chores.\\n\\nLet me preface this by explaining our dynamics. We live with our parents while we go to college because is financially impossible to move out. We're not from the US and even though my parents are kinda difficult, I barely have to deal with them. \\n\\nMy parents used to be divorced and my father used to pay child support for us (I'm my country, you have to pay child support up to 24 yo if the child is studying). Instead of stoping the child support, my parents decided in 2023 to pay the support to us so we'd manage the bills of the house household, in a way that makes us work around bills and have financial responsibility. This is involved with the problem, but it's not the core of it.\\n\\nAll three of us siblings are in college, all os us are having to pay a certain amount of money into it and all the three of us are doing payed internships right now,  so theoretically, our house chores should be split three ways, right?\\n\\nThe problems were:\\n\\n1\\u00b0:  In 2020, I had cancer and had to remove my ovary. I deal with chronic pain ever since and have been going to physical therapy, but it's not resolved. I can't do certain movements without feeling extreme pain. \\n\\n2\\u00b0: my college is significantly more expensive than my siblings colleges because of the kinda course I choosed (I'm in the engineering sphere), I pay literally 3\\u00d7 more than my brother.\\n\\n3\\u00b0: I'm the only one who has to go out. Both of my siblings do online classes and work from home (my sister has to go to the office two to three time a week) while I work in the office 5\\u00d7 a week and have night classes, so I go out of the home 8am and get back home at 11pm.\\n\\n4\\u00b0: we're payed more or less the same in our internships. With benefits, my brother is the one who has the biggest pay.\\n\\n5\\u00b0: no matter how hard I try, I never clean enough to their satisfaction. I don't know if it's a problem with instructions (I'm autistic) or maybe something else entirely, but I never do the things in the way that they want and we've got in fights about it before.\\n\\nConsidering all of this, we decided that I would pay contribute more to bills. I pay about 500$ more than them, even while my college is more expensive.\\n\\nI've got kinda angry and bitter with my siblings because all of this, so I've been keeping my distance amd focusing completely in classes into a point that I'm actually the one who has been representing my course. I'm the president of the academic center and I'm into a big scientific project. This took even more of my time, since I have been really busy at the weekends (when I usually was free).\\n\\nWell, we're at a college break right now and my siblings started pushing me to do more house chores. I cook for everyone when I feel like it and do the shopping because I like it, but I have been avoiding doing more. I clean after myself, but I'm not going out of my way to contribute more, specially because I still keep paying the bigger share even while at home. They're kinda getting passive aggressive now.\\n\\nI don't know if I'm wrong in this. I still am kinda distant with my siblings because I feel like I have to be useful or I'm not even considered. Maybe I'm being a drama queen, but I was exhausted before I even took more at college and after it, when I'm home I'm usually asleep. Hell, I barely had time to clean my clothes because I wasn't physically home. But I feel I'm driving a wedge between us an I love my siblings, I feel that's all my fault.\\n\\nTL;DR: I pay a bigger share of the bills because I'm barely at home to do house chores, but now at the college break my siblings want me to do them even though I'm still paying. I'm refusing, but I'm feeling bad because I feel that I'm driving a wedge between us.\"\n        ],\n        \"semantic_type\": \"\",\n        \"description\": \"\"\n      }\n    },\n    {\n      \"column\": \"created_utc\",\n      \"properties\": {\n        \"dtype\": \"number\",\n        \"std\": 432429.3251510096,\n        \"min\": 1730132045.0,\n        \"max\": 1735001970.0,\n        \"num_unique_values\": 699,\n        \"samples\": [\n          1734890223.0,\n          1730983443.0,\n          1733895939.0\n        ],\n        \"semantic_type\": \"\",\n        \"description\": \"\"\n      }\n    },\n    {\n      \"column\": \"author\",\n      \"properties\": {\n        \"dtype\": \"category\",\n        \"num_unique_values\": 619,\n        \"samples\": [\n          \"Imaginary_Sand_3597\",\n          \"strokinandvibing\",\n          \"evelynhazelnut\"\n        ],\n        \"semantic_type\": \"\",\n        \"description\": \"\"\n      }\n    },\n    {\n      \"column\": \"subreddit\",\n      \"properties\": {\n        \"dtype\": \"category\",\n        \"num_unique_values\": 7,\n        \"samples\": [\n          \"happy\",\n          \"relationships\",\n          \"UpliftingNews\"\n        ],\n        \"semantic_type\": \"\",\n        \"description\": \"\"\n      }\n    },\n    {\n      \"column\": \"new_title\",\n      \"properties\": {\n        \"dtype\": \"category\",\n        \"num_unique_values\": 697,\n        \"samples\": [\n          \"How end fwb arrangement?\",\n          \"Important: Paywalls\",\n          \"I would like someone hear rant\"\n        ],\n        \"semantic_type\": \"\",\n        \"description\": \"\"\n      }\n    }\n  ]\n}",
              "type": "dataframe",
              "variable_name": "df"
            },
            "text/html": [
              "\n",
              "  <div id=\"df-5b09cd57-748d-454f-92cf-94fd7b3fd428\" class=\"colab-df-container\">\n",
              "    <div>\n",
              "<style scoped>\n",
              "    .dataframe tbody tr th:only-of-type {\n",
              "        vertical-align: middle;\n",
              "    }\n",
              "\n",
              "    .dataframe tbody tr th {\n",
              "        vertical-align: top;\n",
              "    }\n",
              "\n",
              "    .dataframe thead th {\n",
              "        text-align: right;\n",
              "    }\n",
              "</style>\n",
              "<table border=\"1\" class=\"dataframe\">\n",
              "  <thead>\n",
              "    <tr style=\"text-align: right;\">\n",
              "      <th></th>\n",
              "      <th>title</th>\n",
              "      <th>selftext</th>\n",
              "      <th>created_utc</th>\n",
              "      <th>author</th>\n",
              "      <th>subreddit</th>\n",
              "      <th>new_title</th>\n",
              "    </tr>\n",
              "  </thead>\n",
              "  <tbody>\n",
              "    <tr>\n",
              "      <th>0</th>\n",
              "      <td>Spent the past 19 years of my life in the mili...</td>\n",
              "      <td>NaN</td>\n",
              "      <td>1.734963e+09</td>\n",
              "      <td>Savings_Response_173</td>\n",
              "      <td>happy</td>\n",
              "      <td>Spent past 19 year life military. Happy say on...</td>\n",
              "    </tr>\n",
              "    <tr>\n",
              "      <th>1</th>\n",
              "      <td>I baked some apple pies to gift to friends for...</td>\n",
              "      <td>NaN</td>\n",
              "      <td>1.734982e+09</td>\n",
              "      <td>AmbitiousQuirk</td>\n",
              "      <td>happy</td>\n",
              "      <td>I baked apple pie gift friend Christmas.</td>\n",
              "    </tr>\n",
              "    <tr>\n",
              "      <th>2</th>\n",
              "      <td>all this food donated to me by the local churc...</td>\n",
              "      <td>much more extensive than previous years, they ...</td>\n",
              "      <td>1.734950e+09</td>\n",
              "      <td>Open_Ad_1201</td>\n",
              "      <td>happy</td>\n",
              "      <td>food donated local church spirit Christmas</td>\n",
              "    </tr>\n",
              "    <tr>\n",
              "      <th>3</th>\n",
              "      <td>Ik its not a crazy physique, but considering I...</td>\n",
              "      <td>NaN</td>\n",
              "      <td>1.734989e+09</td>\n",
              "      <td>That-Range-8045</td>\n",
              "      <td>happy</td>\n",
              "      <td>Ik crazy physique, considering I pectus excava...</td>\n",
              "    </tr>\n",
              "    <tr>\n",
              "      <th>4</th>\n",
              "      <td>Was told my credit score went up. So happy I w...</td>\n",
              "      <td>NaN</td>\n",
              "      <td>1.734967e+09</td>\n",
              "      <td>Alchemist_Joshua</td>\n",
              "      <td>happy</td>\n",
              "      <td>Was told credit score went up. So happy I able...</td>\n",
              "    </tr>\n",
              "    <tr>\n",
              "      <th>...</th>\n",
              "      <td>...</td>\n",
              "      <td>...</td>\n",
              "      <td>...</td>\n",
              "      <td>...</td>\n",
              "      <td>...</td>\n",
              "      <td>...</td>\n",
              "    </tr>\n",
              "    <tr>\n",
              "      <th>5595</th>\n",
              "      <td>What movies had an impact on you?</td>\n",
              "      <td>Something i love about movies is how inspiring...</td>\n",
              "      <td>1.734850e+09</td>\n",
              "      <td>Marvelous_mm88</td>\n",
              "      <td>CasualConversation</td>\n",
              "      <td>What movie impact you?</td>\n",
              "    </tr>\n",
              "    <tr>\n",
              "      <th>5596</th>\n",
              "      <td>Reddit is truly a wonderful place!</td>\n",
              "      <td>For a bit of context, I’m autistic. The other ...</td>\n",
              "      <td>1.734822e+09</td>\n",
              "      <td>TheGirlWithTheLove</td>\n",
              "      <td>CasualConversation</td>\n",
              "      <td>Reddit truly wonderful place!</td>\n",
              "    </tr>\n",
              "    <tr>\n",
              "      <th>5597</th>\n",
              "      <td>Fast food</td>\n",
              "      <td>I have given up Chinese takeout like 4 nights ...</td>\n",
              "      <td>1.734897e+09</td>\n",
              "      <td>Lukexxxxy</td>\n",
              "      <td>CasualConversation</td>\n",
              "      <td>Fast food</td>\n",
              "    </tr>\n",
              "    <tr>\n",
              "      <th>5598</th>\n",
              "      <td>Does anyone else feel personally attacked when...</td>\n",
              "      <td>Lol there’s nothing worse than lying in bed, m...</td>\n",
              "      <td>1.734810e+09</td>\n",
              "      <td>soobiepookie19</td>\n",
              "      <td>CasualConversation</td>\n",
              "      <td>Does anyone else feel personally attacked phon...</td>\n",
              "    </tr>\n",
              "    <tr>\n",
              "      <th>5599</th>\n",
              "      <td>How to be mentally, emotionally and physically...</td>\n",
              "      <td>exercising your core values. setting up achiev...</td>\n",
              "      <td>1.734909e+09</td>\n",
              "      <td>DevelopmentFinal9494</td>\n",
              "      <td>CasualConversation</td>\n",
              "      <td>How mentally, emotionally physically strong?</td>\n",
              "    </tr>\n",
              "  </tbody>\n",
              "</table>\n",
              "<p>5600 rows × 6 columns</p>\n",
              "</div>\n",
              "    <div class=\"colab-df-buttons\">\n",
              "\n",
              "  <div class=\"colab-df-container\">\n",
              "    <button class=\"colab-df-convert\" onclick=\"convertToInteractive('df-5b09cd57-748d-454f-92cf-94fd7b3fd428')\"\n",
              "            title=\"Convert this dataframe to an interactive table.\"\n",
              "            style=\"display:none;\">\n",
              "\n",
              "  <svg xmlns=\"http://www.w3.org/2000/svg\" height=\"24px\" viewBox=\"0 -960 960 960\">\n",
              "    <path d=\"M120-120v-720h720v720H120Zm60-500h600v-160H180v160Zm220 220h160v-160H400v160Zm0 220h160v-160H400v160ZM180-400h160v-160H180v160Zm440 0h160v-160H620v160ZM180-180h160v-160H180v160Zm440 0h160v-160H620v160Z\"/>\n",
              "  </svg>\n",
              "    </button>\n",
              "\n",
              "  <style>\n",
              "    .colab-df-container {\n",
              "      display:flex;\n",
              "      gap: 12px;\n",
              "    }\n",
              "\n",
              "    .colab-df-convert {\n",
              "      background-color: #E8F0FE;\n",
              "      border: none;\n",
              "      border-radius: 50%;\n",
              "      cursor: pointer;\n",
              "      display: none;\n",
              "      fill: #1967D2;\n",
              "      height: 32px;\n",
              "      padding: 0 0 0 0;\n",
              "      width: 32px;\n",
              "    }\n",
              "\n",
              "    .colab-df-convert:hover {\n",
              "      background-color: #E2EBFA;\n",
              "      box-shadow: 0px 1px 2px rgba(60, 64, 67, 0.3), 0px 1px 3px 1px rgba(60, 64, 67, 0.15);\n",
              "      fill: #174EA6;\n",
              "    }\n",
              "\n",
              "    .colab-df-buttons div {\n",
              "      margin-bottom: 4px;\n",
              "    }\n",
              "\n",
              "    [theme=dark] .colab-df-convert {\n",
              "      background-color: #3B4455;\n",
              "      fill: #D2E3FC;\n",
              "    }\n",
              "\n",
              "    [theme=dark] .colab-df-convert:hover {\n",
              "      background-color: #434B5C;\n",
              "      box-shadow: 0px 1px 3px 1px rgba(0, 0, 0, 0.15);\n",
              "      filter: drop-shadow(0px 1px 2px rgba(0, 0, 0, 0.3));\n",
              "      fill: #FFFFFF;\n",
              "    }\n",
              "  </style>\n",
              "\n",
              "    <script>\n",
              "      const buttonEl =\n",
              "        document.querySelector('#df-5b09cd57-748d-454f-92cf-94fd7b3fd428 button.colab-df-convert');\n",
              "      buttonEl.style.display =\n",
              "        google.colab.kernel.accessAllowed ? 'block' : 'none';\n",
              "\n",
              "      async function convertToInteractive(key) {\n",
              "        const element = document.querySelector('#df-5b09cd57-748d-454f-92cf-94fd7b3fd428');\n",
              "        const dataTable =\n",
              "          await google.colab.kernel.invokeFunction('convertToInteractive',\n",
              "                                                    [key], {});\n",
              "        if (!dataTable) return;\n",
              "\n",
              "        const docLinkHtml = 'Like what you see? Visit the ' +\n",
              "          '<a target=\"_blank\" href=https://colab.research.google.com/notebooks/data_table.ipynb>data table notebook</a>'\n",
              "          + ' to learn more about interactive tables.';\n",
              "        element.innerHTML = '';\n",
              "        dataTable['output_type'] = 'display_data';\n",
              "        await google.colab.output.renderOutput(dataTable, element);\n",
              "        const docLink = document.createElement('div');\n",
              "        docLink.innerHTML = docLinkHtml;\n",
              "        element.appendChild(docLink);\n",
              "      }\n",
              "    </script>\n",
              "  </div>\n",
              "\n",
              "\n",
              "<div id=\"df-05e6b93a-41f5-4db1-8725-6502a2c17932\">\n",
              "  <button class=\"colab-df-quickchart\" onclick=\"quickchart('df-05e6b93a-41f5-4db1-8725-6502a2c17932')\"\n",
              "            title=\"Suggest charts\"\n",
              "            style=\"display:none;\">\n",
              "\n",
              "<svg xmlns=\"http://www.w3.org/2000/svg\" height=\"24px\"viewBox=\"0 0 24 24\"\n",
              "     width=\"24px\">\n",
              "    <g>\n",
              "        <path d=\"M19 3H5c-1.1 0-2 .9-2 2v14c0 1.1.9 2 2 2h14c1.1 0 2-.9 2-2V5c0-1.1-.9-2-2-2zM9 17H7v-7h2v7zm4 0h-2V7h2v10zm4 0h-2v-4h2v4z\"/>\n",
              "    </g>\n",
              "</svg>\n",
              "  </button>\n",
              "\n",
              "<style>\n",
              "  .colab-df-quickchart {\n",
              "      --bg-color: #E8F0FE;\n",
              "      --fill-color: #1967D2;\n",
              "      --hover-bg-color: #E2EBFA;\n",
              "      --hover-fill-color: #174EA6;\n",
              "      --disabled-fill-color: #AAA;\n",
              "      --disabled-bg-color: #DDD;\n",
              "  }\n",
              "\n",
              "  [theme=dark] .colab-df-quickchart {\n",
              "      --bg-color: #3B4455;\n",
              "      --fill-color: #D2E3FC;\n",
              "      --hover-bg-color: #434B5C;\n",
              "      --hover-fill-color: #FFFFFF;\n",
              "      --disabled-bg-color: #3B4455;\n",
              "      --disabled-fill-color: #666;\n",
              "  }\n",
              "\n",
              "  .colab-df-quickchart {\n",
              "    background-color: var(--bg-color);\n",
              "    border: none;\n",
              "    border-radius: 50%;\n",
              "    cursor: pointer;\n",
              "    display: none;\n",
              "    fill: var(--fill-color);\n",
              "    height: 32px;\n",
              "    padding: 0;\n",
              "    width: 32px;\n",
              "  }\n",
              "\n",
              "  .colab-df-quickchart:hover {\n",
              "    background-color: var(--hover-bg-color);\n",
              "    box-shadow: 0 1px 2px rgba(60, 64, 67, 0.3), 0 1px 3px 1px rgba(60, 64, 67, 0.15);\n",
              "    fill: var(--button-hover-fill-color);\n",
              "  }\n",
              "\n",
              "  .colab-df-quickchart-complete:disabled,\n",
              "  .colab-df-quickchart-complete:disabled:hover {\n",
              "    background-color: var(--disabled-bg-color);\n",
              "    fill: var(--disabled-fill-color);\n",
              "    box-shadow: none;\n",
              "  }\n",
              "\n",
              "  .colab-df-spinner {\n",
              "    border: 2px solid var(--fill-color);\n",
              "    border-color: transparent;\n",
              "    border-bottom-color: var(--fill-color);\n",
              "    animation:\n",
              "      spin 1s steps(1) infinite;\n",
              "  }\n",
              "\n",
              "  @keyframes spin {\n",
              "    0% {\n",
              "      border-color: transparent;\n",
              "      border-bottom-color: var(--fill-color);\n",
              "      border-left-color: var(--fill-color);\n",
              "    }\n",
              "    20% {\n",
              "      border-color: transparent;\n",
              "      border-left-color: var(--fill-color);\n",
              "      border-top-color: var(--fill-color);\n",
              "    }\n",
              "    30% {\n",
              "      border-color: transparent;\n",
              "      border-left-color: var(--fill-color);\n",
              "      border-top-color: var(--fill-color);\n",
              "      border-right-color: var(--fill-color);\n",
              "    }\n",
              "    40% {\n",
              "      border-color: transparent;\n",
              "      border-right-color: var(--fill-color);\n",
              "      border-top-color: var(--fill-color);\n",
              "    }\n",
              "    60% {\n",
              "      border-color: transparent;\n",
              "      border-right-color: var(--fill-color);\n",
              "    }\n",
              "    80% {\n",
              "      border-color: transparent;\n",
              "      border-right-color: var(--fill-color);\n",
              "      border-bottom-color: var(--fill-color);\n",
              "    }\n",
              "    90% {\n",
              "      border-color: transparent;\n",
              "      border-bottom-color: var(--fill-color);\n",
              "    }\n",
              "  }\n",
              "</style>\n",
              "\n",
              "  <script>\n",
              "    async function quickchart(key) {\n",
              "      const quickchartButtonEl =\n",
              "        document.querySelector('#' + key + ' button');\n",
              "      quickchartButtonEl.disabled = true;  // To prevent multiple clicks.\n",
              "      quickchartButtonEl.classList.add('colab-df-spinner');\n",
              "      try {\n",
              "        const charts = await google.colab.kernel.invokeFunction(\n",
              "            'suggestCharts', [key], {});\n",
              "      } catch (error) {\n",
              "        console.error('Error during call to suggestCharts:', error);\n",
              "      }\n",
              "      quickchartButtonEl.classList.remove('colab-df-spinner');\n",
              "      quickchartButtonEl.classList.add('colab-df-quickchart-complete');\n",
              "    }\n",
              "    (() => {\n",
              "      let quickchartButtonEl =\n",
              "        document.querySelector('#df-05e6b93a-41f5-4db1-8725-6502a2c17932 button');\n",
              "      quickchartButtonEl.style.display =\n",
              "        google.colab.kernel.accessAllowed ? 'block' : 'none';\n",
              "    })();\n",
              "  </script>\n",
              "</div>\n",
              "\n",
              "  <div id=\"id_b80e80ae-d996-4596-bc38-7cdd4b4a5e9a\">\n",
              "    <style>\n",
              "      .colab-df-generate {\n",
              "        background-color: #E8F0FE;\n",
              "        border: none;\n",
              "        border-radius: 50%;\n",
              "        cursor: pointer;\n",
              "        display: none;\n",
              "        fill: #1967D2;\n",
              "        height: 32px;\n",
              "        padding: 0 0 0 0;\n",
              "        width: 32px;\n",
              "      }\n",
              "\n",
              "      .colab-df-generate:hover {\n",
              "        background-color: #E2EBFA;\n",
              "        box-shadow: 0px 1px 2px rgba(60, 64, 67, 0.3), 0px 1px 3px 1px rgba(60, 64, 67, 0.15);\n",
              "        fill: #174EA6;\n",
              "      }\n",
              "\n",
              "      [theme=dark] .colab-df-generate {\n",
              "        background-color: #3B4455;\n",
              "        fill: #D2E3FC;\n",
              "      }\n",
              "\n",
              "      [theme=dark] .colab-df-generate:hover {\n",
              "        background-color: #434B5C;\n",
              "        box-shadow: 0px 1px 3px 1px rgba(0, 0, 0, 0.15);\n",
              "        filter: drop-shadow(0px 1px 2px rgba(0, 0, 0, 0.3));\n",
              "        fill: #FFFFFF;\n",
              "      }\n",
              "    </style>\n",
              "    <button class=\"colab-df-generate\" onclick=\"generateWithVariable('df')\"\n",
              "            title=\"Generate code using this dataframe.\"\n",
              "            style=\"display:none;\">\n",
              "\n",
              "  <svg xmlns=\"http://www.w3.org/2000/svg\" height=\"24px\"viewBox=\"0 0 24 24\"\n",
              "       width=\"24px\">\n",
              "    <path d=\"M7,19H8.4L18.45,9,17,7.55,7,17.6ZM5,21V16.75L18.45,3.32a2,2,0,0,1,2.83,0l1.4,1.43a1.91,1.91,0,0,1,.58,1.4,1.91,1.91,0,0,1-.58,1.4L9.25,21ZM18.45,9,17,7.55Zm-12,3A5.31,5.31,0,0,0,4.9,8.1,5.31,5.31,0,0,0,1,6.5,5.31,5.31,0,0,0,4.9,4.9,5.31,5.31,0,0,0,6.5,1,5.31,5.31,0,0,0,8.1,4.9,5.31,5.31,0,0,0,12,6.5,5.46,5.46,0,0,0,6.5,12Z\"/>\n",
              "  </svg>\n",
              "    </button>\n",
              "    <script>\n",
              "      (() => {\n",
              "      const buttonEl =\n",
              "        document.querySelector('#id_b80e80ae-d996-4596-bc38-7cdd4b4a5e9a button.colab-df-generate');\n",
              "      buttonEl.style.display =\n",
              "        google.colab.kernel.accessAllowed ? 'block' : 'none';\n",
              "\n",
              "      buttonEl.onclick = () => {\n",
              "        google.colab.notebook.generateWithVariable('df');\n",
              "      }\n",
              "      })();\n",
              "    </script>\n",
              "  </div>\n",
              "\n",
              "    </div>\n",
              "  </div>\n"
            ],
            "text/plain": [
              "                                                  title  \\\n",
              "0     Spent the past 19 years of my life in the mili...   \n",
              "1     I baked some apple pies to gift to friends for...   \n",
              "2     all this food donated to me by the local churc...   \n",
              "3     Ik its not a crazy physique, but considering I...   \n",
              "4     Was told my credit score went up. So happy I w...   \n",
              "...                                                 ...   \n",
              "5595                 What movies had an impact on you?    \n",
              "5596                 Reddit is truly a wonderful place!   \n",
              "5597                                         Fast food    \n",
              "5598  Does anyone else feel personally attacked when...   \n",
              "5599  How to be mentally, emotionally and physically...   \n",
              "\n",
              "                                               selftext   created_utc  \\\n",
              "0                                                   NaN  1.734963e+09   \n",
              "1                                                   NaN  1.734982e+09   \n",
              "2     much more extensive than previous years, they ...  1.734950e+09   \n",
              "3                                                   NaN  1.734989e+09   \n",
              "4                                                   NaN  1.734967e+09   \n",
              "...                                                 ...           ...   \n",
              "5595  Something i love about movies is how inspiring...  1.734850e+09   \n",
              "5596  For a bit of context, I’m autistic. The other ...  1.734822e+09   \n",
              "5597  I have given up Chinese takeout like 4 nights ...  1.734897e+09   \n",
              "5598  Lol there’s nothing worse than lying in bed, m...  1.734810e+09   \n",
              "5599  exercising your core values. setting up achiev...  1.734909e+09   \n",
              "\n",
              "                    author           subreddit  \\\n",
              "0     Savings_Response_173               happy   \n",
              "1           AmbitiousQuirk               happy   \n",
              "2             Open_Ad_1201               happy   \n",
              "3          That-Range-8045               happy   \n",
              "4         Alchemist_Joshua               happy   \n",
              "...                    ...                 ...   \n",
              "5595        Marvelous_mm88  CasualConversation   \n",
              "5596    TheGirlWithTheLove  CasualConversation   \n",
              "5597             Lukexxxxy  CasualConversation   \n",
              "5598        soobiepookie19  CasualConversation   \n",
              "5599  DevelopmentFinal9494  CasualConversation   \n",
              "\n",
              "                                              new_title  \n",
              "0     Spent past 19 year life military. Happy say on...  \n",
              "1              I baked apple pie gift friend Christmas.  \n",
              "2            food donated local church spirit Christmas  \n",
              "3     Ik crazy physique, considering I pectus excava...  \n",
              "4     Was told credit score went up. So happy I able...  \n",
              "...                                                 ...  \n",
              "5595                             What movie impact you?  \n",
              "5596                      Reddit truly wonderful place!  \n",
              "5597                                          Fast food  \n",
              "5598  Does anyone else feel personally attacked phon...  \n",
              "5599       How mentally, emotionally physically strong?  \n",
              "\n",
              "[5600 rows x 6 columns]"
            ]
          },
          "execution_count": 24,
          "metadata": {},
          "output_type": "execute_result"
        }
      ],
      "source": [
        "df"
      ]
    },
    {
      "cell_type": "code",
      "execution_count": null,
      "metadata": {
        "colab": {
          "base_uri": "https://localhost:8080/",
          "height": 423
        },
        "id": "6DVD0vsHGeut",
        "outputId": "6eea6d56-9526-41ce-e89d-560c3ca39663"
      },
      "outputs": [
        {
          "data": {
            "application/vnd.google.colaboratory.intrinsic+json": {
              "summary": "{\n  \"name\": \"data\",\n  \"rows\": 13247,\n  \"fields\": [\n    {\n      \"column\": \"new_title\",\n      \"properties\": {\n        \"dtype\": \"string\",\n        \"num_unique_values\": 10622,\n        \"samples\": [\n          \"Wife told first born mine.\",\n          \"I quit therapy stopped taking med\",\n          \"My friend went friend last night mistreated guy. She stop crying, I help?\"\n        ],\n        \"semantic_type\": \"\",\n        \"description\": \"\"\n      }\n    }\n  ]\n}",
              "type": "dataframe",
              "variable_name": "data"
            },
            "text/html": [
              "\n",
              "  <div id=\"df-14fb9a1e-cbf1-4fc6-ae83-bbb84387522a\" class=\"colab-df-container\">\n",
              "    <div>\n",
              "<style scoped>\n",
              "    .dataframe tbody tr th:only-of-type {\n",
              "        vertical-align: middle;\n",
              "    }\n",
              "\n",
              "    .dataframe tbody tr th {\n",
              "        vertical-align: top;\n",
              "    }\n",
              "\n",
              "    .dataframe thead th {\n",
              "        text-align: right;\n",
              "    }\n",
              "</style>\n",
              "<table border=\"1\" class=\"dataframe\">\n",
              "  <thead>\n",
              "    <tr style=\"text-align: right;\">\n",
              "      <th></th>\n",
              "      <th>new_title</th>\n",
              "    </tr>\n",
              "  </thead>\n",
              "  <tbody>\n",
              "    <tr>\n",
              "      <th>0</th>\n",
              "      <td>Is considered domestic violence?</td>\n",
              "    </tr>\n",
              "    <tr>\n",
              "      <th>1</th>\n",
              "      <td>My family expects (30F) leave family (and smal...</td>\n",
              "    </tr>\n",
              "    <tr>\n",
              "      <th>2</th>\n",
              "      <td>My boyfriend got arrested domestic violence ch...</td>\n",
              "    </tr>\n",
              "    <tr>\n",
              "      <th>3</th>\n",
              "      <td>Me BF 3 years, parent want see bank statements.</td>\n",
              "    </tr>\n",
              "    <tr>\n",
              "      <th>4</th>\n",
              "      <td>Last night (25F) boyfriend 6 month (30M) told ...</td>\n",
              "    </tr>\n",
              "    <tr>\n",
              "      <th>...</th>\n",
              "      <td>...</td>\n",
              "    </tr>\n",
              "    <tr>\n",
              "      <th>13242</th>\n",
              "      <td>What worst relationship advice ever seen given...</td>\n",
              "    </tr>\n",
              "    <tr>\n",
              "      <th>13243</th>\n",
              "      <td>Do believe love important thing relationship?</td>\n",
              "    </tr>\n",
              "    <tr>\n",
              "      <th>13244</th>\n",
              "      <td>Why many woman love story Twilight 50 shade gr...</td>\n",
              "    </tr>\n",
              "    <tr>\n",
              "      <th>13245</th>\n",
              "      <td>What small thing silently judge prospective ro...</td>\n",
              "    </tr>\n",
              "    <tr>\n",
              "      <th>13246</th>\n",
              "      <td>Women Reddit, keep happiness based someone els...</td>\n",
              "    </tr>\n",
              "  </tbody>\n",
              "</table>\n",
              "<p>13247 rows × 1 columns</p>\n",
              "</div>\n",
              "    <div class=\"colab-df-buttons\">\n",
              "\n",
              "  <div class=\"colab-df-container\">\n",
              "    <button class=\"colab-df-convert\" onclick=\"convertToInteractive('df-14fb9a1e-cbf1-4fc6-ae83-bbb84387522a')\"\n",
              "            title=\"Convert this dataframe to an interactive table.\"\n",
              "            style=\"display:none;\">\n",
              "\n",
              "  <svg xmlns=\"http://www.w3.org/2000/svg\" height=\"24px\" viewBox=\"0 -960 960 960\">\n",
              "    <path d=\"M120-120v-720h720v720H120Zm60-500h600v-160H180v160Zm220 220h160v-160H400v160Zm0 220h160v-160H400v160ZM180-400h160v-160H180v160Zm440 0h160v-160H620v160ZM180-180h160v-160H180v160Zm440 0h160v-160H620v160Z\"/>\n",
              "  </svg>\n",
              "    </button>\n",
              "\n",
              "  <style>\n",
              "    .colab-df-container {\n",
              "      display:flex;\n",
              "      gap: 12px;\n",
              "    }\n",
              "\n",
              "    .colab-df-convert {\n",
              "      background-color: #E8F0FE;\n",
              "      border: none;\n",
              "      border-radius: 50%;\n",
              "      cursor: pointer;\n",
              "      display: none;\n",
              "      fill: #1967D2;\n",
              "      height: 32px;\n",
              "      padding: 0 0 0 0;\n",
              "      width: 32px;\n",
              "    }\n",
              "\n",
              "    .colab-df-convert:hover {\n",
              "      background-color: #E2EBFA;\n",
              "      box-shadow: 0px 1px 2px rgba(60, 64, 67, 0.3), 0px 1px 3px 1px rgba(60, 64, 67, 0.15);\n",
              "      fill: #174EA6;\n",
              "    }\n",
              "\n",
              "    .colab-df-buttons div {\n",
              "      margin-bottom: 4px;\n",
              "    }\n",
              "\n",
              "    [theme=dark] .colab-df-convert {\n",
              "      background-color: #3B4455;\n",
              "      fill: #D2E3FC;\n",
              "    }\n",
              "\n",
              "    [theme=dark] .colab-df-convert:hover {\n",
              "      background-color: #434B5C;\n",
              "      box-shadow: 0px 1px 3px 1px rgba(0, 0, 0, 0.15);\n",
              "      filter: drop-shadow(0px 1px 2px rgba(0, 0, 0, 0.3));\n",
              "      fill: #FFFFFF;\n",
              "    }\n",
              "  </style>\n",
              "\n",
              "    <script>\n",
              "      const buttonEl =\n",
              "        document.querySelector('#df-14fb9a1e-cbf1-4fc6-ae83-bbb84387522a button.colab-df-convert');\n",
              "      buttonEl.style.display =\n",
              "        google.colab.kernel.accessAllowed ? 'block' : 'none';\n",
              "\n",
              "      async function convertToInteractive(key) {\n",
              "        const element = document.querySelector('#df-14fb9a1e-cbf1-4fc6-ae83-bbb84387522a');\n",
              "        const dataTable =\n",
              "          await google.colab.kernel.invokeFunction('convertToInteractive',\n",
              "                                                    [key], {});\n",
              "        if (!dataTable) return;\n",
              "\n",
              "        const docLinkHtml = 'Like what you see? Visit the ' +\n",
              "          '<a target=\"_blank\" href=https://colab.research.google.com/notebooks/data_table.ipynb>data table notebook</a>'\n",
              "          + ' to learn more about interactive tables.';\n",
              "        element.innerHTML = '';\n",
              "        dataTable['output_type'] = 'display_data';\n",
              "        await google.colab.output.renderOutput(dataTable, element);\n",
              "        const docLink = document.createElement('div');\n",
              "        docLink.innerHTML = docLinkHtml;\n",
              "        element.appendChild(docLink);\n",
              "      }\n",
              "    </script>\n",
              "  </div>\n",
              "\n",
              "\n",
              "<div id=\"df-4d15b4dd-302c-457a-80bb-d14385ac64eb\">\n",
              "  <button class=\"colab-df-quickchart\" onclick=\"quickchart('df-4d15b4dd-302c-457a-80bb-d14385ac64eb')\"\n",
              "            title=\"Suggest charts\"\n",
              "            style=\"display:none;\">\n",
              "\n",
              "<svg xmlns=\"http://www.w3.org/2000/svg\" height=\"24px\"viewBox=\"0 0 24 24\"\n",
              "     width=\"24px\">\n",
              "    <g>\n",
              "        <path d=\"M19 3H5c-1.1 0-2 .9-2 2v14c0 1.1.9 2 2 2h14c1.1 0 2-.9 2-2V5c0-1.1-.9-2-2-2zM9 17H7v-7h2v7zm4 0h-2V7h2v10zm4 0h-2v-4h2v4z\"/>\n",
              "    </g>\n",
              "</svg>\n",
              "  </button>\n",
              "\n",
              "<style>\n",
              "  .colab-df-quickchart {\n",
              "      --bg-color: #E8F0FE;\n",
              "      --fill-color: #1967D2;\n",
              "      --hover-bg-color: #E2EBFA;\n",
              "      --hover-fill-color: #174EA6;\n",
              "      --disabled-fill-color: #AAA;\n",
              "      --disabled-bg-color: #DDD;\n",
              "  }\n",
              "\n",
              "  [theme=dark] .colab-df-quickchart {\n",
              "      --bg-color: #3B4455;\n",
              "      --fill-color: #D2E3FC;\n",
              "      --hover-bg-color: #434B5C;\n",
              "      --hover-fill-color: #FFFFFF;\n",
              "      --disabled-bg-color: #3B4455;\n",
              "      --disabled-fill-color: #666;\n",
              "  }\n",
              "\n",
              "  .colab-df-quickchart {\n",
              "    background-color: var(--bg-color);\n",
              "    border: none;\n",
              "    border-radius: 50%;\n",
              "    cursor: pointer;\n",
              "    display: none;\n",
              "    fill: var(--fill-color);\n",
              "    height: 32px;\n",
              "    padding: 0;\n",
              "    width: 32px;\n",
              "  }\n",
              "\n",
              "  .colab-df-quickchart:hover {\n",
              "    background-color: var(--hover-bg-color);\n",
              "    box-shadow: 0 1px 2px rgba(60, 64, 67, 0.3), 0 1px 3px 1px rgba(60, 64, 67, 0.15);\n",
              "    fill: var(--button-hover-fill-color);\n",
              "  }\n",
              "\n",
              "  .colab-df-quickchart-complete:disabled,\n",
              "  .colab-df-quickchart-complete:disabled:hover {\n",
              "    background-color: var(--disabled-bg-color);\n",
              "    fill: var(--disabled-fill-color);\n",
              "    box-shadow: none;\n",
              "  }\n",
              "\n",
              "  .colab-df-spinner {\n",
              "    border: 2px solid var(--fill-color);\n",
              "    border-color: transparent;\n",
              "    border-bottom-color: var(--fill-color);\n",
              "    animation:\n",
              "      spin 1s steps(1) infinite;\n",
              "  }\n",
              "\n",
              "  @keyframes spin {\n",
              "    0% {\n",
              "      border-color: transparent;\n",
              "      border-bottom-color: var(--fill-color);\n",
              "      border-left-color: var(--fill-color);\n",
              "    }\n",
              "    20% {\n",
              "      border-color: transparent;\n",
              "      border-left-color: var(--fill-color);\n",
              "      border-top-color: var(--fill-color);\n",
              "    }\n",
              "    30% {\n",
              "      border-color: transparent;\n",
              "      border-left-color: var(--fill-color);\n",
              "      border-top-color: var(--fill-color);\n",
              "      border-right-color: var(--fill-color);\n",
              "    }\n",
              "    40% {\n",
              "      border-color: transparent;\n",
              "      border-right-color: var(--fill-color);\n",
              "      border-top-color: var(--fill-color);\n",
              "    }\n",
              "    60% {\n",
              "      border-color: transparent;\n",
              "      border-right-color: var(--fill-color);\n",
              "    }\n",
              "    80% {\n",
              "      border-color: transparent;\n",
              "      border-right-color: var(--fill-color);\n",
              "      border-bottom-color: var(--fill-color);\n",
              "    }\n",
              "    90% {\n",
              "      border-color: transparent;\n",
              "      border-bottom-color: var(--fill-color);\n",
              "    }\n",
              "  }\n",
              "</style>\n",
              "\n",
              "  <script>\n",
              "    async function quickchart(key) {\n",
              "      const quickchartButtonEl =\n",
              "        document.querySelector('#' + key + ' button');\n",
              "      quickchartButtonEl.disabled = true;  // To prevent multiple clicks.\n",
              "      quickchartButtonEl.classList.add('colab-df-spinner');\n",
              "      try {\n",
              "        const charts = await google.colab.kernel.invokeFunction(\n",
              "            'suggestCharts', [key], {});\n",
              "      } catch (error) {\n",
              "        console.error('Error during call to suggestCharts:', error);\n",
              "      }\n",
              "      quickchartButtonEl.classList.remove('colab-df-spinner');\n",
              "      quickchartButtonEl.classList.add('colab-df-quickchart-complete');\n",
              "    }\n",
              "    (() => {\n",
              "      let quickchartButtonEl =\n",
              "        document.querySelector('#df-4d15b4dd-302c-457a-80bb-d14385ac64eb button');\n",
              "      quickchartButtonEl.style.display =\n",
              "        google.colab.kernel.accessAllowed ? 'block' : 'none';\n",
              "    })();\n",
              "  </script>\n",
              "</div>\n",
              "\n",
              "  <div id=\"id_9ddea691-3e93-497f-a7db-8831a8864471\">\n",
              "    <style>\n",
              "      .colab-df-generate {\n",
              "        background-color: #E8F0FE;\n",
              "        border: none;\n",
              "        border-radius: 50%;\n",
              "        cursor: pointer;\n",
              "        display: none;\n",
              "        fill: #1967D2;\n",
              "        height: 32px;\n",
              "        padding: 0 0 0 0;\n",
              "        width: 32px;\n",
              "      }\n",
              "\n",
              "      .colab-df-generate:hover {\n",
              "        background-color: #E2EBFA;\n",
              "        box-shadow: 0px 1px 2px rgba(60, 64, 67, 0.3), 0px 1px 3px 1px rgba(60, 64, 67, 0.15);\n",
              "        fill: #174EA6;\n",
              "      }\n",
              "\n",
              "      [theme=dark] .colab-df-generate {\n",
              "        background-color: #3B4455;\n",
              "        fill: #D2E3FC;\n",
              "      }\n",
              "\n",
              "      [theme=dark] .colab-df-generate:hover {\n",
              "        background-color: #434B5C;\n",
              "        box-shadow: 0px 1px 3px 1px rgba(0, 0, 0, 0.15);\n",
              "        filter: drop-shadow(0px 1px 2px rgba(0, 0, 0, 0.3));\n",
              "        fill: #FFFFFF;\n",
              "      }\n",
              "    </style>\n",
              "    <button class=\"colab-df-generate\" onclick=\"generateWithVariable('data')\"\n",
              "            title=\"Generate code using this dataframe.\"\n",
              "            style=\"display:none;\">\n",
              "\n",
              "  <svg xmlns=\"http://www.w3.org/2000/svg\" height=\"24px\"viewBox=\"0 0 24 24\"\n",
              "       width=\"24px\">\n",
              "    <path d=\"M7,19H8.4L18.45,9,17,7.55,7,17.6ZM5,21V16.75L18.45,3.32a2,2,0,0,1,2.83,0l1.4,1.43a1.91,1.91,0,0,1,.58,1.4,1.91,1.91,0,0,1-.58,1.4L9.25,21ZM18.45,9,17,7.55Zm-12,3A5.31,5.31,0,0,0,4.9,8.1,5.31,5.31,0,0,0,1,6.5,5.31,5.31,0,0,0,4.9,4.9,5.31,5.31,0,0,0,6.5,1,5.31,5.31,0,0,0,8.1,4.9,5.31,5.31,0,0,0,12,6.5,5.46,5.46,0,0,0,6.5,12Z\"/>\n",
              "  </svg>\n",
              "    </button>\n",
              "    <script>\n",
              "      (() => {\n",
              "      const buttonEl =\n",
              "        document.querySelector('#id_9ddea691-3e93-497f-a7db-8831a8864471 button.colab-df-generate');\n",
              "      buttonEl.style.display =\n",
              "        google.colab.kernel.accessAllowed ? 'block' : 'none';\n",
              "\n",
              "      buttonEl.onclick = () => {\n",
              "        google.colab.notebook.generateWithVariable('data');\n",
              "      }\n",
              "      })();\n",
              "    </script>\n",
              "  </div>\n",
              "\n",
              "    </div>\n",
              "  </div>\n"
            ],
            "text/plain": [
              "                                               new_title\n",
              "0                       Is considered domestic violence?\n",
              "1      My family expects (30F) leave family (and smal...\n",
              "2      My boyfriend got arrested domestic violence ch...\n",
              "3        Me BF 3 years, parent want see bank statements.\n",
              "4      Last night (25F) boyfriend 6 month (30M) told ...\n",
              "...                                                  ...\n",
              "13242  What worst relationship advice ever seen given...\n",
              "13243      Do believe love important thing relationship?\n",
              "13244  Why many woman love story Twilight 50 shade gr...\n",
              "13245  What small thing silently judge prospective ro...\n",
              "13246  Women Reddit, keep happiness based someone els...\n",
              "\n",
              "[13247 rows x 1 columns]"
            ]
          },
          "execution_count": 25,
          "metadata": {},
          "output_type": "execute_result"
        }
      ],
      "source": [
        "columns_to_drop = ['title', 'selftext', 'created_utc', 'author', 'subreddit']\n",
        "# Garder uniquement les colonnes existantes dans le DataFrame\n",
        "columns_to_drop = [col for col in columns_to_drop if col in data.columns]\n",
        "\n",
        "data = data.drop(columns=columns_to_drop)\n",
        "data"
      ]
    },
    {
      "cell_type": "code",
      "execution_count": null,
      "metadata": {
        "colab": {
          "base_uri": "https://localhost:8080/",
          "height": 423
        },
        "id": "8uVJUvecN0B3",
        "outputId": "2848966c-c597-482a-eb7a-862ad5227d15"
      },
      "outputs": [
        {
          "data": {
            "application/vnd.google.colaboratory.intrinsic+json": {
              "summary": "{\n  \"name\": \"df\",\n  \"rows\": 5600,\n  \"fields\": [\n    {\n      \"column\": \"new_title\",\n      \"properties\": {\n        \"dtype\": \"category\",\n        \"num_unique_values\": 697,\n        \"samples\": [\n          \"How end fwb arrangement?\",\n          \"Important: Paywalls\",\n          \"I would like someone hear rant\"\n        ],\n        \"semantic_type\": \"\",\n        \"description\": \"\"\n      }\n    }\n  ]\n}",
              "type": "dataframe",
              "variable_name": "df"
            },
            "text/html": [
              "\n",
              "  <div id=\"df-cae1bfd4-328c-4c94-a07f-604075aae5f9\" class=\"colab-df-container\">\n",
              "    <div>\n",
              "<style scoped>\n",
              "    .dataframe tbody tr th:only-of-type {\n",
              "        vertical-align: middle;\n",
              "    }\n",
              "\n",
              "    .dataframe tbody tr th {\n",
              "        vertical-align: top;\n",
              "    }\n",
              "\n",
              "    .dataframe thead th {\n",
              "        text-align: right;\n",
              "    }\n",
              "</style>\n",
              "<table border=\"1\" class=\"dataframe\">\n",
              "  <thead>\n",
              "    <tr style=\"text-align: right;\">\n",
              "      <th></th>\n",
              "      <th>new_title</th>\n",
              "    </tr>\n",
              "  </thead>\n",
              "  <tbody>\n",
              "    <tr>\n",
              "      <th>0</th>\n",
              "      <td>Spent past 19 year life military. Happy say on...</td>\n",
              "    </tr>\n",
              "    <tr>\n",
              "      <th>1</th>\n",
              "      <td>I baked apple pie gift friend Christmas.</td>\n",
              "    </tr>\n",
              "    <tr>\n",
              "      <th>2</th>\n",
              "      <td>food donated local church spirit Christmas</td>\n",
              "    </tr>\n",
              "    <tr>\n",
              "      <th>3</th>\n",
              "      <td>Ik crazy physique, considering I pectus excava...</td>\n",
              "    </tr>\n",
              "    <tr>\n",
              "      <th>4</th>\n",
              "      <td>Was told credit score went up. So happy I able...</td>\n",
              "    </tr>\n",
              "    <tr>\n",
              "      <th>...</th>\n",
              "      <td>...</td>\n",
              "    </tr>\n",
              "    <tr>\n",
              "      <th>5595</th>\n",
              "      <td>What movie impact you?</td>\n",
              "    </tr>\n",
              "    <tr>\n",
              "      <th>5596</th>\n",
              "      <td>Reddit truly wonderful place!</td>\n",
              "    </tr>\n",
              "    <tr>\n",
              "      <th>5597</th>\n",
              "      <td>Fast food</td>\n",
              "    </tr>\n",
              "    <tr>\n",
              "      <th>5598</th>\n",
              "      <td>Does anyone else feel personally attacked phon...</td>\n",
              "    </tr>\n",
              "    <tr>\n",
              "      <th>5599</th>\n",
              "      <td>How mentally, emotionally physically strong?</td>\n",
              "    </tr>\n",
              "  </tbody>\n",
              "</table>\n",
              "<p>5600 rows × 1 columns</p>\n",
              "</div>\n",
              "    <div class=\"colab-df-buttons\">\n",
              "\n",
              "  <div class=\"colab-df-container\">\n",
              "    <button class=\"colab-df-convert\" onclick=\"convertToInteractive('df-cae1bfd4-328c-4c94-a07f-604075aae5f9')\"\n",
              "            title=\"Convert this dataframe to an interactive table.\"\n",
              "            style=\"display:none;\">\n",
              "\n",
              "  <svg xmlns=\"http://www.w3.org/2000/svg\" height=\"24px\" viewBox=\"0 -960 960 960\">\n",
              "    <path d=\"M120-120v-720h720v720H120Zm60-500h600v-160H180v160Zm220 220h160v-160H400v160Zm0 220h160v-160H400v160ZM180-400h160v-160H180v160Zm440 0h160v-160H620v160ZM180-180h160v-160H180v160Zm440 0h160v-160H620v160Z\"/>\n",
              "  </svg>\n",
              "    </button>\n",
              "\n",
              "  <style>\n",
              "    .colab-df-container {\n",
              "      display:flex;\n",
              "      gap: 12px;\n",
              "    }\n",
              "\n",
              "    .colab-df-convert {\n",
              "      background-color: #E8F0FE;\n",
              "      border: none;\n",
              "      border-radius: 50%;\n",
              "      cursor: pointer;\n",
              "      display: none;\n",
              "      fill: #1967D2;\n",
              "      height: 32px;\n",
              "      padding: 0 0 0 0;\n",
              "      width: 32px;\n",
              "    }\n",
              "\n",
              "    .colab-df-convert:hover {\n",
              "      background-color: #E2EBFA;\n",
              "      box-shadow: 0px 1px 2px rgba(60, 64, 67, 0.3), 0px 1px 3px 1px rgba(60, 64, 67, 0.15);\n",
              "      fill: #174EA6;\n",
              "    }\n",
              "\n",
              "    .colab-df-buttons div {\n",
              "      margin-bottom: 4px;\n",
              "    }\n",
              "\n",
              "    [theme=dark] .colab-df-convert {\n",
              "      background-color: #3B4455;\n",
              "      fill: #D2E3FC;\n",
              "    }\n",
              "\n",
              "    [theme=dark] .colab-df-convert:hover {\n",
              "      background-color: #434B5C;\n",
              "      box-shadow: 0px 1px 3px 1px rgba(0, 0, 0, 0.15);\n",
              "      filter: drop-shadow(0px 1px 2px rgba(0, 0, 0, 0.3));\n",
              "      fill: #FFFFFF;\n",
              "    }\n",
              "  </style>\n",
              "\n",
              "    <script>\n",
              "      const buttonEl =\n",
              "        document.querySelector('#df-cae1bfd4-328c-4c94-a07f-604075aae5f9 button.colab-df-convert');\n",
              "      buttonEl.style.display =\n",
              "        google.colab.kernel.accessAllowed ? 'block' : 'none';\n",
              "\n",
              "      async function convertToInteractive(key) {\n",
              "        const element = document.querySelector('#df-cae1bfd4-328c-4c94-a07f-604075aae5f9');\n",
              "        const dataTable =\n",
              "          await google.colab.kernel.invokeFunction('convertToInteractive',\n",
              "                                                    [key], {});\n",
              "        if (!dataTable) return;\n",
              "\n",
              "        const docLinkHtml = 'Like what you see? Visit the ' +\n",
              "          '<a target=\"_blank\" href=https://colab.research.google.com/notebooks/data_table.ipynb>data table notebook</a>'\n",
              "          + ' to learn more about interactive tables.';\n",
              "        element.innerHTML = '';\n",
              "        dataTable['output_type'] = 'display_data';\n",
              "        await google.colab.output.renderOutput(dataTable, element);\n",
              "        const docLink = document.createElement('div');\n",
              "        docLink.innerHTML = docLinkHtml;\n",
              "        element.appendChild(docLink);\n",
              "      }\n",
              "    </script>\n",
              "  </div>\n",
              "\n",
              "\n",
              "<div id=\"df-2f44b74c-fdb6-4929-82ba-ee7d85327b87\">\n",
              "  <button class=\"colab-df-quickchart\" onclick=\"quickchart('df-2f44b74c-fdb6-4929-82ba-ee7d85327b87')\"\n",
              "            title=\"Suggest charts\"\n",
              "            style=\"display:none;\">\n",
              "\n",
              "<svg xmlns=\"http://www.w3.org/2000/svg\" height=\"24px\"viewBox=\"0 0 24 24\"\n",
              "     width=\"24px\">\n",
              "    <g>\n",
              "        <path d=\"M19 3H5c-1.1 0-2 .9-2 2v14c0 1.1.9 2 2 2h14c1.1 0 2-.9 2-2V5c0-1.1-.9-2-2-2zM9 17H7v-7h2v7zm4 0h-2V7h2v10zm4 0h-2v-4h2v4z\"/>\n",
              "    </g>\n",
              "</svg>\n",
              "  </button>\n",
              "\n",
              "<style>\n",
              "  .colab-df-quickchart {\n",
              "      --bg-color: #E8F0FE;\n",
              "      --fill-color: #1967D2;\n",
              "      --hover-bg-color: #E2EBFA;\n",
              "      --hover-fill-color: #174EA6;\n",
              "      --disabled-fill-color: #AAA;\n",
              "      --disabled-bg-color: #DDD;\n",
              "  }\n",
              "\n",
              "  [theme=dark] .colab-df-quickchart {\n",
              "      --bg-color: #3B4455;\n",
              "      --fill-color: #D2E3FC;\n",
              "      --hover-bg-color: #434B5C;\n",
              "      --hover-fill-color: #FFFFFF;\n",
              "      --disabled-bg-color: #3B4455;\n",
              "      --disabled-fill-color: #666;\n",
              "  }\n",
              "\n",
              "  .colab-df-quickchart {\n",
              "    background-color: var(--bg-color);\n",
              "    border: none;\n",
              "    border-radius: 50%;\n",
              "    cursor: pointer;\n",
              "    display: none;\n",
              "    fill: var(--fill-color);\n",
              "    height: 32px;\n",
              "    padding: 0;\n",
              "    width: 32px;\n",
              "  }\n",
              "\n",
              "  .colab-df-quickchart:hover {\n",
              "    background-color: var(--hover-bg-color);\n",
              "    box-shadow: 0 1px 2px rgba(60, 64, 67, 0.3), 0 1px 3px 1px rgba(60, 64, 67, 0.15);\n",
              "    fill: var(--button-hover-fill-color);\n",
              "  }\n",
              "\n",
              "  .colab-df-quickchart-complete:disabled,\n",
              "  .colab-df-quickchart-complete:disabled:hover {\n",
              "    background-color: var(--disabled-bg-color);\n",
              "    fill: var(--disabled-fill-color);\n",
              "    box-shadow: none;\n",
              "  }\n",
              "\n",
              "  .colab-df-spinner {\n",
              "    border: 2px solid var(--fill-color);\n",
              "    border-color: transparent;\n",
              "    border-bottom-color: var(--fill-color);\n",
              "    animation:\n",
              "      spin 1s steps(1) infinite;\n",
              "  }\n",
              "\n",
              "  @keyframes spin {\n",
              "    0% {\n",
              "      border-color: transparent;\n",
              "      border-bottom-color: var(--fill-color);\n",
              "      border-left-color: var(--fill-color);\n",
              "    }\n",
              "    20% {\n",
              "      border-color: transparent;\n",
              "      border-left-color: var(--fill-color);\n",
              "      border-top-color: var(--fill-color);\n",
              "    }\n",
              "    30% {\n",
              "      border-color: transparent;\n",
              "      border-left-color: var(--fill-color);\n",
              "      border-top-color: var(--fill-color);\n",
              "      border-right-color: var(--fill-color);\n",
              "    }\n",
              "    40% {\n",
              "      border-color: transparent;\n",
              "      border-right-color: var(--fill-color);\n",
              "      border-top-color: var(--fill-color);\n",
              "    }\n",
              "    60% {\n",
              "      border-color: transparent;\n",
              "      border-right-color: var(--fill-color);\n",
              "    }\n",
              "    80% {\n",
              "      border-color: transparent;\n",
              "      border-right-color: var(--fill-color);\n",
              "      border-bottom-color: var(--fill-color);\n",
              "    }\n",
              "    90% {\n",
              "      border-color: transparent;\n",
              "      border-bottom-color: var(--fill-color);\n",
              "    }\n",
              "  }\n",
              "</style>\n",
              "\n",
              "  <script>\n",
              "    async function quickchart(key) {\n",
              "      const quickchartButtonEl =\n",
              "        document.querySelector('#' + key + ' button');\n",
              "      quickchartButtonEl.disabled = true;  // To prevent multiple clicks.\n",
              "      quickchartButtonEl.classList.add('colab-df-spinner');\n",
              "      try {\n",
              "        const charts = await google.colab.kernel.invokeFunction(\n",
              "            'suggestCharts', [key], {});\n",
              "      } catch (error) {\n",
              "        console.error('Error during call to suggestCharts:', error);\n",
              "      }\n",
              "      quickchartButtonEl.classList.remove('colab-df-spinner');\n",
              "      quickchartButtonEl.classList.add('colab-df-quickchart-complete');\n",
              "    }\n",
              "    (() => {\n",
              "      let quickchartButtonEl =\n",
              "        document.querySelector('#df-2f44b74c-fdb6-4929-82ba-ee7d85327b87 button');\n",
              "      quickchartButtonEl.style.display =\n",
              "        google.colab.kernel.accessAllowed ? 'block' : 'none';\n",
              "    })();\n",
              "  </script>\n",
              "</div>\n",
              "\n",
              "  <div id=\"id_066cd2a6-cfd7-4ad5-8db9-3935c0b3f473\">\n",
              "    <style>\n",
              "      .colab-df-generate {\n",
              "        background-color: #E8F0FE;\n",
              "        border: none;\n",
              "        border-radius: 50%;\n",
              "        cursor: pointer;\n",
              "        display: none;\n",
              "        fill: #1967D2;\n",
              "        height: 32px;\n",
              "        padding: 0 0 0 0;\n",
              "        width: 32px;\n",
              "      }\n",
              "\n",
              "      .colab-df-generate:hover {\n",
              "        background-color: #E2EBFA;\n",
              "        box-shadow: 0px 1px 2px rgba(60, 64, 67, 0.3), 0px 1px 3px 1px rgba(60, 64, 67, 0.15);\n",
              "        fill: #174EA6;\n",
              "      }\n",
              "\n",
              "      [theme=dark] .colab-df-generate {\n",
              "        background-color: #3B4455;\n",
              "        fill: #D2E3FC;\n",
              "      }\n",
              "\n",
              "      [theme=dark] .colab-df-generate:hover {\n",
              "        background-color: #434B5C;\n",
              "        box-shadow: 0px 1px 3px 1px rgba(0, 0, 0, 0.15);\n",
              "        filter: drop-shadow(0px 1px 2px rgba(0, 0, 0, 0.3));\n",
              "        fill: #FFFFFF;\n",
              "      }\n",
              "    </style>\n",
              "    <button class=\"colab-df-generate\" onclick=\"generateWithVariable('df')\"\n",
              "            title=\"Generate code using this dataframe.\"\n",
              "            style=\"display:none;\">\n",
              "\n",
              "  <svg xmlns=\"http://www.w3.org/2000/svg\" height=\"24px\"viewBox=\"0 0 24 24\"\n",
              "       width=\"24px\">\n",
              "    <path d=\"M7,19H8.4L18.45,9,17,7.55,7,17.6ZM5,21V16.75L18.45,3.32a2,2,0,0,1,2.83,0l1.4,1.43a1.91,1.91,0,0,1,.58,1.4,1.91,1.91,0,0,1-.58,1.4L9.25,21ZM18.45,9,17,7.55Zm-12,3A5.31,5.31,0,0,0,4.9,8.1,5.31,5.31,0,0,0,1,6.5,5.31,5.31,0,0,0,4.9,4.9,5.31,5.31,0,0,0,6.5,1,5.31,5.31,0,0,0,8.1,4.9,5.31,5.31,0,0,0,12,6.5,5.46,5.46,0,0,0,6.5,12Z\"/>\n",
              "  </svg>\n",
              "    </button>\n",
              "    <script>\n",
              "      (() => {\n",
              "      const buttonEl =\n",
              "        document.querySelector('#id_066cd2a6-cfd7-4ad5-8db9-3935c0b3f473 button.colab-df-generate');\n",
              "      buttonEl.style.display =\n",
              "        google.colab.kernel.accessAllowed ? 'block' : 'none';\n",
              "\n",
              "      buttonEl.onclick = () => {\n",
              "        google.colab.notebook.generateWithVariable('df');\n",
              "      }\n",
              "      })();\n",
              "    </script>\n",
              "  </div>\n",
              "\n",
              "    </div>\n",
              "  </div>\n"
            ],
            "text/plain": [
              "                                              new_title\n",
              "0     Spent past 19 year life military. Happy say on...\n",
              "1              I baked apple pie gift friend Christmas.\n",
              "2            food donated local church spirit Christmas\n",
              "3     Ik crazy physique, considering I pectus excava...\n",
              "4     Was told credit score went up. So happy I able...\n",
              "...                                                 ...\n",
              "5595                             What movie impact you?\n",
              "5596                      Reddit truly wonderful place!\n",
              "5597                                          Fast food\n",
              "5598  Does anyone else feel personally attacked phon...\n",
              "5599       How mentally, emotionally physically strong?\n",
              "\n",
              "[5600 rows x 1 columns]"
            ]
          },
          "execution_count": 26,
          "metadata": {},
          "output_type": "execute_result"
        }
      ],
      "source": [
        "columns_to_drop = ['title', 'selftext', 'created_utc', 'author', 'subreddit']\n",
        "# Garder uniquement les colonnes existantes dans le DataFrame\n",
        "columns_to_drop = [col for col in columns_to_drop if col in df.columns]\n",
        "\n",
        "df = df.drop(columns=columns_to_drop)\n",
        "df"
      ]
    },
    {
      "cell_type": "code",
      "execution_count": null,
      "metadata": {
        "colab": {
          "base_uri": "https://localhost:8080/",
          "height": 423
        },
        "id": "dPHunSNAaQ9n",
        "outputId": "025fc85e-c950-477b-d7d1-f82eb36393e5"
      },
      "outputs": [
        {
          "data": {
            "application/vnd.google.colaboratory.intrinsic+json": {
              "summary": "{\n  \"name\": \"combined_df\",\n  \"rows\": 18847,\n  \"fields\": [\n    {\n      \"column\": \"new_title\",\n      \"properties\": {\n        \"dtype\": \"string\",\n        \"num_unique_values\": 11313,\n        \"samples\": [\n          \"How recover toxic relationship find great one?\",\n          \"Alone depressed\",\n          \"I (44F) toxic, manipultive relationship year (with 48M), I break free?\"\n        ],\n        \"semantic_type\": \"\",\n        \"description\": \"\"\n      }\n    },\n    {\n      \"column\": \"label\",\n      \"properties\": {\n        \"dtype\": \"number\",\n        \"std\": 0,\n        \"min\": 0,\n        \"max\": 1,\n        \"num_unique_values\": 2,\n        \"samples\": [\n          0,\n          1\n        ],\n        \"semantic_type\": \"\",\n        \"description\": \"\"\n      }\n    }\n  ]\n}",
              "type": "dataframe",
              "variable_name": "combined_df"
            },
            "text/html": [
              "\n",
              "  <div id=\"df-78547a82-8a83-42ee-a612-36c5504dd9da\" class=\"colab-df-container\">\n",
              "    <div>\n",
              "<style scoped>\n",
              "    .dataframe tbody tr th:only-of-type {\n",
              "        vertical-align: middle;\n",
              "    }\n",
              "\n",
              "    .dataframe tbody tr th {\n",
              "        vertical-align: top;\n",
              "    }\n",
              "\n",
              "    .dataframe thead th {\n",
              "        text-align: right;\n",
              "    }\n",
              "</style>\n",
              "<table border=\"1\" class=\"dataframe\">\n",
              "  <thead>\n",
              "    <tr style=\"text-align: right;\">\n",
              "      <th></th>\n",
              "      <th>new_title</th>\n",
              "      <th>label</th>\n",
              "    </tr>\n",
              "  </thead>\n",
              "  <tbody>\n",
              "    <tr>\n",
              "      <th>0</th>\n",
              "      <td>Is considered domestic violence?</td>\n",
              "      <td>1</td>\n",
              "    </tr>\n",
              "    <tr>\n",
              "      <th>1</th>\n",
              "      <td>My family expects (30F) leave family (and smal...</td>\n",
              "      <td>1</td>\n",
              "    </tr>\n",
              "    <tr>\n",
              "      <th>2</th>\n",
              "      <td>My boyfriend got arrested domestic violence ch...</td>\n",
              "      <td>1</td>\n",
              "    </tr>\n",
              "    <tr>\n",
              "      <th>3</th>\n",
              "      <td>Me BF 3 years, parent want see bank statements.</td>\n",
              "      <td>1</td>\n",
              "    </tr>\n",
              "    <tr>\n",
              "      <th>4</th>\n",
              "      <td>Last night (25F) boyfriend 6 month (30M) told ...</td>\n",
              "      <td>1</td>\n",
              "    </tr>\n",
              "    <tr>\n",
              "      <th>...</th>\n",
              "      <td>...</td>\n",
              "      <td>...</td>\n",
              "    </tr>\n",
              "    <tr>\n",
              "      <th>18842</th>\n",
              "      <td>What movie impact you?</td>\n",
              "      <td>0</td>\n",
              "    </tr>\n",
              "    <tr>\n",
              "      <th>18843</th>\n",
              "      <td>Reddit truly wonderful place!</td>\n",
              "      <td>0</td>\n",
              "    </tr>\n",
              "    <tr>\n",
              "      <th>18844</th>\n",
              "      <td>Fast food</td>\n",
              "      <td>0</td>\n",
              "    </tr>\n",
              "    <tr>\n",
              "      <th>18845</th>\n",
              "      <td>Does anyone else feel personally attacked phon...</td>\n",
              "      <td>0</td>\n",
              "    </tr>\n",
              "    <tr>\n",
              "      <th>18846</th>\n",
              "      <td>How mentally, emotionally physically strong?</td>\n",
              "      <td>0</td>\n",
              "    </tr>\n",
              "  </tbody>\n",
              "</table>\n",
              "<p>18847 rows × 2 columns</p>\n",
              "</div>\n",
              "    <div class=\"colab-df-buttons\">\n",
              "\n",
              "  <div class=\"colab-df-container\">\n",
              "    <button class=\"colab-df-convert\" onclick=\"convertToInteractive('df-78547a82-8a83-42ee-a612-36c5504dd9da')\"\n",
              "            title=\"Convert this dataframe to an interactive table.\"\n",
              "            style=\"display:none;\">\n",
              "\n",
              "  <svg xmlns=\"http://www.w3.org/2000/svg\" height=\"24px\" viewBox=\"0 -960 960 960\">\n",
              "    <path d=\"M120-120v-720h720v720H120Zm60-500h600v-160H180v160Zm220 220h160v-160H400v160Zm0 220h160v-160H400v160ZM180-400h160v-160H180v160Zm440 0h160v-160H620v160ZM180-180h160v-160H180v160Zm440 0h160v-160H620v160Z\"/>\n",
              "  </svg>\n",
              "    </button>\n",
              "\n",
              "  <style>\n",
              "    .colab-df-container {\n",
              "      display:flex;\n",
              "      gap: 12px;\n",
              "    }\n",
              "\n",
              "    .colab-df-convert {\n",
              "      background-color: #E8F0FE;\n",
              "      border: none;\n",
              "      border-radius: 50%;\n",
              "      cursor: pointer;\n",
              "      display: none;\n",
              "      fill: #1967D2;\n",
              "      height: 32px;\n",
              "      padding: 0 0 0 0;\n",
              "      width: 32px;\n",
              "    }\n",
              "\n",
              "    .colab-df-convert:hover {\n",
              "      background-color: #E2EBFA;\n",
              "      box-shadow: 0px 1px 2px rgba(60, 64, 67, 0.3), 0px 1px 3px 1px rgba(60, 64, 67, 0.15);\n",
              "      fill: #174EA6;\n",
              "    }\n",
              "\n",
              "    .colab-df-buttons div {\n",
              "      margin-bottom: 4px;\n",
              "    }\n",
              "\n",
              "    [theme=dark] .colab-df-convert {\n",
              "      background-color: #3B4455;\n",
              "      fill: #D2E3FC;\n",
              "    }\n",
              "\n",
              "    [theme=dark] .colab-df-convert:hover {\n",
              "      background-color: #434B5C;\n",
              "      box-shadow: 0px 1px 3px 1px rgba(0, 0, 0, 0.15);\n",
              "      filter: drop-shadow(0px 1px 2px rgba(0, 0, 0, 0.3));\n",
              "      fill: #FFFFFF;\n",
              "    }\n",
              "  </style>\n",
              "\n",
              "    <script>\n",
              "      const buttonEl =\n",
              "        document.querySelector('#df-78547a82-8a83-42ee-a612-36c5504dd9da button.colab-df-convert');\n",
              "      buttonEl.style.display =\n",
              "        google.colab.kernel.accessAllowed ? 'block' : 'none';\n",
              "\n",
              "      async function convertToInteractive(key) {\n",
              "        const element = document.querySelector('#df-78547a82-8a83-42ee-a612-36c5504dd9da');\n",
              "        const dataTable =\n",
              "          await google.colab.kernel.invokeFunction('convertToInteractive',\n",
              "                                                    [key], {});\n",
              "        if (!dataTable) return;\n",
              "\n",
              "        const docLinkHtml = 'Like what you see? Visit the ' +\n",
              "          '<a target=\"_blank\" href=https://colab.research.google.com/notebooks/data_table.ipynb>data table notebook</a>'\n",
              "          + ' to learn more about interactive tables.';\n",
              "        element.innerHTML = '';\n",
              "        dataTable['output_type'] = 'display_data';\n",
              "        await google.colab.output.renderOutput(dataTable, element);\n",
              "        const docLink = document.createElement('div');\n",
              "        docLink.innerHTML = docLinkHtml;\n",
              "        element.appendChild(docLink);\n",
              "      }\n",
              "    </script>\n",
              "  </div>\n",
              "\n",
              "\n",
              "<div id=\"df-948f76f0-fa35-40cd-84dc-283f8761663f\">\n",
              "  <button class=\"colab-df-quickchart\" onclick=\"quickchart('df-948f76f0-fa35-40cd-84dc-283f8761663f')\"\n",
              "            title=\"Suggest charts\"\n",
              "            style=\"display:none;\">\n",
              "\n",
              "<svg xmlns=\"http://www.w3.org/2000/svg\" height=\"24px\"viewBox=\"0 0 24 24\"\n",
              "     width=\"24px\">\n",
              "    <g>\n",
              "        <path d=\"M19 3H5c-1.1 0-2 .9-2 2v14c0 1.1.9 2 2 2h14c1.1 0 2-.9 2-2V5c0-1.1-.9-2-2-2zM9 17H7v-7h2v7zm4 0h-2V7h2v10zm4 0h-2v-4h2v4z\"/>\n",
              "    </g>\n",
              "</svg>\n",
              "  </button>\n",
              "\n",
              "<style>\n",
              "  .colab-df-quickchart {\n",
              "      --bg-color: #E8F0FE;\n",
              "      --fill-color: #1967D2;\n",
              "      --hover-bg-color: #E2EBFA;\n",
              "      --hover-fill-color: #174EA6;\n",
              "      --disabled-fill-color: #AAA;\n",
              "      --disabled-bg-color: #DDD;\n",
              "  }\n",
              "\n",
              "  [theme=dark] .colab-df-quickchart {\n",
              "      --bg-color: #3B4455;\n",
              "      --fill-color: #D2E3FC;\n",
              "      --hover-bg-color: #434B5C;\n",
              "      --hover-fill-color: #FFFFFF;\n",
              "      --disabled-bg-color: #3B4455;\n",
              "      --disabled-fill-color: #666;\n",
              "  }\n",
              "\n",
              "  .colab-df-quickchart {\n",
              "    background-color: var(--bg-color);\n",
              "    border: none;\n",
              "    border-radius: 50%;\n",
              "    cursor: pointer;\n",
              "    display: none;\n",
              "    fill: var(--fill-color);\n",
              "    height: 32px;\n",
              "    padding: 0;\n",
              "    width: 32px;\n",
              "  }\n",
              "\n",
              "  .colab-df-quickchart:hover {\n",
              "    background-color: var(--hover-bg-color);\n",
              "    box-shadow: 0 1px 2px rgba(60, 64, 67, 0.3), 0 1px 3px 1px rgba(60, 64, 67, 0.15);\n",
              "    fill: var(--button-hover-fill-color);\n",
              "  }\n",
              "\n",
              "  .colab-df-quickchart-complete:disabled,\n",
              "  .colab-df-quickchart-complete:disabled:hover {\n",
              "    background-color: var(--disabled-bg-color);\n",
              "    fill: var(--disabled-fill-color);\n",
              "    box-shadow: none;\n",
              "  }\n",
              "\n",
              "  .colab-df-spinner {\n",
              "    border: 2px solid var(--fill-color);\n",
              "    border-color: transparent;\n",
              "    border-bottom-color: var(--fill-color);\n",
              "    animation:\n",
              "      spin 1s steps(1) infinite;\n",
              "  }\n",
              "\n",
              "  @keyframes spin {\n",
              "    0% {\n",
              "      border-color: transparent;\n",
              "      border-bottom-color: var(--fill-color);\n",
              "      border-left-color: var(--fill-color);\n",
              "    }\n",
              "    20% {\n",
              "      border-color: transparent;\n",
              "      border-left-color: var(--fill-color);\n",
              "      border-top-color: var(--fill-color);\n",
              "    }\n",
              "    30% {\n",
              "      border-color: transparent;\n",
              "      border-left-color: var(--fill-color);\n",
              "      border-top-color: var(--fill-color);\n",
              "      border-right-color: var(--fill-color);\n",
              "    }\n",
              "    40% {\n",
              "      border-color: transparent;\n",
              "      border-right-color: var(--fill-color);\n",
              "      border-top-color: var(--fill-color);\n",
              "    }\n",
              "    60% {\n",
              "      border-color: transparent;\n",
              "      border-right-color: var(--fill-color);\n",
              "    }\n",
              "    80% {\n",
              "      border-color: transparent;\n",
              "      border-right-color: var(--fill-color);\n",
              "      border-bottom-color: var(--fill-color);\n",
              "    }\n",
              "    90% {\n",
              "      border-color: transparent;\n",
              "      border-bottom-color: var(--fill-color);\n",
              "    }\n",
              "  }\n",
              "</style>\n",
              "\n",
              "  <script>\n",
              "    async function quickchart(key) {\n",
              "      const quickchartButtonEl =\n",
              "        document.querySelector('#' + key + ' button');\n",
              "      quickchartButtonEl.disabled = true;  // To prevent multiple clicks.\n",
              "      quickchartButtonEl.classList.add('colab-df-spinner');\n",
              "      try {\n",
              "        const charts = await google.colab.kernel.invokeFunction(\n",
              "            'suggestCharts', [key], {});\n",
              "      } catch (error) {\n",
              "        console.error('Error during call to suggestCharts:', error);\n",
              "      }\n",
              "      quickchartButtonEl.classList.remove('colab-df-spinner');\n",
              "      quickchartButtonEl.classList.add('colab-df-quickchart-complete');\n",
              "    }\n",
              "    (() => {\n",
              "      let quickchartButtonEl =\n",
              "        document.querySelector('#df-948f76f0-fa35-40cd-84dc-283f8761663f button');\n",
              "      quickchartButtonEl.style.display =\n",
              "        google.colab.kernel.accessAllowed ? 'block' : 'none';\n",
              "    })();\n",
              "  </script>\n",
              "</div>\n",
              "\n",
              "  <div id=\"id_7bfafe75-79e2-4d37-914f-b8a67449932d\">\n",
              "    <style>\n",
              "      .colab-df-generate {\n",
              "        background-color: #E8F0FE;\n",
              "        border: none;\n",
              "        border-radius: 50%;\n",
              "        cursor: pointer;\n",
              "        display: none;\n",
              "        fill: #1967D2;\n",
              "        height: 32px;\n",
              "        padding: 0 0 0 0;\n",
              "        width: 32px;\n",
              "      }\n",
              "\n",
              "      .colab-df-generate:hover {\n",
              "        background-color: #E2EBFA;\n",
              "        box-shadow: 0px 1px 2px rgba(60, 64, 67, 0.3), 0px 1px 3px 1px rgba(60, 64, 67, 0.15);\n",
              "        fill: #174EA6;\n",
              "      }\n",
              "\n",
              "      [theme=dark] .colab-df-generate {\n",
              "        background-color: #3B4455;\n",
              "        fill: #D2E3FC;\n",
              "      }\n",
              "\n",
              "      [theme=dark] .colab-df-generate:hover {\n",
              "        background-color: #434B5C;\n",
              "        box-shadow: 0px 1px 3px 1px rgba(0, 0, 0, 0.15);\n",
              "        filter: drop-shadow(0px 1px 2px rgba(0, 0, 0, 0.3));\n",
              "        fill: #FFFFFF;\n",
              "      }\n",
              "    </style>\n",
              "    <button class=\"colab-df-generate\" onclick=\"generateWithVariable('combined_df')\"\n",
              "            title=\"Generate code using this dataframe.\"\n",
              "            style=\"display:none;\">\n",
              "\n",
              "  <svg xmlns=\"http://www.w3.org/2000/svg\" height=\"24px\"viewBox=\"0 0 24 24\"\n",
              "       width=\"24px\">\n",
              "    <path d=\"M7,19H8.4L18.45,9,17,7.55,7,17.6ZM5,21V16.75L18.45,3.32a2,2,0,0,1,2.83,0l1.4,1.43a1.91,1.91,0,0,1,.58,1.4,1.91,1.91,0,0,1-.58,1.4L9.25,21ZM18.45,9,17,7.55Zm-12,3A5.31,5.31,0,0,0,4.9,8.1,5.31,5.31,0,0,0,1,6.5,5.31,5.31,0,0,0,4.9,4.9,5.31,5.31,0,0,0,6.5,1,5.31,5.31,0,0,0,8.1,4.9,5.31,5.31,0,0,0,12,6.5,5.46,5.46,0,0,0,6.5,12Z\"/>\n",
              "  </svg>\n",
              "    </button>\n",
              "    <script>\n",
              "      (() => {\n",
              "      const buttonEl =\n",
              "        document.querySelector('#id_7bfafe75-79e2-4d37-914f-b8a67449932d button.colab-df-generate');\n",
              "      buttonEl.style.display =\n",
              "        google.colab.kernel.accessAllowed ? 'block' : 'none';\n",
              "\n",
              "      buttonEl.onclick = () => {\n",
              "        google.colab.notebook.generateWithVariable('combined_df');\n",
              "      }\n",
              "      })();\n",
              "    </script>\n",
              "  </div>\n",
              "\n",
              "    </div>\n",
              "  </div>\n"
            ],
            "text/plain": [
              "                                               new_title  label\n",
              "0                       Is considered domestic violence?      1\n",
              "1      My family expects (30F) leave family (and smal...      1\n",
              "2      My boyfriend got arrested domestic violence ch...      1\n",
              "3        Me BF 3 years, parent want see bank statements.      1\n",
              "4      Last night (25F) boyfriend 6 month (30M) told ...      1\n",
              "...                                                  ...    ...\n",
              "18842                             What movie impact you?      0\n",
              "18843                      Reddit truly wonderful place!      0\n",
              "18844                                          Fast food      0\n",
              "18845  Does anyone else feel personally attacked phon...      0\n",
              "18846       How mentally, emotionally physically strong?      0\n",
              "\n",
              "[18847 rows x 2 columns]"
            ]
          },
          "execution_count": 27,
          "metadata": {},
          "output_type": "execute_result"
        }
      ],
      "source": [
        "data[\"label\"] = 1  # 1 pour violent\n",
        "df[\"label\"] = 0  # 0 pour non violent\n",
        "combined_df = pd.concat([data, df], ignore_index=True)\n",
        "\n",
        "combined_df"
      ]
    },
    {
      "cell_type": "code",
      "execution_count": null,
      "metadata": {
        "colab": {
          "base_uri": "https://localhost:8080/",
          "height": 178
        },
        "id": "EFfcWy0VaQv4",
        "outputId": "6bf3ce3e-c01b-4400-b80d-715e12e9b0d4"
      },
      "outputs": [
        {
          "data": {
            "text/html": [
              "<div>\n",
              "<style scoped>\n",
              "    .dataframe tbody tr th:only-of-type {\n",
              "        vertical-align: middle;\n",
              "    }\n",
              "\n",
              "    .dataframe tbody tr th {\n",
              "        vertical-align: top;\n",
              "    }\n",
              "\n",
              "    .dataframe thead th {\n",
              "        text-align: right;\n",
              "    }\n",
              "</style>\n",
              "<table border=\"1\" class=\"dataframe\">\n",
              "  <thead>\n",
              "    <tr style=\"text-align: right;\">\n",
              "      <th></th>\n",
              "      <th>count</th>\n",
              "    </tr>\n",
              "    <tr>\n",
              "      <th>label</th>\n",
              "      <th></th>\n",
              "    </tr>\n",
              "  </thead>\n",
              "  <tbody>\n",
              "    <tr>\n",
              "      <th>1</th>\n",
              "      <td>13247</td>\n",
              "    </tr>\n",
              "    <tr>\n",
              "      <th>0</th>\n",
              "      <td>5600</td>\n",
              "    </tr>\n",
              "  </tbody>\n",
              "</table>\n",
              "</div><br><label><b>dtype:</b> int64</label>"
            ],
            "text/plain": [
              "label\n",
              "1    13247\n",
              "0     5600\n",
              "Name: count, dtype: int64"
            ]
          },
          "execution_count": 28,
          "metadata": {},
          "output_type": "execute_result"
        }
      ],
      "source": [
        "combined_df[\"label\"].value_counts()"
      ]
    },
    {
      "cell_type": "code",
      "execution_count": null,
      "metadata": {
        "colab": {
          "base_uri": "https://localhost:8080/"
        },
        "id": "vFnLK-EXa4hW",
        "outputId": "ff523422-4bde-4190-f823-de9ea2e8d298"
      },
      "outputs": [
        {
          "name": "stdout",
          "output_type": "stream",
          "text": [
            "label\n",
            "1    13247\n",
            "0    13247\n",
            "Name: count, dtype: int64\n"
          ]
        }
      ],
      "source": [
        "from sklearn.utils import resample\n",
        "\n",
        "# Texte violent (classe minoritaire)\n",
        "violent = combined_df[combined_df[\"label\"] == 1]\n",
        "\n",
        "# Texte non violent (classe majoritaire)\n",
        "non_violent = combined_df[combined_df[\"label\"] == 0]\n",
        "\n",
        "# Sur-échantillonnage pour équilibrer\n",
        "non_violent_upsampled = resample(non_violent,\n",
        "                              replace=True,  # Permet de dupliquer les données existantes\n",
        "                              n_samples=len(violent),  # Nombre d'échantillons à égaler à la classe majoritaire\n",
        "                              random_state=42)\n",
        "\n",
        "# Combiner les deux classes\n",
        "balanced_df = pd.concat([ violent, non_violent_upsampled])\n",
        "\n",
        "# Vérifier la répartition des classes\n",
        "print(balanced_df[\"label\"].value_counts())\n",
        "\n"
      ]
    },
    {
      "cell_type": "code",
      "execution_count": null,
      "metadata": {
        "id": "wzA-Ro6LP4Ti"
      },
      "outputs": [],
      "source": [
        "balanced_df=combined_df.dropna()"
      ]
    },
    {
      "cell_type": "code",
      "execution_count": null,
      "metadata": {
        "colab": {
          "base_uri": "https://localhost:8080/"
        },
        "id": "XMAN-a7FKj7M",
        "outputId": "0fbc070d-d9e4-4ee2-caaf-d6939e6050b2"
      },
      "outputs": [
        {
          "data": {
            "text/plain": [
              "(18847, 2)"
            ]
          },
          "execution_count": 31,
          "metadata": {},
          "output_type": "execute_result"
        }
      ],
      "source": [
        "balanced_df.shape"
      ]
    },
    {
      "cell_type": "markdown",
      "metadata": {
        "id": "ugtv8w6SQw6F"
      },
      "source": [
        "### <font color='#00d2d3'> Vectorisation"
      ]
    },
    {
      "cell_type": "code",
      "execution_count": null,
      "metadata": {
        "id": "S4UlDlVDEtEy"
      },
      "outputs": [],
      "source": []
    },
    {
      "cell_type": "code",
      "execution_count": null,
      "metadata": {
        "colab": {
          "base_uri": "https://localhost:8080/"
        },
        "id": "bGBfqnFZbS3R",
        "outputId": "0ffe4348-e78a-4134-abf1-0812b458a325"
      },
      "outputs": [
        {
          "name": "stdout",
          "output_type": "stream",
          "text": [
            "Taille des données d'entraînement : 15077\n",
            "Taille des données de test : 3770\n"
          ]
        }
      ],
      "source": [
        "# Importer train_test_split\n",
        "from sklearn.model_selection import train_test_split\n",
        "\n",
        "X = balanced_df[\"new_title\"]  # Caractéristiques (textes)\n",
        "y = balanced_df[\"label\"]  # Labels (0 ou 1)\n",
        "\n",
        "X_train, X_test, y_train, y_test = train_test_split(X, y, test_size=0.2, random_state=42)\n",
        "\n",
        "print(f\"Taille des données d'entraînement : {len(X_train)}\")\n",
        "print(f\"Taille des données de test : {len(X_test)}\")"
      ]
    },
    {
      "cell_type": "code",
      "execution_count": null,
      "metadata": {
        "colab": {
          "base_uri": "https://localhost:8080/"
        },
        "id": "AiTcRbjnTGV3",
        "outputId": "cfb4444b-5242-4b4e-d379-3f19265909eb"
      },
      "outputs": [
        {
          "name": "stdout",
          "output_type": "stream",
          "text": [
            "Taille des vecteurs TF-IDF (entraînement) : (15077, 5000)\n",
            "Taille des vecteurs TF-IDF (test) : (3770, 5000)\n"
          ]
        }
      ],
      "source": [
        "from sklearn.feature_extraction.text import TfidfVectorizer\n",
        "\n",
        "# Initialiser le vectoriseur TF-IDF\n",
        "vectorizer = TfidfVectorizer(max_features=5000)  # Ajuste max_features si besoin\n",
        "\n",
        "# Transformer les données\n",
        "X_train_vec = vectorizer.fit_transform(X_train).toarray()\n",
        "X_test_vec = vectorizer.transform(X_test).toarray()\n",
        "\n",
        "print(f\"Taille des vecteurs TF-IDF (entraînement) : {X_train_vec.shape}\")\n",
        "print(f\"Taille des vecteurs TF-IDF (test) : {X_test_vec.shape}\")"
      ]
    },
    {
      "cell_type": "code",
      "execution_count": null,
      "metadata": {
        "colab": {
          "base_uri": "https://localhost:8080/"
        },
        "id": "jJ4w6jj5T-St",
        "outputId": "3fcb65bb-fc5b-479a-d64b-355c491a56e3"
      },
      "outputs": [
        {
          "name": "stdout",
          "output_type": "stream",
          "text": [
            "Les termes les plus pertinents selon le Chi-2 :\n",
            "          Feature  Chi2_Score       P_Value\n",
            "895     christmas  126.537442  2.345348e-29\n",
            "212       abusive  114.726516  9.033487e-27\n",
            "207         abuse   91.862143  9.292992e-22\n",
            "1393     domestic   65.265534  6.545617e-16\n",
            "4805     violence   61.995335  3.442720e-15\n",
            "4379     survivor   61.639426  4.124764e-15\n",
            "208        abused   60.522421  7.274516e-15\n",
            "4410         talk   56.244027  6.401201e-14\n",
            "4573        toxic   53.775828  2.247205e-13\n",
            "1519  emotionally   51.405789  7.511670e-13\n"
          ]
        }
      ],
      "source": [
        "from sklearn.feature_selection import chi2\n",
        "import numpy as np\n",
        "\n",
        "# Appliquer le test du Chi-2\n",
        "chi2_scores, p_values = chi2(X_train_vec, y_train)\n",
        "\n",
        "# Associer les scores aux termes\n",
        "features = vectorizer.get_feature_names_out()\n",
        "chi2_results = pd.DataFrame({\n",
        "    \"Feature\": features,\n",
        "    \"Chi2_Score\": chi2_scores,\n",
        "    \"P_Value\": p_values\n",
        "})\n",
        "\n",
        "# Trier par pertinence\n",
        "chi2_results = chi2_results.sort_values(by=\"Chi2_Score\", ascending=False)\n",
        "\n",
        "# Afficher les termes les plus pertinents\n",
        "print(\"Les termes les plus pertinents selon le Chi-2 :\")\n",
        "print(chi2_results.head(10))"
      ]
    },
    {
      "cell_type": "code",
      "execution_count": null,
      "metadata": {
        "colab": {
          "base_uri": "https://localhost:8080/"
        },
        "id": "UQbnbQQyUBbi",
        "outputId": "4703bce3-d610-41fe-b69c-b0f94e1dbf33"
      },
      "outputs": [
        {
          "name": "stdout",
          "output_type": "stream",
          "text": [
            "Nombre de termes pertinents sélectionnés : 1228\n",
            "        Feature  Chi2_Score       P_Value\n",
            "895   christmas  126.537442  2.345348e-29\n",
            "212     abusive  114.726516  9.033487e-27\n",
            "207       abuse   91.862143  9.292992e-22\n",
            "1393   domestic   65.265534  6.545617e-16\n",
            "4805   violence   61.995335  3.442720e-15\n"
          ]
        }
      ],
      "source": [
        "# Filtrer les termes pertinents\n",
        "relevant_features = chi2_results[chi2_results[\"P_Value\"] < 0.05]\n",
        "\n",
        "print(f\"Nombre de termes pertinents sélectionnés : {len(relevant_features)}\")\n",
        "print(relevant_features.head())"
      ]
    },
    {
      "cell_type": "code",
      "execution_count": null,
      "metadata": {
        "colab": {
          "base_uri": "https://localhost:8080/"
        },
        "id": "nahpI_wFUFVw",
        "outputId": "af47b221-8e3b-490f-8faf-77effcdad036"
      },
      "outputs": [
        {
          "name": "stdout",
          "output_type": "stream",
          "text": [
            "Taille de la nouvelle matrice d'entraînement : (15077, 1228)\n",
            "Taille de la nouvelle matrice de test : (3770, 1228)\n"
          ]
        }
      ],
      "source": [
        "# Créer un nouveau vecteur TF-IDF avec les termes pertinents\n",
        "selected_features = relevant_features[\"Feature\"].tolist()\n",
        "\n",
        "# Reconstruire le vectoriseur avec les termes sélectionnés\n",
        "vectorizer_selected = TfidfVectorizer(vocabulary=selected_features)\n",
        "\n",
        "# Transformer les données d'entraînement et de test avec les termes sélectionnés\n",
        "X_train_selected = vectorizer_selected.fit_transform(X_train)\n",
        "X_test_selected = vectorizer_selected.transform(X_test)\n",
        "\n",
        "print(f\"Taille de la nouvelle matrice d'entraînement : {X_train_selected.shape}\")\n",
        "print(f\"Taille de la nouvelle matrice de test : {X_test_selected.shape}\")"
      ]
    },
    {
      "cell_type": "code",
      "execution_count": null,
      "metadata": {
        "id": "6q2iKyjkmRdG"
      },
      "outputs": [],
      "source": []
    },
    {
      "cell_type": "code",
      "execution_count": null,
      "metadata": {
        "id": "gLA7MWFEUJ4V"
      },
      "outputs": [],
      "source": [
        "# # Sauvegarder le vectoriseur\n",
        "# import joblib\n",
        "# joblib.dump(vectorizer_selected, \"vectorizer_selected.pkl\")  # Si tu utilises le test Chi-2\n",
        "# joblib.dump(model_lr, \"logistic_regression_model.pkl\")\n"
      ]
    },
    {
      "cell_type": "code",
      "execution_count": null,
      "metadata": {
        "id": "5vS_Tk29mJBj"
      },
      "outputs": [],
      "source": []
    },
    {
      "cell_type": "markdown",
      "metadata": {
        "id": "2pKZedDSnT8q"
      },
      "source": [
        "#LOGISTIC REGRESSION"
      ]
    },
    {
      "cell_type": "code",
      "execution_count": null,
      "metadata": {
        "colab": {
          "base_uri": "https://localhost:8080/"
        },
        "id": "kkx702L1TJXD",
        "outputId": "f00e8521-b192-42b1-96cd-c728efc0f139"
      },
      "outputs": [
        {
          "name": "stdout",
          "output_type": "stream",
          "text": [
            "Modèle entraîné avec succès !\n"
          ]
        }
      ],
      "source": [
        "from sklearn.linear_model import LogisticRegression\n",
        "\n",
        "# Initialiser le modèle\n",
        "model_lr = LogisticRegression(random_state=42)\n",
        "\n",
        "# Entraîner le modèle\n",
        "model_lr.fit(X_train_selected, y_train)\n",
        "\n",
        "print(\"Modèle entraîné avec succès !\")"
      ]
    },
    {
      "cell_type": "code",
      "execution_count": null,
      "metadata": {
        "colab": {
          "base_uri": "https://localhost:8080/"
        },
        "id": "F13160NkTSqi",
        "outputId": "e968b238-a5f1-4692-bd87-2e8fe2d11064"
      },
      "outputs": [
        {
          "name": "stdout",
          "output_type": "stream",
          "text": [
            "Rapport de classification :\n",
            "              precision    recall  f1-score   support\n",
            "\n",
            "           0       0.87      0.81      0.84      1107\n",
            "           1       0.92      0.95      0.94      2663\n",
            "\n",
            "    accuracy                           0.91      3770\n",
            "   macro avg       0.90      0.88      0.89      3770\n",
            "weighted avg       0.91      0.91      0.91      3770\n",
            "\n",
            "Précision du modèle : 0.91\n"
          ]
        }
      ],
      "source": [
        "from sklearn.metrics import classification_report, accuracy_score\n",
        "\n",
        "# Faire des prédictions\n",
        "y_pred = model_lr.predict(X_test_selected)\n",
        "\n",
        "# Afficher les métriques\n",
        "print(\"Rapport de classification :\")\n",
        "print(classification_report(y_test, y_pred))\n",
        "\n",
        "# Précision globale\n",
        "accuracy = accuracy_score(y_test, y_pred)\n",
        "print(f\"Précision du modèle : {accuracy:.2f}\")"
      ]
    },
    {
      "cell_type": "code",
      "execution_count": null,
      "metadata": {
        "colab": {
          "base_uri": "https://localhost:8080/"
        },
        "id": "F2jWpY0FnXsx",
        "outputId": "3c3a3460-c45a-4c43-83ca-8ac6ec117c17"
      },
      "outputs": [
        {
          "data": {
            "text/plain": [
              "['logistic_regression_model.pkl']"
            ]
          },
          "execution_count": 40,
          "metadata": {},
          "output_type": "execute_result"
        }
      ],
      "source": [
        "# Sauvegarder le vectoriseur\n",
        "import joblib\n",
        "joblib.dump(vectorizer_selected, \"vectorizer_selected.pkl\")  # Si tu utilises le test Chi-2\n",
        "joblib.dump(model_lr, \"logistic_regression_model.pkl\")"
      ]
    },
    {
      "cell_type": "code",
      "execution_count": null,
      "metadata": {
        "colab": {
          "base_uri": "https://localhost:8080/"
        },
        "id": "NTG2V6PFTaUa",
        "outputId": "96d1550f-4049-47c8-8c0f-16b91efb1f5e"
      },
      "outputs": [
        {
          "name": "stdout",
          "output_type": "stream",
          "text": [
            "Texte : 'Feel like she is emotionally abuse.' -> Prédiction : Potential danger\n",
            "Texte : 'Life is great those days' -> Prédiction : Potential danger\n",
            "Texte : 'I am happy' -> Prédiction : No danger\n",
            "Texte : 'I am in a safe relationship' -> Prédiction : Potential danger\n",
            "Texte : 'My dad used to beat me after school' -> Prédiction : Potential danger\n"
          ]
        }
      ],
      "source": [
        "vectorizer_selected = joblib.load(\"vectorizer_selected.pkl\")\n",
        "model_lr = joblib.load(\"logistic_regression_model.pkl\")\n",
        "\n",
        "# Exemple de prédictions personnalisées\n",
        "new_texts = [\n",
        "    \"Feel like she is emotionally abuse.\",\n",
        "    \"Life is great those days\",\n",
        "    \"I am happy\",\n",
        "    \"I am in a safe relationship\",\n",
        "    \"My dad used to beat me after school\",# Exemple violent\n",
        "        # Exemple non violent\n",
        "]\n",
        "\n",
        "# Transformer les nouveaux textes\n",
        "new_texts_vec =  vectorizer_selected.transform(new_texts)\n",
        "\n",
        "# Faire des prédictions\n",
        "predictions = model_lr.predict(new_texts_vec)\n",
        "\n",
        "# Afficher les résultats\n",
        "for text, pred in zip(new_texts, predictions):\n",
        "    label = \"Potential danger\" if pred == 1 else \"No danger\"\n",
        "    print(f\"Texte : '{text}' -> Prédiction : {label}\")\n"
      ]
    },
    {
      "cell_type": "code",
      "execution_count": null,
      "metadata": {
        "colab": {
          "base_uri": "https://localhost:8080/",
          "height": 472
        },
        "id": "yI-2gJs3Lrig",
        "outputId": "4599370b-d8ba-4681-dab2-cbbe1e22ed55"
      },
      "outputs": [
        {
          "data": {
            "image/png": "[encoded data removed]",
            "text/plain": [
              "<Figure size 640x480 with 2 Axes>"
            ]
          },
          "metadata": {},
          "output_type": "display_data"
        }
      ],
      "source": [
        "from sklearn.metrics import confusion_matrix, ConfusionMatrixDisplay\n",
        "import matplotlib.pyplot as plt\n",
        "\n",
        "# Prédire sur les données de test\n",
        "y_pred = model_lr.predict(X_test_selected)  # Si tu utilises un modèle LSTM ou un autre modèle\n",
        "if hasattr(y_pred[0], \"__len__\"):  # Si le modèle donne des probabilités\n",
        "    y_pred = (y_pred > 0.5).astype(int)  # Convertir les probabilités en classes binaires\n",
        "\n",
        "# Calculer la matrice de confusion\n",
        "cm = confusion_matrix(y_test, y_pred)\n",
        "\n",
        "# Afficher la matrice de confusion\n",
        "disp = ConfusionMatrixDisplay(confusion_matrix=cm, display_labels=[\"No danger\", \"Potential danger\"])\n",
        "disp.plot(cmap=plt.cm.Blues)\n",
        "plt.title(\"Matrice de confusion\")\n",
        "plt.show()\n"
      ]
    },
    {
      "cell_type": "markdown",
      "metadata": {
        "id": "i6UR4J4NV-L3"
      },
      "source": [
        "SVM"
      ]
    },
    {
      "cell_type": "code",
      "execution_count": null,
      "metadata": {
        "id": "FwVR83SSTUOm"
      },
      "outputs": [],
      "source": [
        "# Charger les données équilibrées\n",
        "# X = balanced_df[\"new_title\"]  # Caractéristiques (textes)\n",
        "# y = balanced_df[\"label\"]  # Labels (0 ou 1)\n",
        "\n",
        "# # Diviser les données en jeux d'entraînement et de test\n",
        "# from sklearn.model_selection import train_test_split\n",
        "# X_train, X_test, y_train, y_test = train_test_split(X, y, test_size=0.2, random_state=42)\n",
        "\n",
        "# # Convertir les textes en vecteurs numériques avec TF-IDF\n",
        "# from sklearn.feature_extraction.text import TfidfVectorizer\n",
        "# vectorizer = TfidfVectorizer(max_features=5000)\n",
        "# X_train_vec = vectorizer.fit_transform(X_train).toarray()\n",
        "# X_test_vec = vectorizer.transform(X_test).toarray()\n"
      ]
    },
    {
      "cell_type": "code",
      "execution_count": null,
      "metadata": {
        "colab": {
          "base_uri": "https://localhost:8080/"
        },
        "id": "e33OjIMobTsQ",
        "outputId": "086c6606-6913-4088-e8b4-aa4947c66874"
      },
      "outputs": [
        {
          "name": "stdout",
          "output_type": "stream",
          "text": [
            "SVM entraîné avec succès !\n"
          ]
        }
      ],
      "source": [
        "from sklearn.svm import SVC\n",
        "from sklearn.metrics import classification_report, accuracy_score\n",
        "\n",
        "# Initialiser le modèle SVM\n",
        "model_svm = SVC(kernel='linear', random_state=42)\n",
        "\n",
        "# Entraîner le modèle\n",
        "model_svm.fit(X_train_selected, y_train)\n",
        "\n",
        "print(\"SVM entraîné avec succès !\")"
      ]
    },
    {
      "cell_type": "code",
      "execution_count": null,
      "metadata": {
        "colab": {
          "base_uri": "https://localhost:8080/"
        },
        "id": "5gmkFG1abaCn",
        "outputId": "a47515dc-f824-4f8a-8a2b-9043e840e961"
      },
      "outputs": [
        {
          "name": "stdout",
          "output_type": "stream",
          "text": [
            "Rapport de classification :\n",
            "              precision    recall  f1-score   support\n",
            "\n",
            "           0       0.87      0.81      0.84      1107\n",
            "           1       0.92      0.95      0.94      2663\n",
            "\n",
            "    accuracy                           0.91      3770\n",
            "   macro avg       0.90      0.88      0.89      3770\n",
            "weighted avg       0.91      0.91      0.91      3770\n",
            "\n",
            "Précision du modèle : 0.91\n"
          ]
        }
      ],
      "source": [
        "# Faire des prédictions\n",
        "y_pred = model_svm.predict(X_test_selected)\n",
        "\n",
        "# Afficher les métriques\n",
        "print(\"Rapport de classification :\")\n",
        "print(classification_report(y_test, y_pred))\n",
        "\n",
        "# Précision globale\n",
        "accuracy = accuracy_score(y_test, y_pred)\n",
        "print(f\"Précision du modèle : {accuracy:.2f}\")\n"
      ]
    },
    {
      "cell_type": "code",
      "execution_count": null,
      "metadata": {
        "colab": {
          "base_uri": "https://localhost:8080/"
        },
        "id": "LqQiJwmKbaMz",
        "outputId": "b1208181-cfbd-4ad8-d392-06eabbb511a7"
      },
      "outputs": [
        {
          "name": "stdout",
          "output_type": "stream",
          "text": [
            "Texte : 'Feel like she is emotionally abuse.' -> Prédiction : Potential danger\n",
            "Texte : 'Life is great those days' -> Prédiction : Potential danger\n",
            "Texte : 'I am happy' -> Prédiction : No danger\n",
            "Texte : 'I am in a safe relationship' -> Prédiction : Potential danger\n",
            "Texte : 'My dad used to beat me after school' -> Prédiction : Potential danger\n"
          ]
        }
      ],
      "source": [
        "# Exemple pour un SVM\n",
        "joblib.dump(model_svm, \"svm_model.pkl\")\n",
        "\n",
        "# Exemple de textes à prédire\n",
        "new_texts = [\n",
        "    \"Feel like she is emotionally abuse.\",\n",
        "    \"Life is great those days\",\n",
        "    \"I am happy\",\n",
        "    \"I am in a safe relationship\",\n",
        "    \"My dad used to beat me after school\",# Exemple violent\n",
        "        # Exemple non violent\n",
        "]\n",
        "\n",
        "# Transformer les textes\n",
        "new_texts_vec =  vectorizer_selected.transform(new_texts)\n",
        "\n",
        "# Prédire avec le modèle\n",
        "predictions = model_svm.predict(new_texts_vec)\n",
        "\n",
        "# Afficher les résultats\n",
        "for text, pred in zip(new_texts, predictions):\n",
        "    label = \"Potential danger\" if pred == 1 else \"No danger\"\n",
        "    print(f\"Texte : '{text}' -> Prédiction : {label}\")\n"
      ]
    },
    {
      "cell_type": "code",
      "execution_count": null,
      "metadata": {
        "colab": {
          "base_uri": "https://localhost:8080/",
          "height": 472
        },
        "id": "bYqmdyY2YpOb",
        "outputId": "cdd2c9fa-d699-4975-ab51-26d825f9c15a"
      },
      "outputs": [
        {
          "data": {
            "image/png": "[encoded data removed]",
            "text/plain": [
              "<Figure size 640x480 with 2 Axes>"
            ]
          },
          "metadata": {},
          "output_type": "display_data"
        }
      ],
      "source": [
        "from sklearn.metrics import confusion_matrix, ConfusionMatrixDisplay\n",
        "import matplotlib.pyplot as plt\n",
        "\n",
        "# Prédire sur les données de test\n",
        "y_pred = model_svm.predict(X_test_selected)  # Si tu utilises un modèle LSTM ou un autre modèle\n",
        "if hasattr(y_pred[0], \"__len__\"):  # Si le modèle donne des probabilités\n",
        "    y_pred = (y_pred > 0.5).astype(int)  # Convertir les probabilités en classes binaires\n",
        "\n",
        "# Calculer la matrice de confusion\n",
        "cm = confusion_matrix(y_test, y_pred)\n",
        "\n",
        "# Afficher la matrice de confusion\n",
        "disp = ConfusionMatrixDisplay(confusion_matrix=cm, display_labels=[\"No danger\", \"Potential danger\"])\n",
        "disp.plot(cmap=plt.cm.Reds)\n",
        "plt.title(\"Matrice de confusion\")\n",
        "plt.show()\n"
      ]
    },
    {
      "cell_type": "markdown",
      "metadata": {
        "id": "GG0geakra7Hg"
      },
      "source": [
        "RANDOM FOREST"
      ]
    },
    {
      "cell_type": "code",
      "execution_count": null,
      "metadata": {
        "colab": {
          "base_uri": "https://localhost:8080/"
        },
        "id": "mn3WtfQYboXk",
        "outputId": "0f5346e0-122f-4341-aaa4-a730f7323066"
      },
      "outputs": [
        {
          "name": "stdout",
          "output_type": "stream",
          "text": [
            "Random Forest entraîné avec succès !\n"
          ]
        }
      ],
      "source": [
        "from sklearn.ensemble import RandomForestClassifier\n",
        "from sklearn.metrics import classification_report, accuracy_score\n",
        "\n",
        "# Initialiser le modèle Random Forest\n",
        "model_rf = RandomForestClassifier(n_estimators=100, random_state=42)\n",
        "\n",
        "# Entraîner le modèle\n",
        "model_rf.fit(X_train_selected, y_train)\n",
        "\n",
        "print(\"Random Forest entraîné avec succès !\")"
      ]
    },
    {
      "cell_type": "code",
      "execution_count": null,
      "metadata": {
        "colab": {
          "base_uri": "https://localhost:8080/"
        },
        "id": "b2E-cBhvboUI",
        "outputId": "0a4006a9-098a-4637-dbc4-12527b154259"
      },
      "outputs": [
        {
          "name": "stdout",
          "output_type": "stream",
          "text": [
            "Rapport de classification :\n",
            "              precision    recall  f1-score   support\n",
            "\n",
            "           0       0.94      0.91      0.92      1107\n",
            "           1       0.96      0.97      0.97      2663\n",
            "\n",
            "    accuracy                           0.96      3770\n",
            "   macro avg       0.95      0.94      0.95      3770\n",
            "weighted avg       0.96      0.96      0.96      3770\n",
            "\n",
            "Précision du modèle : 0.96\n"
          ]
        }
      ],
      "source": [
        "# Faire des prédictions\n",
        "y_pred = model_rf.predict(X_test_selected)\n",
        "\n",
        "# Afficher les métriques\n",
        "print(\"Rapport de classification :\")\n",
        "print(classification_report(y_test, y_pred))\n",
        "\n",
        "# Précision globale\n",
        "accuracy = accuracy_score(y_test, y_pred)\n",
        "print(f\"Précision du modèle : {accuracy:.2f}\")\n"
      ]
    },
    {
      "cell_type": "code",
      "execution_count": null,
      "metadata": {
        "colab": {
          "base_uri": "https://localhost:8080/"
        },
        "id": "OgOzlcARM3qR",
        "outputId": "25db9793-eacc-4141-8844-3213afd8f98a"
      },
      "outputs": [
        {
          "name": "stdout",
          "output_type": "stream",
          "text": [
            "Texte : 'Feel like she is emotionally abuse.' -> Prédiction : Potiental danger\n",
            "Texte : 'Life is great those days' -> Prédiction : Potiental danger\n",
            "Texte : 'I am happy' -> Prédiction : No danger\n",
            "Texte : 'I am in a safe relationship' -> Prédiction : Potiental danger\n",
            "Texte : 'My dad used to beat me after school' -> Prédiction : Potiental danger\n"
          ]
        }
      ],
      "source": [
        "# Exemple pour un SVM\n",
        "joblib.dump(model_rf, \"svm_model.pkl\")\n",
        "\n",
        "# Exemple de textes à prédire\n",
        "new_texts = [\n",
        "    \"Feel like she is emotionally abuse.\",\n",
        "    \"Life is great those days\",\n",
        "    \"I am happy\",\n",
        "    \"I am in a safe relationship\",\n",
        "    \"My dad used to beat me after school\",# Exemple violent\n",
        "        # Exemple non violent\n",
        "]\n",
        "\n",
        "# Transformer les nouveaux textes\n",
        "new_texts_vec =  vectorizer_selected.transform(new_texts)\n",
        "\n",
        "# Faire des prédictions\n",
        "predictions = model_rf.predict(new_texts_vec)\n",
        "\n",
        "# Afficher les résultats\n",
        "for text, pred in zip(new_texts, predictions):\n",
        "    label = \"Potiental danger\" if pred == 1 else \"No danger\"\n",
        "    print(f\"Texte : '{text}' -> Prédiction : {label}\")\n"
      ]
    },
    {
      "cell_type": "code",
      "execution_count": null,
      "metadata": {
        "id": "exFsAEEJbqX9"
      },
      "outputs": [],
      "source": [
        "#fin"
      ]
    },
    {
      "cell_type": "markdown",
      "metadata": {
        "id": "gBZ1Ho4vcZul"
      },
      "source": [
        "XGBOOST"
      ]
    },
    {
      "cell_type": "code",
      "execution_count": null,
      "metadata": {
        "colab": {
          "base_uri": "https://localhost:8080/",
          "height": 472
        },
        "id": "po0f52zjM6Qe",
        "outputId": "84fc9418-9e87-4e36-d23a-2e6c8bc75da4"
      },
      "outputs": [
        {
          "data": {
            "image/png": "[encoded data removed]",
            "text/plain": [
              "<Figure size 640x480 with 2 Axes>"
            ]
          },
          "metadata": {},
          "output_type": "display_data"
        }
      ],
      "source": [
        "from sklearn.metrics import confusion_matrix, ConfusionMatrixDisplay\n",
        "import matplotlib.pyplot as plt\n",
        "\n",
        "# Prédire sur les données de test\n",
        "y_pred = model_rf.predict(X_test_selected)  # Si tu utilises un modèle LSTM ou un autre modèle\n",
        "if hasattr(y_pred[0], \"__len__\"):  # Si le modèle donne des probabilités\n",
        "    y_pred = (y_pred > 0.5).astype(int)  # Convertir les probabilités en classes binaires\n",
        "\n",
        "# Calculer la matrice de confusion\n",
        "cm = confusion_matrix(y_test, y_pred)\n",
        "\n",
        "# Afficher la matrice de confusion\n",
        "disp = ConfusionMatrixDisplay(confusion_matrix=cm, display_labels=[\"No danger\", \"Potential danger\"])\n",
        "disp.plot(cmap=plt.cm.BuGn)\n",
        "plt.title(\"Matrice de confusion\")\n",
        "plt.show()\n",
        "\n"
      ]
    },
    {
      "cell_type": "code",
      "execution_count": null,
      "metadata": {
        "colab": {
          "base_uri": "https://localhost:8080/"
        },
        "id": "u14Wf3m1cks2",
        "outputId": "85c4596b-f9bf-45b2-a371-d2faabcac7c0"
      },
      "outputs": [
        {
          "name": "stdout",
          "output_type": "stream",
          "text": [
            "Requirement already satisfied: xgboost in /usr/local/lib/python3.10/dist-packages (2.1.3)\n",
            "Requirement already satisfied: numpy in /usr/local/lib/python3.10/dist-packages (from xgboost) (1.26.4)\n",
            "Requirement already satisfied: nvidia-nccl-cu12 in /usr/local/lib/python3.10/dist-packages (from xgboost) (2.23.4)\n",
            "Requirement already satisfied: scipy in /usr/local/lib/python3.10/dist-packages (from xgboost) (1.13.1)\n"
          ]
        }
      ],
      "source": [
        "pip install xgboost"
      ]
    },
    {
      "cell_type": "code",
      "execution_count": null,
      "metadata": {
        "colab": {
          "base_uri": "https://localhost:8080/"
        },
        "id": "rltuQIsGM6Mb",
        "outputId": "b8238132-3be8-4f57-c16b-9aab0f8624c8"
      },
      "outputs": [
        {
          "name": "stderr",
          "output_type": "stream",
          "text": [
            "/usr/local/lib/python3.10/dist-packages/xgboost/core.py:158: UserWarning: [17:11:03] WARNING: /workspace/src/learner.cc:740: \n",
            "Parameters: { \"use_label_encoder\" } are not used.\n",
            "\n",
            "  warnings.warn(smsg, UserWarning)\n"
          ]
        },
        {
          "name": "stdout",
          "output_type": "stream",
          "text": [
            "XGBoost entraîné avec succès !\n"
          ]
        }
      ],
      "source": [
        "from xgboost import XGBClassifier\n",
        "from sklearn.metrics import classification_report, accuracy_score\n",
        "\n",
        "# Initialiser le modèle XGBoost\n",
        "model_xgb = XGBClassifier(use_label_encoder=False, eval_metric=\"logloss\", random_state=42)\n",
        "\n",
        "# Entraîner le modèle\n",
        "model_xgb.fit(X_train_selected, y_train)\n",
        "\n",
        "print(\"XGBoost entraîné avec succès !\")"
      ]
    },
    {
      "cell_type": "code",
      "execution_count": null,
      "metadata": {
        "colab": {
          "base_uri": "https://localhost:8080/"
        },
        "id": "5_2zn8baM6C4",
        "outputId": "dfa2e6d5-8e33-4260-eaa1-db8699b7ee44"
      },
      "outputs": [
        {
          "name": "stdout",
          "output_type": "stream",
          "text": [
            "Rapport de classification :\n",
            "              precision    recall  f1-score   support\n",
            "\n",
            "           0       0.73      0.90      0.81      1107\n",
            "           1       0.96      0.86      0.90      2663\n",
            "\n",
            "    accuracy                           0.87      3770\n",
            "   macro avg       0.84      0.88      0.85      3770\n",
            "weighted avg       0.89      0.87      0.88      3770\n",
            "\n",
            "Précision du modèle : 0.87\n"
          ]
        }
      ],
      "source": [
        "# Faire des prédictions\n",
        "y_pred = model_xgb.predict(X_test_selected)\n",
        "\n",
        "# Afficher les métriques\n",
        "print(\"Rapport de classification :\")\n",
        "print(classification_report(y_test, y_pred))\n",
        "\n",
        "# Précision globale\n",
        "accuracy = accuracy_score(y_test, y_pred)\n",
        "print(f\"Précision du modèle : {accuracy:.2f}\")"
      ]
    },
    {
      "cell_type": "code",
      "execution_count": null,
      "metadata": {
        "colab": {
          "base_uri": "https://localhost:8080/"
        },
        "id": "TQEmgMD5M50Y",
        "outputId": "525052b8-0d37-49d6-f1c0-c7531b604cec"
      },
      "outputs": [
        {
          "name": "stdout",
          "output_type": "stream",
          "text": [
            "Texte : 'Feel like she is emotionally abuse.' -> Prédiction : Potential danger\n",
            "Texte : 'Life is great those days' -> Prédiction : Potential danger\n",
            "Texte : 'I am happy' -> Prédiction : No danger\n",
            "Texte : 'I am in a safe relationship' -> Prédiction : Potential danger\n",
            "Texte : 'My dad used to beat me after school' -> Prédiction : Potential danger\n"
          ]
        }
      ],
      "source": [
        "joblib.dump(model_xgb, \"Xgboost_model.pkl\")\n",
        "# Exemple de textes à prédire\n",
        "new_texts = [\n",
        "    \"Feel like she is emotionally abuse.\",\n",
        "    \"Life is great those days\",\n",
        "    \"I am happy\",\n",
        "    \"I am in a safe relationship\",\n",
        "    \"My dad used to beat me after school\",# Exemple violent\n",
        "        # Exemple non violent\n",
        "]\n",
        "\n",
        "# Transformer les nouveaux textes\n",
        "new_texts_vec =  vectorizer_selected.transform(new_texts)\n",
        "\n",
        "# Faire des prédictions\n",
        "predictions = model_xgb.predict(new_texts_vec)\n",
        "\n",
        "# Afficher les résultats\n",
        "for text, pred in zip(new_texts, predictions):\n",
        "    label = \"Potential danger\" if pred == 1 else \"No danger\"\n",
        "    print(f\"Texte : '{text}' -> Prédiction : {label}\")\n"
      ]
    },
    {
      "cell_type": "code",
      "execution_count": null,
      "metadata": {
        "colab": {
          "base_uri": "https://localhost:8080/",
          "height": 472
        },
        "id": "ich5OtzOdd5v",
        "outputId": "d965f2dd-21d9-43c5-8ec9-ceebaea6cbe3"
      },
      "outputs": [
        {
          "data": {
            "image/png": "[encoded data removed]",
            "text/plain": [
              "<Figure size 640x480 with 2 Axes>"
            ]
          },
          "metadata": {},
          "output_type": "display_data"
        }
      ],
      "source": [
        "from sklearn.metrics import confusion_matrix, ConfusionMatrixDisplay\n",
        "import matplotlib.pyplot as plt\n",
        "\n",
        "# Prédire sur les données de test\n",
        "y_pred = model_xgb.predict(X_test_selected)  # Si tu utilises un modèle LSTM ou un autre modèle\n",
        "if hasattr(y_pred[0], \"__len__\"):  # Si le modèle donne des probabilités\n",
        "    y_pred = (y_pred > 0.5).astype(int)  # Convertir les probabilités en classes binaires\n",
        "\n",
        "# Calculer la matrice de confusion\n",
        "cm = confusion_matrix(y_test, y_pred)\n",
        "\n",
        "# Afficher la matrice de confusion\n",
        "disp = ConfusionMatrixDisplay(confusion_matrix=cm, display_labels=[\"No danger\", \"Potential danger\"])\n",
        "disp.plot(cmap=plt.cm.BuPu)\n",
        "plt.title(\"Matrice de confusion\")\n",
        "plt.show()"
      ]
    },
    {
      "cell_type": "markdown",
      "metadata": {
        "id": "h_QcnTd6Oi9o"
      },
      "source": [
        "KNN"
      ]
    },
    {
      "cell_type": "code",
      "execution_count": null,
      "metadata": {
        "colab": {
          "base_uri": "https://localhost:8080/"
        },
        "id": "fvINvhqGOlJF",
        "outputId": "e1ea05b3-129f-44cf-e195-55c9eed18a7f"
      },
      "outputs": [
        {
          "name": "stdout",
          "output_type": "stream",
          "text": [
            "KNN entraîné avec succès !\n"
          ]
        }
      ],
      "source": [
        "from sklearn.neighbors import KNeighborsClassifier\n",
        "from sklearn.metrics import classification_report, accuracy_score\n",
        "\n",
        "# Initialiser le modèle KNN\n",
        "model_knn = KNeighborsClassifier(n_neighbors=5, metric='cosine')  # n_neighbors = 5 est un bon point de départ\n",
        "\n",
        "# Entraîner le modèle\n",
        "model_knn.fit(X_train_selected, y_train)\n",
        "\n",
        "print(\"KNN entraîné avec succès !\")"
      ]
    },
    {
      "cell_type": "code",
      "execution_count": null,
      "metadata": {
        "colab": {
          "base_uri": "https://localhost:8080/"
        },
        "id": "coKbMvAPOwoS",
        "outputId": "091865d2-d799-4dc0-d379-b19b9d1cdb55"
      },
      "outputs": [
        {
          "name": "stdout",
          "output_type": "stream",
          "text": [
            "Rapport de classification :\n",
            "              precision    recall  f1-score   support\n",
            "\n",
            "           0       0.83      0.91      0.87      1107\n",
            "           1       0.96      0.92      0.94      2663\n",
            "\n",
            "    accuracy                           0.92      3770\n",
            "   macro avg       0.90      0.92      0.90      3770\n",
            "weighted avg       0.92      0.92      0.92      3770\n",
            "\n",
            "Précision du modèle : 0.92\n"
          ]
        }
      ],
      "source": [
        "# Faire des prédictions\n",
        "y_pred = model_knn.predict(X_test_selected)\n",
        "\n",
        "# Afficher les métriques\n",
        "print(\"Rapport de classification :\")\n",
        "print(classification_report(y_test, y_pred))\n",
        "\n",
        "# Précision globale\n",
        "accuracy = accuracy_score(y_test, y_pred)\n",
        "print(f\"Précision du modèle : {accuracy:.2f}\")"
      ]
    },
    {
      "cell_type": "code",
      "execution_count": null,
      "metadata": {
        "colab": {
          "base_uri": "https://localhost:8080/"
        },
        "id": "C7JhxFBCOy5S",
        "outputId": "bbef5d5c-123f-4aa7-bb47-4d376e4f414e"
      },
      "outputs": [
        {
          "name": "stdout",
          "output_type": "stream",
          "text": [
            "Texte : 'I see diomestic violence everday.' -> Prédiction : Potential danger\n",
            "Texte : 'Is it good to be beaten ' -> Prédiction : Potential danger\n",
            "Texte : 'She enjoys spending time with friends' -> Prédiction : No danger\n",
            "Texte : 'Feel like she is emotionally abuse.' -> Prédiction : Potential danger\n",
            "Texte : 'Life is great those days' -> Prédiction : Potential danger\n",
            "Texte : 'I am happy' -> Prédiction : No danger\n",
            "Texte : 'I am in a safe relationship' -> Prédiction : Potential danger\n",
            "Texte : 'My dad used to beat me after school' -> Prédiction : Potential danger\n"
          ]
        }
      ],
      "source": [
        "# Exemple de textes à prédire\n",
        "new_texts = [\n",
        "    \"I see diomestic violence everday.\",\n",
        "    \"Is it good to be beaten \",# Exemple violent\n",
        "    \"She enjoys spending time with friends\",\n",
        "    \"Feel like she is emotionally abuse.\",\n",
        "    \"Life is great those days\",\n",
        "    \"I am happy\",\n",
        "    \"I am in a safe relationship\",\n",
        "    \"My dad used to beat me after school\",# Exemple non violent\n",
        "]\n",
        "\n",
        "# Transformer les nouveaux textes\n",
        "new_texts_vec = vectorizer_selected.transform(new_texts)\n",
        "\n",
        "# Faire des prédictions\n",
        "predictions = model_knn.predict(new_texts_vec)\n",
        "\n",
        "# Afficher les résultats\n",
        "for text, pred in zip(new_texts, predictions):\n",
        "    label = \"Potential danger\" if pred == 1 else \"No danger\"\n",
        "    print(f\"Texte : '{text}' -> Prédiction : {label}\")"
      ]
    },
    {
      "cell_type": "code",
      "execution_count": null,
      "metadata": {
        "colab": {
          "base_uri": "https://localhost:8080/",
          "height": 472
        },
        "id": "oKL3tCKyO6aI",
        "outputId": "19044b09-a800-48a9-e184-6e40d4ba5b40"
      },
      "outputs": [
        {
          "data": {
            "image/png": "[encoded data removed]",
            "text/plain": [
              "<Figure size 640x480 with 2 Axes>"
            ]
          },
          "metadata": {},
          "output_type": "display_data"
        }
      ],
      "source": [
        "from sklearn.metrics import confusion_matrix, ConfusionMatrixDisplay\n",
        "import matplotlib.pyplot as plt\n",
        "\n",
        "# Prédire sur les données de test\n",
        "y_pred = model_knn.predict(X_test_selected)  # Si tu utilises un modèle LSTM ou un autre modèle\n",
        "if hasattr(y_pred[0], \"__len__\"):  # Si le modèle donne des probabilités\n",
        "    y_pred = (y_pred > 0.5).astype(int)  # Convertir les probabilités en classes binaires\n",
        "\n",
        "# Calculer la matrice de confusion\n",
        "cm = confusion_matrix(y_test, y_pred)\n",
        "\n",
        "# Afficher la matrice de confusion\n",
        "disp = ConfusionMatrixDisplay(confusion_matrix=cm, display_labels=[\"No danger\", \"Potential danger\"])\n",
        "disp.plot(cmap=plt.cm.gist_gray)\n",
        "plt.title(\"Matrice de confusion\")\n",
        "plt.show()"
      ]
    },
    {
      "cell_type": "markdown",
      "metadata": {
        "id": "SNI4c7ugSBq2"
      },
      "source": [
        "#DECISION TREE"
      ]
    },
    {
      "cell_type": "code",
      "execution_count": null,
      "metadata": {
        "colab": {
          "base_uri": "https://localhost:8080/"
        },
        "id": "5DRqOt13SJ7a",
        "outputId": "342fe5fc-28ac-41af-e2a8-be5fa476babd"
      },
      "outputs": [
        {
          "name": "stdout",
          "output_type": "stream",
          "text": [
            "Modèle Decision Tree entraîné avec succès !\n"
          ]
        }
      ],
      "source": [
        "from sklearn.tree import DecisionTreeClassifier\n",
        "# Initialiser le modèle Decision Tree\n",
        "model_dt = DecisionTreeClassifier(random_state=42)\n",
        "\n",
        "# Entraîner le modèle\n",
        "model_dt.fit(X_train_selected, y_train)\n",
        "\n",
        "print(\"Modèle Decision Tree entraîné avec succès !\")"
      ]
    },
    {
      "cell_type": "code",
      "execution_count": null,
      "metadata": {
        "colab": {
          "base_uri": "https://localhost:8080/"
        },
        "id": "NeopojzISdI-",
        "outputId": "85206f74-149d-418d-a55d-5f2028474a9c"
      },
      "outputs": [
        {
          "name": "stdout",
          "output_type": "stream",
          "text": [
            "Rapport de classification :\n",
            "              precision    recall  f1-score   support\n",
            "\n",
            "           0       0.90      0.92      0.91      1107\n",
            "           1       0.96      0.96      0.96      2663\n",
            "\n",
            "    accuracy                           0.95      3770\n",
            "   macro avg       0.93      0.94      0.93      3770\n",
            "weighted avg       0.95      0.95      0.95      3770\n",
            "\n",
            "Précision du modèle : 0.95\n"
          ]
        }
      ],
      "source": [
        "# Faire des prédictions\n",
        "y_pred = model_dt.predict(X_test_selected)\n",
        "\n",
        "# Afficher les métriques\n",
        "print(\"Rapport de classification :\")\n",
        "print(classification_report(y_test, y_pred))\n",
        "# Précision globale\n",
        "accuracy = accuracy_score(y_test, y_pred)\n",
        "print(f\"Précision du modèle : {accuracy:.2f}\")"
      ]
    },
    {
      "cell_type": "code",
      "execution_count": null,
      "metadata": {
        "colab": {
          "base_uri": "https://localhost:8080/"
        },
        "id": "lwxUJSwNSj3s",
        "outputId": "650ea94a-0f0c-43e4-f10f-547d84f80986"
      },
      "outputs": [
        {
          "name": "stdout",
          "output_type": "stream",
          "text": [
            "Texte : 'I see diomestic violence everday.' -> Prédiction : Potential danger\n",
            "Texte : 'Is it good to be beaten ' -> Prédiction : Potential danger\n",
            "Texte : 'She enjoys spending time with friends' -> Prédiction : No danger\n",
            "Texte : 'Feel like she is emotionally abuse.' -> Prédiction : Potential danger\n",
            "Texte : 'Life is great those days' -> Prédiction : Potential danger\n",
            "Texte : 'I am happy' -> Prédiction : No danger\n",
            "Texte : 'I am in a safe relationship' -> Prédiction : Potential danger\n",
            "Texte : 'My dad used to beat me after school' -> Prédiction : Potential danger\n"
          ]
        }
      ],
      "source": [
        "# Exemple de textes à prédire\n",
        "new_texts = [\n",
        "    \"I see diomestic violence everday.\",\n",
        "    \"Is it good to be beaten \",# Exemple violent\n",
        "    \"She enjoys spending time with friends\",\n",
        "    \"Feel like she is emotionally abuse.\",\n",
        "    \"Life is great those days\",\n",
        "    \"I am happy\",\n",
        "    \"I am in a safe relationship\",\n",
        "    \"My dad used to beat me after school\",# Exemple non violent\n",
        "]\n",
        "\n",
        "# Transformer les nouveaux textes\n",
        "new_texts_vec = vectorizer_selected.transform(new_texts)\n",
        "\n",
        "# Faire des prédictions\n",
        "predictions = model_dt.predict(new_texts_vec)\n",
        "\n",
        "# Afficher les résultats\n",
        "for text, pred in zip(new_texts, predictions):\n",
        "    label = \"Potential danger\" if pred == 1 else \"No danger\"\n",
        "    print(f\"Texte : '{text}' -> Prédiction : {label}\")"
      ]
    },
    {
      "cell_type": "code",
      "execution_count": null,
      "metadata": {
        "colab": {
          "base_uri": "https://localhost:8080/",
          "height": 472
        },
        "id": "E7iBik1fS0Fp",
        "outputId": "6a34daa0-cef5-4db7-cdb9-5a742d9ed8fb"
      },
      "outputs": [
        {
          "data": {
            "image/png": "[encoded data removed]",
            "text/plain": [
              "<Figure size 640x480 with 2 Axes>"
            ]
          },
          "metadata": {},
          "output_type": "display_data"
        }
      ],
      "source": [
        "from sklearn.metrics import confusion_matrix, ConfusionMatrixDisplay\n",
        "import matplotlib.pyplot as plt\n",
        "\n",
        "# Prédire sur les données de test\n",
        "y_pred = model_dt.predict(X_test_selected)  # Si tu utilises un modèle LSTM ou un autre modèle\n",
        "if hasattr(y_pred[0], \"__len__\"):  # Si le modèle donne des probabilités\n",
        "    y_pred = (y_pred > 0.5).astype(int)  # Convertir les probabilités en classes binaires\n",
        "\n",
        "# Calculer la matrice de confusion\n",
        "cm = confusion_matrix(y_test, y_pred)\n",
        "\n",
        "# Afficher la matrice de confusion\n",
        "disp = ConfusionMatrixDisplay(confusion_matrix=cm, display_labels=[\"No danger\", \"Potential danger\"])\n",
        "disp.plot(cmap=plt.cm.gnuplot)\n",
        "plt.title(\"Matrice de confusion\")\n",
        "plt.show()"
      ]
    },
    {
      "cell_type": "markdown",
      "metadata": {
        "id": "gZWu6ZdvS4Xh"
      },
      "source": [
        "#MLP"
      ]
    },
    {
      "cell_type": "code",
      "execution_count": null,
      "metadata": {
        "colab": {
          "base_uri": "https://localhost:8080/"
        },
        "id": "19DBhntVSwQV",
        "outputId": "8f78e300-4eca-4e26-c75e-33be44391530"
      },
      "outputs": [
        {
          "name": "stdout",
          "output_type": "stream",
          "text": [
            "Modèle MLP (Perceptron Multicouche) entraîné avec succès !\n"
          ]
        }
      ],
      "source": [
        "from sklearn.neural_network import MLPClassifier\n",
        "\n",
        "# Initialiser le modèle Perceptron Multicouche\n",
        "model_mlp = MLPClassifier(hidden_layer_sizes=(64, 32), max_iter=300, random_state=42)\n",
        "\n",
        "# Entraîner le modèle\n",
        "model_mlp.fit(X_train_selected, y_train)\n",
        "print(\"Modèle MLP (Perceptron Multicouche) entraîné avec succès !\")"
      ]
    },
    {
      "cell_type": "code",
      "execution_count": null,
      "metadata": {
        "colab": {
          "base_uri": "https://localhost:8080/"
        },
        "id": "qu064fF0TINK",
        "outputId": "a579b853-e4c6-4842-b057-4e5db6e17f6e"
      },
      "outputs": [
        {
          "name": "stdout",
          "output_type": "stream",
          "text": [
            "Rapport de classification :\n",
            "              precision    recall  f1-score   support\n",
            "\n",
            "           0       0.92      0.91      0.92      1107\n",
            "           1       0.96      0.97      0.97      2663\n",
            "\n",
            "    accuracy                           0.95      3770\n",
            "   macro avg       0.94      0.94      0.94      3770\n",
            "weighted avg       0.95      0.95      0.95      3770\n",
            "\n",
            "Précision du modèle : 0.95\n"
          ]
        }
      ],
      "source": [
        "# Faire des prédictions\n",
        "y_pred = model_mlp.predict(X_test_selected)\n",
        "\n",
        "# Afficher les métriques\n",
        "print(\"Rapport de classification :\")\n",
        "print(classification_report(y_test, y_pred))\n",
        "\n",
        "# Précision globale\n",
        "accuracy = accuracy_score(y_test, y_pred)\n",
        "print(f\"Précision du modèle : {accuracy:.2f}\")"
      ]
    },
    {
      "cell_type": "code",
      "execution_count": null,
      "metadata": {
        "colab": {
          "base_uri": "https://localhost:8080/"
        },
        "id": "UC2dyNxXTYdw",
        "outputId": "ff538740-b8b2-4c7f-e47c-8a0c6fef3203"
      },
      "outputs": [
        {
          "name": "stdout",
          "output_type": "stream",
          "text": [
            "Texte : 'I see diomestic violence everday.' -> Prédiction : Potential danger\n",
            "Texte : 'Is it good to be beaten ' -> Prédiction : Potential danger\n",
            "Texte : 'She enjoys spending time with friends' -> Prédiction : Potential danger\n",
            "Texte : 'Feel like she is emotionally abuse.' -> Prédiction : Potential danger\n",
            "Texte : 'Life is great those days' -> Prédiction : Potential danger\n",
            "Texte : 'I am happy' -> Prédiction : No danger\n",
            "Texte : 'I am in a safe relationship' -> Prédiction : Potential danger\n",
            "Texte : 'My dad used to beat me after school' -> Prédiction : Potential danger\n"
          ]
        }
      ],
      "source": [
        "# Exemple de textes à prédire\n",
        "new_texts = [\n",
        "    \"I see diomestic violence everday.\",\n",
        "    \"Is it good to be beaten \",# Exemple violent\n",
        "    \"She enjoys spending time with friends\",\n",
        "    \"Feel like she is emotionally abuse.\",\n",
        "    \"Life is great those days\",\n",
        "    \"I am happy\",\n",
        "    \"I am in a safe relationship\",\n",
        "    \"My dad used to beat me after school\",# Exemple non violent\n",
        "]\n",
        "\n",
        "# Transformer les nouveaux textes\n",
        "new_texts_vec = vectorizer_selected.transform(new_texts)\n",
        "\n",
        "# Faire des prédictions\n",
        "predictions = model_mlp.predict(new_texts_vec)\n",
        "\n",
        "# Afficher les résultats\n",
        "for text, pred in zip(new_texts, predictions):\n",
        "    label = \"Potential danger\" if pred == 1 else \"No danger\"\n",
        "    print(f\"Texte : '{text}' -> Prédiction : {label}\")"
      ]
    },
    {
      "cell_type": "code",
      "execution_count": null,
      "metadata": {
        "colab": {
          "base_uri": "https://localhost:8080/",
          "height": 472
        },
        "id": "p0xCHKtaThX6",
        "outputId": "725b2ada-036d-4176-e6af-08e51673ebad"
      },
      "outputs": [
        {
          "data": {
            "image/png": "[encoded data removed]",
            "text/plain": [
              "<Figure size 640x480 with 2 Axes>"
            ]
          },
          "metadata": {},
          "output_type": "display_data"
        }
      ],
      "source": [
        "# Prédire sur les données de test\n",
        "y_pred = model_mlp.predict(X_test_selected)  # Si tu utilises un modèle LSTM ou un autre modèle\n",
        "if hasattr(y_pred[0], \"__len__\"):  # Si le modèle donne des probabilités\n",
        "    y_pred = (y_pred > 0.5).astype(int)  # Convertir les probabilités en classes binaires\n",
        "\n",
        "# Calculer la matrice de confusion\n",
        "cm = confusion_matrix(y_test, y_pred)\n",
        "\n",
        "# Afficher la matrice de confusion\n",
        "disp = ConfusionMatrixDisplay(confusion_matrix=cm, display_labels=[\"No danger\", \"Potential danger\"])\n",
        "disp.plot(cmap=plt.cm.Reds)\n",
        "plt.title(\"Matrice de confusion\")\n",
        "plt.show()\n"
      ]
    },
    {
      "cell_type": "markdown",
      "metadata": {
        "id": "E-f4BHJIde9h"
      },
      "source": [
        "LSTM"
      ]
    },
    {
      "cell_type": "code",
      "execution_count": null,
      "metadata": {
        "colab": {
          "base_uri": "https://localhost:8080/"
        },
        "id": "wg642vXuM5wl",
        "outputId": "dc1faab6-62b8-4f02-cb5f-4029211ddb06"
      },
      "outputs": [
        {
          "name": "stdout",
          "output_type": "stream",
          "text": [
            "Taille des données d'entraînement : 15077\n",
            "Taille des données de test : 3770\n"
          ]
        }
      ],
      "source": [
        "from tensorflow.keras.preprocessing.text import Tokenizer\n",
        "from tensorflow.keras.preprocessing.sequence import pad_sequences\n",
        "from sklearn.model_selection import train_test_split\n",
        "\n",
        "# Charger les textes et labels\n",
        "X = balanced_df[\"new_title\"].tolist()\n",
        "y = balanced_df[\"label\"].tolist()\n",
        "\n",
        "# Tokeniser les textes\n",
        "tokenizer = Tokenizer(num_words=5000, oov_token=\"<OOV>\")\n",
        "tokenizer.fit_on_texts(X)\n",
        "\n",
        "# Convertir les textes en séquences\n",
        "X_sequences = tokenizer.texts_to_sequences(X)\n",
        "\n",
        "# Padding pour obtenir des séquences de même longueur\n",
        "X_padded = pad_sequences(X_sequences, maxlen=100, padding='post', truncating='post')\n",
        "\n",
        "# Diviser les données en ensembles d'entraînement et de test\n",
        "X_train, X_test, y_train, y_test = train_test_split(X_padded, y, test_size=0.2, random_state=42)\n",
        "\n",
        "import numpy as np\n",
        "\n",
        "# Convertir les labels en tableaux Numpy\n",
        "y_train = np.array(y_train)\n",
        "y_test = np.array(y_test)\n",
        "\n",
        "\n",
        "print(f\"Taille des données d'entraînement : {len(X_train)}\")\n",
        "print(f\"Taille des données de test : {len(X_test)}\")\n"
      ]
    },
    {
      "cell_type": "code",
      "execution_count": null,
      "metadata": {
        "colab": {
          "base_uri": "https://localhost:8080/",
          "height": 348
        },
        "id": "svizrLo2M5ty",
        "outputId": "d0db6c56-0580-4e2c-cf1e-510ed1317e19"
      },
      "outputs": [
        {
          "name": "stderr",
          "output_type": "stream",
          "text": [
            "/usr/local/lib/python3.10/dist-packages/keras/src/layers/core/embedding.py:90: UserWarning: Argument `input_length` is deprecated. Just remove it.\n",
            "  warnings.warn(\n"
          ]
        },
        {
          "data": {
            "text/html": [
              "<pre style=\"white-space:pre;overflow-x:auto;line-height:normal;font-family:Menlo,'DejaVu Sans Mono',consolas,'Courier New',monospace\"><span style=\"font-weight: bold\">Model: \"sequential\"</span>\n",
              "</pre>\n"
            ],
            "text/plain": [
              "\u001b[1mModel: \"sequential\"\u001b[0m\n"
            ]
          },
          "metadata": {},
          "output_type": "display_data"
        },
        {
          "data": {
            "text/html": [
              "<pre style=\"white-space:pre;overflow-x:auto;line-height:normal;font-family:Menlo,'DejaVu Sans Mono',consolas,'Courier New',monospace\">┏━━━━━━━━━━━━━━━━━━━━━━━━━━━━━━━━━━━━━━┳━━━━━━━━━━━━━━━━━━━━━━━━━━━━━┳━━━━━━━━━━━━━━━━━┓\n",
              "┃<span style=\"font-weight: bold\"> Layer (type)                         </span>┃<span style=\"font-weight: bold\"> Output Shape                </span>┃<span style=\"font-weight: bold\">         Param # </span>┃\n",
              "┡━━━━━━━━━━━━━━━━━━━━━━━━━━━━━━━━━━━━━━╇━━━━━━━━━━━━━━━━━━━━━━━━━━━━━╇━━━━━━━━━━━━━━━━━┩\n",
              "│ embedding (<span style=\"color: #0087ff; text-decoration-color: #0087ff\">Embedding</span>)                │ ?                           │     <span style=\"color: #00af00; text-decoration-color: #00af00\">0</span> (unbuilt) │\n",
              "├──────────────────────────────────────┼─────────────────────────────┼─────────────────┤\n",
              "│ lstm (<span style=\"color: #0087ff; text-decoration-color: #0087ff\">LSTM</span>)                          │ ?                           │     <span style=\"color: #00af00; text-decoration-color: #00af00\">0</span> (unbuilt) │\n",
              "├──────────────────────────────────────┼─────────────────────────────┼─────────────────┤\n",
              "│ dropout (<span style=\"color: #0087ff; text-decoration-color: #0087ff\">Dropout</span>)                    │ ?                           │     <span style=\"color: #00af00; text-decoration-color: #00af00\">0</span> (unbuilt) │\n",
              "├──────────────────────────────────────┼─────────────────────────────┼─────────────────┤\n",
              "│ dense (<span style=\"color: #0087ff; text-decoration-color: #0087ff\">Dense</span>)                        │ ?                           │     <span style=\"color: #00af00; text-decoration-color: #00af00\">0</span> (unbuilt) │\n",
              "├──────────────────────────────────────┼─────────────────────────────┼─────────────────┤\n",
              "│ dense_1 (<span style=\"color: #0087ff; text-decoration-color: #0087ff\">Dense</span>)                      │ ?                           │     <span style=\"color: #00af00; text-decoration-color: #00af00\">0</span> (unbuilt) │\n",
              "└──────────────────────────────────────┴─────────────────────────────┴─────────────────┘\n",
              "</pre>\n"
            ],
            "text/plain": [
              "┏━━━━━━━━━━━━━━━━━━━━━━━━━━━━━━━━━━━━━━┳━━━━━━━━━━━━━━━━━━━━━━━━━━━━━┳━━━━━━━━━━━━━━━━━┓\n",
              "┃\u001b[1m \u001b[0m\u001b[1mLayer (type)                        \u001b[0m\u001b[1m \u001b[0m┃\u001b[1m \u001b[0m\u001b[1mOutput Shape               \u001b[0m\u001b[1m \u001b[0m┃\u001b[1m \u001b[0m\u001b[1m        Param #\u001b[0m\u001b[1m \u001b[0m┃\n",
              "┡━━━━━━━━━━━━━━━━━━━━━━━━━━━━━━━━━━━━━━╇━━━━━━━━━━━━━━━━━━━━━━━━━━━━━╇━━━━━━━━━━━━━━━━━┩\n",
              "│ embedding (\u001b[38;5;33mEmbedding\u001b[0m)                │ ?                           │     \u001b[38;5;34m0\u001b[0m (unbuilt) │\n",
              "├──────────────────────────────────────┼─────────────────────────────┼─────────────────┤\n",
              "│ lstm (\u001b[38;5;33mLSTM\u001b[0m)                          │ ?                           │     \u001b[38;5;34m0\u001b[0m (unbuilt) │\n",
              "├──────────────────────────────────────┼─────────────────────────────┼─────────────────┤\n",
              "│ dropout (\u001b[38;5;33mDropout\u001b[0m)                    │ ?                           │     \u001b[38;5;34m0\u001b[0m (unbuilt) │\n",
              "├──────────────────────────────────────┼─────────────────────────────┼─────────────────┤\n",
              "│ dense (\u001b[38;5;33mDense\u001b[0m)                        │ ?                           │     \u001b[38;5;34m0\u001b[0m (unbuilt) │\n",
              "├──────────────────────────────────────┼─────────────────────────────┼─────────────────┤\n",
              "│ dense_1 (\u001b[38;5;33mDense\u001b[0m)                      │ ?                           │     \u001b[38;5;34m0\u001b[0m (unbuilt) │\n",
              "└──────────────────────────────────────┴─────────────────────────────┴─────────────────┘\n"
            ]
          },
          "metadata": {},
          "output_type": "display_data"
        },
        {
          "data": {
            "text/html": [
              "<pre style=\"white-space:pre;overflow-x:auto;line-height:normal;font-family:Menlo,'DejaVu Sans Mono',consolas,'Courier New',monospace\"><span style=\"font-weight: bold\"> Total params: </span><span style=\"color: #00af00; text-decoration-color: #00af00\">0</span> (0.00 B)\n",
              "</pre>\n"
            ],
            "text/plain": [
              "\u001b[1m Total params: \u001b[0m\u001b[38;5;34m0\u001b[0m (0.00 B)\n"
            ]
          },
          "metadata": {},
          "output_type": "display_data"
        },
        {
          "data": {
            "text/html": [
              "<pre style=\"white-space:pre;overflow-x:auto;line-height:normal;font-family:Menlo,'DejaVu Sans Mono',consolas,'Courier New',monospace\"><span style=\"font-weight: bold\"> Trainable params: </span><span style=\"color: #00af00; text-decoration-color: #00af00\">0</span> (0.00 B)\n",
              "</pre>\n"
            ],
            "text/plain": [
              "\u001b[1m Trainable params: \u001b[0m\u001b[38;5;34m0\u001b[0m (0.00 B)\n"
            ]
          },
          "metadata": {},
          "output_type": "display_data"
        },
        {
          "data": {
            "text/html": [
              "<pre style=\"white-space:pre;overflow-x:auto;line-height:normal;font-family:Menlo,'DejaVu Sans Mono',consolas,'Courier New',monospace\"><span style=\"font-weight: bold\"> Non-trainable params: </span><span style=\"color: #00af00; text-decoration-color: #00af00\">0</span> (0.00 B)\n",
              "</pre>\n"
            ],
            "text/plain": [
              "\u001b[1m Non-trainable params: \u001b[0m\u001b[38;5;34m0\u001b[0m (0.00 B)\n"
            ]
          },
          "metadata": {},
          "output_type": "display_data"
        },
        {
          "name": "stdout",
          "output_type": "stream",
          "text": [
            "None\n"
          ]
        }
      ],
      "source": [
        "from tensorflow.keras.models import Sequential\n",
        "from tensorflow.keras.layers import Embedding, LSTM, Dense, Dropout\n",
        "\n",
        "# Définir le modèle\n",
        "model_lstm = Sequential([\n",
        "    Embedding(input_dim=5000, output_dim=64, input_length=100),  # Couche d'embedding\n",
        "    LSTM(64, return_sequences=False),  # LSTM avec 64 unités\n",
        "    Dropout(0.5),  # Dropout pour éviter le sur-ajustement\n",
        "    Dense(64, activation='relu'),  # Couche entièrement connectée\n",
        "    Dense(1, activation='sigmoid')  # Couche de sortie\n",
        "])\n",
        "\n",
        "# Compiler le modèle\n",
        "model_lstm.compile(loss='binary_crossentropy', optimizer='adam', metrics=['accuracy'])\n",
        "\n",
        "print(model_lstm.summary())\n"
      ]
    },
    {
      "cell_type": "code",
      "execution_count": null,
      "metadata": {
        "colab": {
          "base_uri": "https://localhost:8080/"
        },
        "id": "S4N9zfNCO-fO",
        "outputId": "6363b4ea-35bc-433e-d245-4e45acb9d86f"
      },
      "outputs": [
        {
          "name": "stdout",
          "output_type": "stream",
          "text": [
            "Epoch 1/5\n",
            "\u001b[1m472/472\u001b[0m \u001b[32m━━━━━━━━━━━━━━━━━━━━\u001b[0m\u001b[37m\u001b[0m \u001b[1m27s\u001b[0m 20ms/step - accuracy: 0.6878 - loss: 0.6250 - val_accuracy: 0.7064 - val_loss: 0.6078\n",
            "Epoch 2/5\n",
            "\u001b[1m472/472\u001b[0m \u001b[32m━━━━━━━━━━━━━━━━━━━━\u001b[0m\u001b[37m\u001b[0m \u001b[1m6s\u001b[0m 13ms/step - accuracy: 0.6996 - loss: 0.6118 - val_accuracy: 0.7064 - val_loss: 0.6063\n",
            "Epoch 3/5\n",
            "\u001b[1m472/472\u001b[0m \u001b[32m━━━━━━━━━━━━━━━━━━━━\u001b[0m\u001b[37m\u001b[0m \u001b[1m9s\u001b[0m 10ms/step - accuracy: 0.7087 - loss: 0.6058 - val_accuracy: 0.7064 - val_loss: 0.6063\n",
            "Epoch 4/5\n",
            "\u001b[1m472/472\u001b[0m \u001b[32m━━━━━━━━━━━━━━━━━━━━\u001b[0m\u001b[37m\u001b[0m \u001b[1m4s\u001b[0m 8ms/step - accuracy: 0.7031 - loss: 0.6096 - val_accuracy: 0.7064 - val_loss: 0.6055\n",
            "Epoch 5/5\n",
            "\u001b[1m472/472\u001b[0m \u001b[32m━━━━━━━━━━━━━━━━━━━━\u001b[0m\u001b[37m\u001b[0m \u001b[1m4s\u001b[0m 8ms/step - accuracy: 0.6949 - loss: 0.6162 - val_accuracy: 0.7064 - val_loss: 0.6056\n"
          ]
        }
      ],
      "source": [
        "# Entraîner le modèle\n",
        "history = model_lstm.fit(\n",
        "    X_train, y_train,\n",
        "    validation_data=(X_test, y_test),\n",
        "    epochs=5,\n",
        "    batch_size=32\n",
        ")"
      ]
    },
    {
      "cell_type": "code",
      "execution_count": null,
      "metadata": {
        "colab": {
          "base_uri": "https://localhost:8080/"
        },
        "id": "3DZjdlldd1j1",
        "outputId": "4d69a82f-f194-420a-b29d-4b013f6d6920"
      },
      "outputs": [
        {
          "name": "stdout",
          "output_type": "stream",
          "text": [
            "\u001b[1m118/118\u001b[0m \u001b[32m━━━━━━━━━━━━━━━━━━━━\u001b[0m\u001b[37m\u001b[0m \u001b[1m0s\u001b[0m 3ms/step - accuracy: 0.7051 - loss: 0.6067\n",
            "Précision : 0.71\n"
          ]
        }
      ],
      "source": [
        "# Évaluer le modèle\n",
        "loss, accuracy = model_lstm.evaluate(X_test, y_test)\n",
        "print(f\"Précision : {accuracy:.2f}\")"
      ]
    },
    {
      "cell_type": "code",
      "execution_count": null,
      "metadata": {
        "colab": {
          "base_uri": "https://localhost:8080/"
        },
        "id": "FKu3sx40d6YD",
        "outputId": "b6b43166-a1d2-460d-a16c-d0ec16c56756"
      },
      "outputs": [
        {
          "name": "stdout",
          "output_type": "stream",
          "text": [
            "\u001b[1m1/1\u001b[0m \u001b[32m━━━━━━━━━━━━━━━━━━━━\u001b[0m\u001b[37m\u001b[0m \u001b[1m0s\u001b[0m 118ms/step\n",
            "Texte : 'Feel like she is emotionally abuse.' -> Prédiction : Violent\n",
            "Texte : 'Life is great those days' -> Prédiction : Violent\n",
            "Texte : 'I am happy' -> Prédiction : Violent\n",
            "Texte : 'I am in a safe relationship' -> Prédiction : Violent\n",
            "Texte : 'My dad used to beat me after school' -> Prédiction : Violent\n"
          ]
        }
      ],
      "source": [
        "# Nouveaux textes\n",
        "new_texts = [\n",
        "    \"Feel like she is emotionally abuse.\",\n",
        "    \"Life is great those days\",\n",
        "    \"I am happy\",\n",
        "    \"I am in a safe relationship\",\n",
        "    \"My dad used to beat me after school\",# Exemple violent\n",
        "        # Exemple non violent\n",
        "]\n",
        "\n",
        "# Prétraiter les nouveaux textes\n",
        "new_sequences = tokenizer.texts_to_sequences(new_texts)\n",
        "new_padded = pad_sequences(new_sequences, maxlen=100, padding='post', truncating='post')\n",
        "\n",
        "# Faire des prédictions\n",
        "predictions = model_lstm.predict(new_padded)\n",
        "\n",
        "# Afficher les résultats\n",
        "for text, pred in zip(new_texts, predictions):\n",
        "    label = \"Violent\" if pred > 0.5 else \"Non violent\"\n",
        "    print(f\"Texte : '{text}' -> Prédiction : {label}\")\n"
      ]
    },
    {
      "cell_type": "code",
      "execution_count": null,
      "metadata": {
        "id": "0TVOJsonrkyx"
      },
      "outputs": [],
      "source": [
        "# fin"
      ]
    },
    {
      "cell_type": "markdown",
      "metadata": {
        "id": "j68i-Gvns301"
      },
      "source": [
        "BERT"
      ]
    },
    {
      "cell_type": "code",
      "execution_count": null,
      "metadata": {
        "colab": {
          "base_uri": "https://localhost:8080/"
        },
        "id": "I7Pc7IAOs5Cn",
        "outputId": "910e6ca2-0d3a-4dd3-979f-69e113554995"
      },
      "outputs": [
        {
          "name": "stdout",
          "output_type": "stream",
          "text": [
            "Requirement already satisfied: transformers in /usr/local/lib/python3.10/dist-packages (4.47.1)\n",
            "Requirement already satisfied: torch in /usr/local/lib/python3.10/dist-packages (2.5.1+cu121)\n",
            "Requirement already satisfied: filelock in /usr/local/lib/python3.10/dist-packages (from transformers) (3.16.1)\n",
            "Requirement already satisfied: huggingface-hub<1.0,>=0.24.0 in /usr/local/lib/python3.10/dist-packages (from transformers) (0.27.1)\n",
            "Requirement already satisfied: numpy>=1.17 in /usr/local/lib/python3.10/dist-packages (from transformers) (1.26.4)\n",
            "Requirement already satisfied: packaging>=20.0 in /usr/local/lib/python3.10/dist-packages (from transformers) (24.2)\n",
            "Requirement already satisfied: pyyaml>=5.1 in /usr/local/lib/python3.10/dist-packages (from transformers) (6.0.2)\n",
            "Requirement already satisfied: regex!=2019.12.17 in /usr/local/lib/python3.10/dist-packages (from transformers) (2024.11.6)\n",
            "Requirement already satisfied: requests in /usr/local/lib/python3.10/dist-packages (from transformers) (2.32.3)\n",
            "Requirement already satisfied: tokenizers<0.22,>=0.21 in /usr/local/lib/python3.10/dist-packages (from transformers) (0.21.0)\n",
            "Requirement already satisfied: safetensors>=0.4.1 in /usr/local/lib/python3.10/dist-packages (from transformers) (0.5.0)\n",
            "Requirement already satisfied: tqdm>=4.27 in /usr/local/lib/python3.10/dist-packages (from transformers) (4.67.1)\n",
            "Requirement already satisfied: typing-extensions>=4.8.0 in /usr/local/lib/python3.10/dist-packages (from torch) (4.12.2)\n",
            "Requirement already satisfied: networkx in /usr/local/lib/python3.10/dist-packages (from torch) (3.4.2)\n",
            "Requirement already satisfied: jinja2 in /usr/local/lib/python3.10/dist-packages (from torch) (3.1.5)\n",
            "Requirement already satisfied: fsspec in /usr/local/lib/python3.10/dist-packages (from torch) (2024.10.0)\n",
            "Requirement already satisfied: sympy==1.13.1 in /usr/local/lib/python3.10/dist-packages (from torch) (1.13.1)\n",
            "Requirement already satisfied: mpmath<1.4,>=1.1.0 in /usr/local/lib/python3.10/dist-packages (from sympy==1.13.1->torch) (1.3.0)\n",
            "Requirement already satisfied: MarkupSafe>=2.0 in /usr/local/lib/python3.10/dist-packages (from jinja2->torch) (3.0.2)\n",
            "Requirement already satisfied: charset-normalizer<4,>=2 in /usr/local/lib/python3.10/dist-packages (from requests->transformers) (3.4.1)\n",
            "Requirement already satisfied: idna<4,>=2.5 in /usr/local/lib/python3.10/dist-packages (from requests->transformers) (3.10)\n",
            "Requirement already satisfied: urllib3<3,>=1.21.1 in /usr/local/lib/python3.10/dist-packages (from requests->transformers) (2.3.0)\n",
            "Requirement already satisfied: certifi>=2017.4.17 in /usr/local/lib/python3.10/dist-packages (from requests->transformers) (2024.12.14)\n"
          ]
        }
      ],
      "source": [
        "pip install transformers torch"
      ]
    },
    {
      "cell_type": "code",
      "execution_count": null,
      "metadata": {
        "colab": {
          "base_uri": "https://localhost:8080/",
          "height": 274,
          "referenced_widgets": [
            "6721b4b0450d4f0b9ee115dbcabe68aa",
            "a6742bf9bed94a6e8f819acdae5e5e59",
            "ed24cf2681c3497ca9bbb5eb0d1a14ce",
            "b3c7a60dcbac4eb5838161c0d693b715",
            "e9e6cbb9f29748d09a315feab5fe036f",
            "c7c1f92b0186415caac2c52c48168348",
            "4a9ad548e3d94fcdbed28c0a8b50fe6d",
            "d0a13b51ea644ec287b74e1f4a55a3dd",
            "4512d6e454c84a3a9f1f6cb24d7b24cd",
            "6cd8774f259c4fe7906e053cc9b7fbef",
            "31ee4e91a9d04e7bbe92f9c2d2d80036",
            "5fb21c75caad4f4d843c428923d22c47",
            "e56960a5d84942299184d199c2faa46a",
            "4fe75a62ab2945e6b4c6a9f6eb86d75f",
            "eab6d7b6e94547b6a07f7baa168cdca7",
            "c73382d2a22e4cc0b56441855d0e099e",
            "de3fc230e65b457983bd0059949dc296",
            "86b0adbb030d48b1a4d905d6d8b9ccc9",
            "aafa89c693d241b5af2ed5af38503c74",
            "4b4523a1cf7347c68d082296178fc16e",
            "7007b778b6e34e0fa3520d5e671a21ff",
            "df4644e1e27043cf8940d07a4444a043",
            "d148d3caf537458c9aa2c55c1a800665",
            "035b80bc39d740bb8d8a4fe7e76d34cd",
            "73f60c8bcc204b6bad260f799eba4745",
            "aebc0ed634e14f3ea18d83a18fdc6121",
            "340bf146976a457b867faecc00230869",
            "da2cd910f03a400b8aa1b0cd8fc34d4a",
            "c2b71c19d6fb4b8cbd54f8ca7fab2c38",
            "b7ec78f04cb84d038881a95e7f369022",
            "f12559e309da4c458445aa268d2f4dcc",
            "9cf8560f7c5445f999354222c23dabd6",
            "bc3b6914e4a34c5992040744ea7f7a62",
            "78863f241b8d48b5bea2125b58cd23e3",
            "b01014b4e7bc4e1bad4c61193f62effb",
            "e18de4fb3a804c1f84107b74a9556ac4",
            "cd81fbd0d9274a2c879bf370bceda3ad",
            "432213020c724c4a8001864f0b312aa3",
            "17624b88124843528740b544862fbe96",
            "fb91f1c8e73344ab9ae89e9aca3d687f",
            "19d5859985674eb1a6f22c4a108ae9a4",
            "66668b84b4d745e0bb74eccbcc349494",
            "e3e1f5a8dadf4964a22eba6e742bb5af",
            "2e886528f6944c1a8224f7a2b77b2a70"
          ]
        },
        "id": "u5s30OeAs6WH",
        "outputId": "34b81a05-8e22-48e8-eaf5-a1399aa1b8ab"
      },
      "outputs": [
        {
          "name": "stderr",
          "output_type": "stream",
          "text": [
            "/usr/local/lib/python3.10/dist-packages/huggingface_hub/utils/_auth.py:94: UserWarning: \n",
            "The secret `HF_TOKEN` does not exist in your Colab secrets.\n",
            "To authenticate with the Hugging Face Hub, create a token in your settings tab (https://huggingface.co/settings/tokens), set it as secret in your Google Colab and restart your session.\n",
            "You will be able to reuse this secret in all of your notebooks.\n",
            "Please note that authentication is recommended but still optional to access public models or datasets.\n",
            "  warnings.warn(\n"
          ]
        },
        {
          "data": {
            "application/vnd.jupyter.widget-view+json": {
              "model_id": "6721b4b0450d4f0b9ee115dbcabe68aa",
              "version_major": 2,
              "version_minor": 0
            },
            "text/plain": [
              "tokenizer_config.json:   0%|          | 0.00/48.0 [00:00<?, ?B/s]"
            ]
          },
          "metadata": {},
          "output_type": "display_data"
        },
        {
          "data": {
            "application/vnd.jupyter.widget-view+json": {
              "model_id": "5fb21c75caad4f4d843c428923d22c47",
              "version_major": 2,
              "version_minor": 0
            },
            "text/plain": [
              "vocab.txt:   0%|          | 0.00/232k [00:00<?, ?B/s]"
            ]
          },
          "metadata": {},
          "output_type": "display_data"
        },
        {
          "data": {
            "application/vnd.jupyter.widget-view+json": {
              "model_id": "d148d3caf537458c9aa2c55c1a800665",
              "version_major": 2,
              "version_minor": 0
            },
            "text/plain": [
              "tokenizer.json:   0%|          | 0.00/466k [00:00<?, ?B/s]"
            ]
          },
          "metadata": {},
          "output_type": "display_data"
        },
        {
          "data": {
            "application/vnd.jupyter.widget-view+json": {
              "model_id": "78863f241b8d48b5bea2125b58cd23e3",
              "version_major": 2,
              "version_minor": 0
            },
            "text/plain": [
              "config.json:   0%|          | 0.00/570 [00:00<?, ?B/s]"
            ]
          },
          "metadata": {},
          "output_type": "display_data"
        }
      ],
      "source": [
        "from transformers import BertTokenizer\n",
        "from sklearn.model_selection import train_test_split\n",
        "import torch\n",
        "\n",
        "# Charger les données équilibrées\n",
        "X = balanced_df[\"new_title\"].tolist()\n",
        "y = balanced_df[\"label\"].tolist()\n",
        "\n",
        "# Diviser en ensembles d'entraînement et de test\n",
        "X_train, X_test, y_train, y_test = train_test_split(X, y, test_size=0.2, random_state=42)\n",
        "\n",
        "# Charger le tokenizer de BERT\n",
        "tokenizer = BertTokenizer.from_pretrained('bert-base-uncased')\n",
        "\n",
        "# Tokeniser les textes\n",
        "def tokenize_texts(texts, labels, max_length=128):\n",
        "    inputs = tokenizer(texts, padding=True, truncation=True, max_length=max_length, return_tensors=\"pt\")\n",
        "    labels = torch.tensor(labels)\n",
        "    return inputs, labels\n",
        "\n",
        "train_inputs, train_labels = tokenize_texts(X_train, y_train)\n",
        "test_inputs, test_labels = tokenize_texts(X_test, y_test)\n"
      ]
    },
    {
      "cell_type": "code",
      "execution_count": null,
      "metadata": {
        "colab": {
          "base_uri": "https://localhost:8080/",
          "height": 105,
          "referenced_widgets": [
            "abba6129beb841e7b20b5acf64c04a49",
            "48137abe300a4ba6a11498cf7520c48d",
            "6cda20538fa44a0b814551fce45f3624",
            "849924a1b36f44869eff80450284f7a8",
            "84da4865b83b404ba3ba3f8ad4b16079",
            "f693c1cc2576439c91643a9287360a98",
            "2170b352f7b04b7686d72eecc548d77e",
            "baddc84ec5c1401aa52642c456442140",
            "56012f9b4f9f4654b0c7bdb4d3b990f8",
            "740e63397a99461c94bb181df7921a7c",
            "cc68b3f6cedf4b7696c3c94d91f8a021"
          ]
        },
        "id": "gSpbaMwUtGbK",
        "outputId": "67538a88-15ae-4fec-a8ee-3421f3d4291b"
      },
      "outputs": [
        {
          "data": {
            "application/vnd.jupyter.widget-view+json": {
              "model_id": "abba6129beb841e7b20b5acf64c04a49",
              "version_major": 2,
              "version_minor": 0
            },
            "text/plain": [
              "model.safetensors:   0%|          | 0.00/440M [00:00<?, ?B/s]"
            ]
          },
          "metadata": {},
          "output_type": "display_data"
        },
        {
          "name": "stderr",
          "output_type": "stream",
          "text": [
            "Some weights of BertForSequenceClassification were not initialized from the model checkpoint at bert-base-uncased and are newly initialized: ['classifier.bias', 'classifier.weight']\n",
            "You should probably TRAIN this model on a down-stream task to be able to use it for predictions and inference.\n"
          ]
        }
      ],
      "source": [
        "from transformers import BertForSequenceClassification\n",
        "\n",
        "# Charger le modèle BERT pour une tâche de classification binaire\n",
        "model = BertForSequenceClassification.from_pretrained('bert-base-uncased', num_labels=2)"
      ]
    },
    {
      "cell_type": "code",
      "execution_count": null,
      "metadata": {
        "colab": {
          "base_uri": "https://localhost:8080/"
        },
        "id": "gV-XV3t3tOBz",
        "outputId": "59d492a6-3ff0-411c-b9fd-9eb316031ebd"
      },
      "outputs": [
        {
          "name": "stderr",
          "output_type": "stream",
          "text": [
            "/usr/local/lib/python3.10/dist-packages/transformers/optimization.py:591: FutureWarning: This implementation of AdamW is deprecated and will be removed in a future version. Use the PyTorch implementation torch.optim.AdamW instead, or set `no_deprecation_warning=True` to disable this warning\n",
            "  warnings.warn(\n"
          ]
        }
      ],
      "source": [
        "from torch.utils.data import DataLoader, TensorDataset\n",
        "from transformers import AdamW\n",
        "\n",
        "# Préparer les datasets pour DataLoader\n",
        "train_dataset = TensorDataset(train_inputs['input_ids'], train_inputs['attention_mask'], train_labels)\n",
        "test_dataset = TensorDataset(test_inputs['input_ids'], test_inputs['attention_mask'], test_labels)\n",
        "\n",
        "# Créer les DataLoaders\n",
        "train_loader = DataLoader(train_dataset, batch_size=16, shuffle=True)\n",
        "test_loader = DataLoader(test_dataset, batch_size=16)\n",
        "\n",
        "# Optimiseur\n",
        "optimizer = AdamW(model.parameters(), lr=5e-5)\n",
        "\n",
        "# Déplacer le modèle sur GPU si disponible\n",
        "device = torch.device(\"cuda\" if torch.cuda.is_available() else \"cpu\")\n",
        "model = model.to(device)\n"
      ]
    },
    {
      "cell_type": "code",
      "execution_count": null,
      "metadata": {
        "colab": {
          "background_save": true,
          "base_uri": "https://localhost:8080/"
        },
        "id": "AKr5_5KntVkg",
        "outputId": "7309d006-03de-4f14-8998-acbb95d42f1d"
      },
      "outputs": [
        {
          "name": "stdout",
          "output_type": "stream",
          "text": [
            "Epoch 1/10, Loss: 0.2240\n",
            "Epoch 2/10, Loss: 0.0479\n",
            "Epoch 3/10, Loss: 0.0281\n",
            "Epoch 4/10, Loss: 0.0230\n",
            "Epoch 5/10, Loss: 0.0204\n",
            "Epoch 6/10, Loss: 0.0174\n",
            "Epoch 7/10, Loss: 0.0216\n",
            "Epoch 8/10, Loss: 0.0088\n",
            "Epoch 9/10, Loss: 0.0129\n",
            "Epoch 10/10, Loss: 0.0130\n"
          ]
        }
      ],
      "source": [
        "from torch.nn import CrossEntropyLoss\n",
        "\n",
        "# Fonction d'entraînement\n",
        "def train(model, train_loader, optimizer, device):\n",
        "    model.train()\n",
        "    total_loss = 0\n",
        "    for batch in train_loader:\n",
        "        input_ids, attention_mask, labels = [b.to(device) for b in batch]\n",
        "\n",
        "        # Réinitialiser les gradients\n",
        "        optimizer.zero_grad()\n",
        "\n",
        "        # Faire une passe avant\n",
        "        outputs = model(input_ids, attention_mask=attention_mask, labels=labels)\n",
        "        loss = outputs.loss\n",
        "        total_loss += loss.item()\n",
        "\n",
        "        # Rétropropagation\n",
        "        loss.backward()\n",
        "        optimizer.step()\n",
        "\n",
        "    return total_loss / len(train_loader)\n",
        "\n",
        "# Boucle d'entraînement\n",
        "epochs = 10\n",
        "for epoch in range(epochs):\n",
        "    train_loss = train(model, train_loader, optimizer, device)\n",
        "    print(f\"Epoch {epoch+1}/{epochs}, Loss: {train_loss:.4f}\")\n"
      ]
    },
    {
      "cell_type": "code",
      "execution_count": null,
      "metadata": {
        "colab": {
          "background_save": true
        },
        "id": "VBfPZpGZtVhA",
        "outputId": "7817ca80-3b3a-4492-fcde-bfb6862ac732"
      },
      "outputs": [
        {
          "name": "stdout",
          "output_type": "stream",
          "text": [
            "Rapport de classification :\n",
            "              precision    recall  f1-score   support\n",
            "\n",
            "           0       0.94      1.00      0.97      1107\n",
            "           1       1.00      0.97      0.99      2663\n",
            "\n",
            "    accuracy                           0.98      3770\n",
            "   macro avg       0.97      0.99      0.98      3770\n",
            "weighted avg       0.98      0.98      0.98      3770\n",
            "\n"
          ]
        }
      ],
      "source": [
        "from sklearn.metrics import classification_report\n",
        "\n",
        "def evaluate(model, test_loader, device):\n",
        "    model.eval()\n",
        "    preds, true_labels = [], []\n",
        "    with torch.no_grad():\n",
        "        for batch in test_loader:\n",
        "            input_ids, attention_mask, labels = [b.to(device) for b in batch]\n",
        "            outputs = model(input_ids, attention_mask=attention_mask)\n",
        "            logits = outputs.logits\n",
        "            preds.extend(torch.argmax(logits, axis=1).cpu().numpy())\n",
        "            true_labels.extend(labels.cpu().numpy())\n",
        "    return preds, true_labels\n",
        "\n",
        "# Faire l'évaluation\n",
        "predictions, true_labels = evaluate(model, test_loader, device)\n",
        "\n",
        "# Afficher le rapport de classification\n",
        "print(\"Rapport de classification :\")\n",
        "print(classification_report(true_labels, predictions))"
      ]
    },
    {
      "cell_type": "code",
      "execution_count": null,
      "metadata": {
        "colab": {
          "background_save": true
        },
        "id": "2GlVvDjKtutg",
        "outputId": "30e56f0d-f24b-403a-982d-a6c3d3052754"
      },
      "outputs": [
        {
          "name": "stdout",
          "output_type": "stream",
          "text": [
            "Texte : 'I see diomestic violence everday.' -> Prédiction : Violent\n",
            "Texte : 'Is it good to be beaten ' -> Prédiction : Violent\n",
            "Texte : 'She enjoys spending time with friends' -> Prédiction : Non violent\n",
            "Texte : 'Feel like she is emotionally abuse.' -> Prédiction : Violent\n",
            "Texte : 'Life is great those days' -> Prédiction : Violent\n",
            "Texte : 'I am happy' -> Prédiction : Non violent\n",
            "Texte : 'I am in a safe relationship' -> Prédiction : Violent\n",
            "Texte : 'My dad used to beat me after school' -> Prédiction : Violent\n"
          ]
        }
      ],
      "source": [
        "# Nouveaux textes\n",
        "new_texts = [\n",
        "    \"I see diomestic violence everday.\",\n",
        "    \"Is it good to be beaten \",# Exemple violent\n",
        "    \"She enjoys spending time with friends\",\n",
        "    \"Feel like she is emotionally abuse.\",\n",
        "    \"Life is great those days\",\n",
        "    \"I am happy\",\n",
        "    \"I am in a safe relationship\",\n",
        "    \"My dad used to beat me after school\",# Exemple non violent\n",
        "]\n",
        "\n",
        "# Tokeniser les nouveaux textes\n",
        "new_inputs = tokenizer(new_texts, padding=True, truncation=True, max_length=128, return_tensors=\"pt\")\n",
        "new_inputs = {key: value.to(device) for key, value in new_inputs.items()}\n",
        "\n",
        "# Faire des prédictions\n",
        "model.eval()\n",
        "with torch.no_grad():\n",
        "    outputs = model(**new_inputs)\n",
        "    predictions = torch.argmax(outputs.logits, axis=1)\n",
        "\n",
        "# Afficher les résultats\n",
        "for text, pred in zip(new_texts, predictions.cpu().numpy()):\n",
        "    label = \"Violent\" if pred == 1 else \"Non violent\"\n",
        "    print(f\"Texte : '{text}' -> Prédiction : {label}\")\n"
      ]
    }
  ],
  "metadata": {
    "accelerator": "GPU",
    "colab": {
      "gpuType": "T4",
      "provenance": []
    },
    "kernelspec": {
      "display_name": "Python 3",
      "name": "python3"
    },
    "language_info": {
      "codemirror_mode": {
        "name": "ipython",
        "version": 3
      },
      "file_extension": ".py",
      "mimetype": "text/x-python",
      "name": "python",
      "nbconvert_exporter": "python",
      "pygments_lexer": "ipython3",
      "version": "3.11.4"
    },
    "widgets": {
      "application/vnd.jupyter.widget-state+json": {
        "035b80bc39d740bb8d8a4fe7e76d34cd": {
          "model_module": "@jupyter-widgets/controls",
          "model_module_version": "1.5.0",
          "model_name": "HTMLModel",
          "state": {
            "_dom_classes": [],
            "_model_module": "@jupyter-widgets/controls",
            "_model_module_version": "1.5.0",
            "_model_name": "HTMLModel",
            "_view_count": null,
            "_view_module": "@jupyter-widgets/controls",
            "_view_module_version": "1.5.0",
            "_view_name": "HTMLView",
            "description": "",
            "description_tooltip": null,
            "layout": "IPY_MODEL_da2cd910f03a400b8aa1b0cd8fc34d4a",
            "placeholder": "​",
            "style": "IPY_MODEL_c2b71c19d6fb4b8cbd54f8ca7fab2c38",
            "value": "tokenizer.json: 100%"
          }
        },
        "17624b88124843528740b544862fbe96": {
          "model_module": "@jupyter-widgets/base",
          "model_module_version": "1.2.0",
          "model_name": "LayoutModel",
          "state": {
            "_model_module": "@jupyter-widgets/base",
            "_model_module_version": "1.2.0",
            "_model_name": "LayoutModel",
            "_view_count": null,
            "_view_module": "@jupyter-widgets/base",
            "_view_module_version": "1.2.0",
            "_view_name": "LayoutView",
            "align_content": null,
            "align_items": null,
            "align_self": null,
            "border": null,
            "bottom": null,
            "display": null,
            "flex": null,
            "flex_flow": null,
            "grid_area": null,
            "grid_auto_columns": null,
            "grid_auto_flow": null,
            "grid_auto_rows": null,
            "grid_column": null,
            "grid_gap": null,
            "grid_row": null,
            "grid_template_areas": null,
            "grid_template_columns": null,
            "grid_template_rows": null,
            "height": null,
            "justify_content": null,
            "justify_items": null,
            "left": null,
            "margin": null,
            "max_height": null,
            "max_width": null,
            "min_height": null,
            "min_width": null,
            "object_fit": null,
            "object_position": null,
            "order": null,
            "overflow": null,
            "overflow_x": null,
            "overflow_y": null,
            "padding": null,
            "right": null,
            "top": null,
            "visibility": null,
            "width": null
          }
        },
        "19d5859985674eb1a6f22c4a108ae9a4": {
          "model_module": "@jupyter-widgets/base",
          "model_module_version": "1.2.0",
          "model_name": "LayoutModel",
          "state": {
            "_model_module": "@jupyter-widgets/base",
            "_model_module_version": "1.2.0",
            "_model_name": "LayoutModel",
            "_view_count": null,
            "_view_module": "@jupyter-widgets/base",
            "_view_module_version": "1.2.0",
            "_view_name": "LayoutView",
            "align_content": null,
            "align_items": null,
            "align_self": null,
            "border": null,
            "bottom": null,
            "display": null,
            "flex": null,
            "flex_flow": null,
            "grid_area": null,
            "grid_auto_columns": null,
            "grid_auto_flow": null,
            "grid_auto_rows": null,
            "grid_column": null,
            "grid_gap": null,
            "grid_row": null,
            "grid_template_areas": null,
            "grid_template_columns": null,
            "grid_template_rows": null,
            "height": null,
            "justify_content": null,
            "justify_items": null,
            "left": null,
            "margin": null,
            "max_height": null,
            "max_width": null,
            "min_height": null,
            "min_width": null,
            "object_fit": null,
            "object_position": null,
            "order": null,
            "overflow": null,
            "overflow_x": null,
            "overflow_y": null,
            "padding": null,
            "right": null,
            "top": null,
            "visibility": null,
            "width": null
          }
        },
        "2170b352f7b04b7686d72eecc548d77e": {
          "model_module": "@jupyter-widgets/controls",
          "model_module_version": "1.5.0",
          "model_name": "DescriptionStyleModel",
          "state": {
            "_model_module": "@jupyter-widgets/controls",
            "_model_module_version": "1.5.0",
            "_model_name": "DescriptionStyleModel",
            "_view_count": null,
            "_view_module": "@jupyter-widgets/base",
            "_view_module_version": "1.2.0",
            "_view_name": "StyleView",
            "description_width": ""
          }
        },
        "2e886528f6944c1a8224f7a2b77b2a70": {
          "model_module": "@jupyter-widgets/controls",
          "model_module_version": "1.5.0",
          "model_name": "DescriptionStyleModel",
          "state": {
            "_model_module": "@jupyter-widgets/controls",
            "_model_module_version": "1.5.0",
            "_model_name": "DescriptionStyleModel",
            "_view_count": null,
            "_view_module": "@jupyter-widgets/base",
            "_view_module_version": "1.2.0",
            "_view_name": "StyleView",
            "description_width": ""
          }
        },
        "31ee4e91a9d04e7bbe92f9c2d2d80036": {
          "model_module": "@jupyter-widgets/controls",
          "model_module_version": "1.5.0",
          "model_name": "DescriptionStyleModel",
          "state": {
            "_model_module": "@jupyter-widgets/controls",
            "_model_module_version": "1.5.0",
            "_model_name": "DescriptionStyleModel",
            "_view_count": null,
            "_view_module": "@jupyter-widgets/base",
            "_view_module_version": "1.2.0",
            "_view_name": "StyleView",
            "description_width": ""
          }
        },
        "340bf146976a457b867faecc00230869": {
          "model_module": "@jupyter-widgets/base",
          "model_module_version": "1.2.0",
          "model_name": "LayoutModel",
          "state": {
            "_model_module": "@jupyter-widgets/base",
            "_model_module_version": "1.2.0",
            "_model_name": "LayoutModel",
            "_view_count": null,
            "_view_module": "@jupyter-widgets/base",
            "_view_module_version": "1.2.0",
            "_view_name": "LayoutView",
            "align_content": null,
            "align_items": null,
            "align_self": null,
            "border": null,
            "bottom": null,
            "display": null,
            "flex": null,
            "flex_flow": null,
            "grid_area": null,
            "grid_auto_columns": null,
            "grid_auto_flow": null,
            "grid_auto_rows": null,
            "grid_column": null,
            "grid_gap": null,
            "grid_row": null,
            "grid_template_areas": null,
            "grid_template_columns": null,
            "grid_template_rows": null,
            "height": null,
            "justify_content": null,
            "justify_items": null,
            "left": null,
            "margin": null,
            "max_height": null,
            "max_width": null,
            "min_height": null,
            "min_width": null,
            "object_fit": null,
            "object_position": null,
            "order": null,
            "overflow": null,
            "overflow_x": null,
            "overflow_y": null,
            "padding": null,
            "right": null,
            "top": null,
            "visibility": null,
            "width": null
          }
        },
        "432213020c724c4a8001864f0b312aa3": {
          "model_module": "@jupyter-widgets/base",
          "model_module_version": "1.2.0",
          "model_name": "LayoutModel",
          "state": {
            "_model_module": "@jupyter-widgets/base",
            "_model_module_version": "1.2.0",
            "_model_name": "LayoutModel",
            "_view_count": null,
            "_view_module": "@jupyter-widgets/base",
            "_view_module_version": "1.2.0",
            "_view_name": "LayoutView",
            "align_content": null,
            "align_items": null,
            "align_self": null,
            "border": null,
            "bottom": null,
            "display": null,
            "flex": null,
            "flex_flow": null,
            "grid_area": null,
            "grid_auto_columns": null,
            "grid_auto_flow": null,
            "grid_auto_rows": null,
            "grid_column": null,
            "grid_gap": null,
            "grid_row": null,
            "grid_template_areas": null,
            "grid_template_columns": null,
            "grid_template_rows": null,
            "height": null,
            "justify_content": null,
            "justify_items": null,
            "left": null,
            "margin": null,
            "max_height": null,
            "max_width": null,
            "min_height": null,
            "min_width": null,
            "object_fit": null,
            "object_position": null,
            "order": null,
            "overflow": null,
            "overflow_x": null,
            "overflow_y": null,
            "padding": null,
            "right": null,
            "top": null,
            "visibility": null,
            "width": null
          }
        },
        "4512d6e454c84a3a9f1f6cb24d7b24cd": {
          "model_module": "@jupyter-widgets/controls",
          "model_module_version": "1.5.0",
          "model_name": "ProgressStyleModel",
          "state": {
            "_model_module": "@jupyter-widgets/controls",
            "_model_module_version": "1.5.0",
            "_model_name": "ProgressStyleModel",
            "_view_count": null,
            "_view_module": "@jupyter-widgets/base",
            "_view_module_version": "1.2.0",
            "_view_name": "StyleView",
            "bar_color": null,
            "description_width": ""
          }
        },
        "48137abe300a4ba6a11498cf7520c48d": {
          "model_module": "@jupyter-widgets/controls",
          "model_module_version": "1.5.0",
          "model_name": "HTMLModel",
          "state": {
            "_dom_classes": [],
            "_model_module": "@jupyter-widgets/controls",
            "_model_module_version": "1.5.0",
            "_model_name": "HTMLModel",
            "_view_count": null,
            "_view_module": "@jupyter-widgets/controls",
            "_view_module_version": "1.5.0",
            "_view_name": "HTMLView",
            "description": "",
            "description_tooltip": null,
            "layout": "IPY_MODEL_f693c1cc2576439c91643a9287360a98",
            "placeholder": "​",
            "style": "IPY_MODEL_2170b352f7b04b7686d72eecc548d77e",
            "value": "model.safetensors: 100%"
          }
        },
        "4a9ad548e3d94fcdbed28c0a8b50fe6d": {
          "model_module": "@jupyter-widgets/controls",
          "model_module_version": "1.5.0",
          "model_name": "DescriptionStyleModel",
          "state": {
            "_model_module": "@jupyter-widgets/controls",
            "_model_module_version": "1.5.0",
            "_model_name": "DescriptionStyleModel",
            "_view_count": null,
            "_view_module": "@jupyter-widgets/base",
            "_view_module_version": "1.2.0",
            "_view_name": "StyleView",
            "description_width": ""
          }
        },
        "4b4523a1cf7347c68d082296178fc16e": {
          "model_module": "@jupyter-widgets/controls",
          "model_module_version": "1.5.0",
          "model_name": "ProgressStyleModel",
          "state": {
            "_model_module": "@jupyter-widgets/controls",
            "_model_module_version": "1.5.0",
            "_model_name": "ProgressStyleModel",
            "_view_count": null,
            "_view_module": "@jupyter-widgets/base",
            "_view_module_version": "1.2.0",
            "_view_name": "StyleView",
            "bar_color": null,
            "description_width": ""
          }
        },
        "4fe75a62ab2945e6b4c6a9f6eb86d75f": {
          "model_module": "@jupyter-widgets/controls",
          "model_module_version": "1.5.0",
          "model_name": "FloatProgressModel",
          "state": {
            "_dom_classes": [],
            "_model_module": "@jupyter-widgets/controls",
            "_model_module_version": "1.5.0",
            "_model_name": "FloatProgressModel",
            "_view_count": null,
            "_view_module": "@jupyter-widgets/controls",
            "_view_module_version": "1.5.0",
            "_view_name": "ProgressView",
            "bar_style": "success",
            "description": "",
            "description_tooltip": null,
            "layout": "IPY_MODEL_aafa89c693d241b5af2ed5af38503c74",
            "max": 231508,
            "min": 0,
            "orientation": "horizontal",
            "style": "IPY_MODEL_4b4523a1cf7347c68d082296178fc16e",
            "value": 231508
          }
        },
        "56012f9b4f9f4654b0c7bdb4d3b990f8": {
          "model_module": "@jupyter-widgets/controls",
          "model_module_version": "1.5.0",
          "model_name": "ProgressStyleModel",
          "state": {
            "_model_module": "@jupyter-widgets/controls",
            "_model_module_version": "1.5.0",
            "_model_name": "ProgressStyleModel",
            "_view_count": null,
            "_view_module": "@jupyter-widgets/base",
            "_view_module_version": "1.2.0",
            "_view_name": "StyleView",
            "bar_color": null,
            "description_width": ""
          }
        },
        "5fb21c75caad4f4d843c428923d22c47": {
          "model_module": "@jupyter-widgets/controls",
          "model_module_version": "1.5.0",
          "model_name": "HBoxModel",
          "state": {
            "_dom_classes": [],
            "_model_module": "@jupyter-widgets/controls",
            "_model_module_version": "1.5.0",
            "_model_name": "HBoxModel",
            "_view_count": null,
            "_view_module": "@jupyter-widgets/controls",
            "_view_module_version": "1.5.0",
            "_view_name": "HBoxView",
            "box_style": "",
            "children": [
              "IPY_MODEL_e56960a5d84942299184d199c2faa46a",
              "IPY_MODEL_4fe75a62ab2945e6b4c6a9f6eb86d75f",
              "IPY_MODEL_eab6d7b6e94547b6a07f7baa168cdca7"
            ],
            "layout": "IPY_MODEL_c73382d2a22e4cc0b56441855d0e099e"
          }
        },
        "66668b84b4d745e0bb74eccbcc349494": {
          "model_module": "@jupyter-widgets/controls",
          "model_module_version": "1.5.0",
          "model_name": "ProgressStyleModel",
          "state": {
            "_model_module": "@jupyter-widgets/controls",
            "_model_module_version": "1.5.0",
            "_model_name": "ProgressStyleModel",
            "_view_count": null,
            "_view_module": "@jupyter-widgets/base",
            "_view_module_version": "1.2.0",
            "_view_name": "StyleView",
            "bar_color": null,
            "description_width": ""
          }
        },
        "6721b4b0450d4f0b9ee115dbcabe68aa": {
          "model_module": "@jupyter-widgets/controls",
          "model_module_version": "1.5.0",
          "model_name": "HBoxModel",
          "state": {
            "_dom_classes": [],
            "_model_module": "@jupyter-widgets/controls",
            "_model_module_version": "1.5.0",
            "_model_name": "HBoxModel",
            "_view_count": null,
            "_view_module": "@jupyter-widgets/controls",
            "_view_module_version": "1.5.0",
            "_view_name": "HBoxView",
            "box_style": "",
            "children": [
              "IPY_MODEL_a6742bf9bed94a6e8f819acdae5e5e59",
              "IPY_MODEL_ed24cf2681c3497ca9bbb5eb0d1a14ce",
              "IPY_MODEL_b3c7a60dcbac4eb5838161c0d693b715"
            ],
            "layout": "IPY_MODEL_e9e6cbb9f29748d09a315feab5fe036f"
          }
        },
        "6cd8774f259c4fe7906e053cc9b7fbef": {
          "model_module": "@jupyter-widgets/base",
          "model_module_version": "1.2.0",
          "model_name": "LayoutModel",
          "state": {
            "_model_module": "@jupyter-widgets/base",
            "_model_module_version": "1.2.0",
            "_model_name": "LayoutModel",
            "_view_count": null,
            "_view_module": "@jupyter-widgets/base",
            "_view_module_version": "1.2.0",
            "_view_name": "LayoutView",
            "align_content": null,
            "align_items": null,
            "align_self": null,
            "border": null,
            "bottom": null,
            "display": null,
            "flex": null,
            "flex_flow": null,
            "grid_area": null,
            "grid_auto_columns": null,
            "grid_auto_flow": null,
            "grid_auto_rows": null,
            "grid_column": null,
            "grid_gap": null,
            "grid_row": null,
            "grid_template_areas": null,
            "grid_template_columns": null,
            "grid_template_rows": null,
            "height": null,
            "justify_content": null,
            "justify_items": null,
            "left": null,
            "margin": null,
            "max_height": null,
            "max_width": null,
            "min_height": null,
            "min_width": null,
            "object_fit": null,
            "object_position": null,
            "order": null,
            "overflow": null,
            "overflow_x": null,
            "overflow_y": null,
            "padding": null,
            "right": null,
            "top": null,
            "visibility": null,
            "width": null
          }
        },
        "6cda20538fa44a0b814551fce45f3624": {
          "model_module": "@jupyter-widgets/controls",
          "model_module_version": "1.5.0",
          "model_name": "FloatProgressModel",
          "state": {
            "_dom_classes": [],
            "_model_module": "@jupyter-widgets/controls",
            "_model_module_version": "1.5.0",
            "_model_name": "FloatProgressModel",
            "_view_count": null,
            "_view_module": "@jupyter-widgets/controls",
            "_view_module_version": "1.5.0",
            "_view_name": "ProgressView",
            "bar_style": "success",
            "description": "",
            "description_tooltip": null,
            "layout": "IPY_MODEL_baddc84ec5c1401aa52642c456442140",
            "max": 440449768,
            "min": 0,
            "orientation": "horizontal",
            "style": "IPY_MODEL_56012f9b4f9f4654b0c7bdb4d3b990f8",
            "value": 440449768
          }
        },
        "7007b778b6e34e0fa3520d5e671a21ff": {
          "model_module": "@jupyter-widgets/base",
          "model_module_version": "1.2.0",
          "model_name": "LayoutModel",
          "state": {
            "_model_module": "@jupyter-widgets/base",
            "_model_module_version": "1.2.0",
            "_model_name": "LayoutModel",
            "_view_count": null,
            "_view_module": "@jupyter-widgets/base",
            "_view_module_version": "1.2.0",
            "_view_name": "LayoutView",
            "align_content": null,
            "align_items": null,
            "align_self": null,
            "border": null,
            "bottom": null,
            "display": null,
            "flex": null,
            "flex_flow": null,
            "grid_area": null,
            "grid_auto_columns": null,
            "grid_auto_flow": null,
            "grid_auto_rows": null,
            "grid_column": null,
            "grid_gap": null,
            "grid_row": null,
            "grid_template_areas": null,
            "grid_template_columns": null,
            "grid_template_rows": null,
            "height": null,
            "justify_content": null,
            "justify_items": null,
            "left": null,
            "margin": null,
            "max_height": null,
            "max_width": null,
            "min_height": null,
            "min_width": null,
            "object_fit": null,
            "object_position": null,
            "order": null,
            "overflow": null,
            "overflow_x": null,
            "overflow_y": null,
            "padding": null,
            "right": null,
            "top": null,
            "visibility": null,
            "width": null
          }
        },
        "73f60c8bcc204b6bad260f799eba4745": {
          "model_module": "@jupyter-widgets/controls",
          "model_module_version": "1.5.0",
          "model_name": "FloatProgressModel",
          "state": {
            "_dom_classes": [],
            "_model_module": "@jupyter-widgets/controls",
            "_model_module_version": "1.5.0",
            "_model_name": "FloatProgressModel",
            "_view_count": null,
            "_view_module": "@jupyter-widgets/controls",
            "_view_module_version": "1.5.0",
            "_view_name": "ProgressView",
            "bar_style": "success",
            "description": "",
            "description_tooltip": null,
            "layout": "IPY_MODEL_b7ec78f04cb84d038881a95e7f369022",
            "max": 466062,
            "min": 0,
            "orientation": "horizontal",
            "style": "IPY_MODEL_f12559e309da4c458445aa268d2f4dcc",
            "value": 466062
          }
        },
        "740e63397a99461c94bb181df7921a7c": {
          "model_module": "@jupyter-widgets/base",
          "model_module_version": "1.2.0",
          "model_name": "LayoutModel",
          "state": {
            "_model_module": "@jupyter-widgets/base",
            "_model_module_version": "1.2.0",
            "_model_name": "LayoutModel",
            "_view_count": null,
            "_view_module": "@jupyter-widgets/base",
            "_view_module_version": "1.2.0",
            "_view_name": "LayoutView",
            "align_content": null,
            "align_items": null,
            "align_self": null,
            "border": null,
            "bottom": null,
            "display": null,
            "flex": null,
            "flex_flow": null,
            "grid_area": null,
            "grid_auto_columns": null,
            "grid_auto_flow": null,
            "grid_auto_rows": null,
            "grid_column": null,
            "grid_gap": null,
            "grid_row": null,
            "grid_template_areas": null,
            "grid_template_columns": null,
            "grid_template_rows": null,
            "height": null,
            "justify_content": null,
            "justify_items": null,
            "left": null,
            "margin": null,
            "max_height": null,
            "max_width": null,
            "min_height": null,
            "min_width": null,
            "object_fit": null,
            "object_position": null,
            "order": null,
            "overflow": null,
            "overflow_x": null,
            "overflow_y": null,
            "padding": null,
            "right": null,
            "top": null,
            "visibility": null,
            "width": null
          }
        },
        "78863f241b8d48b5bea2125b58cd23e3": {
          "model_module": "@jupyter-widgets/controls",
          "model_module_version": "1.5.0",
          "model_name": "HBoxModel",
          "state": {
            "_dom_classes": [],
            "_model_module": "@jupyter-widgets/controls",
            "_model_module_version": "1.5.0",
            "_model_name": "HBoxModel",
            "_view_count": null,
            "_view_module": "@jupyter-widgets/controls",
            "_view_module_version": "1.5.0",
            "_view_name": "HBoxView",
            "box_style": "",
            "children": [
              "IPY_MODEL_b01014b4e7bc4e1bad4c61193f62effb",
              "IPY_MODEL_e18de4fb3a804c1f84107b74a9556ac4",
              "IPY_MODEL_cd81fbd0d9274a2c879bf370bceda3ad"
            ],
            "layout": "IPY_MODEL_432213020c724c4a8001864f0b312aa3"
          }
        },
        "849924a1b36f44869eff80450284f7a8": {
          "model_module": "@jupyter-widgets/controls",
          "model_module_version": "1.5.0",
          "model_name": "HTMLModel",
          "state": {
            "_dom_classes": [],
            "_model_module": "@jupyter-widgets/controls",
            "_model_module_version": "1.5.0",
            "_model_name": "HTMLModel",
            "_view_count": null,
            "_view_module": "@jupyter-widgets/controls",
            "_view_module_version": "1.5.0",
            "_view_name": "HTMLView",
            "description": "",
            "description_tooltip": null,
            "layout": "IPY_MODEL_740e63397a99461c94bb181df7921a7c",
            "placeholder": "​",
            "style": "IPY_MODEL_cc68b3f6cedf4b7696c3c94d91f8a021",
            "value": " 440M/440M [00:04&lt;00:00, 103MB/s]"
          }
        },
        "84da4865b83b404ba3ba3f8ad4b16079": {
          "model_module": "@jupyter-widgets/base",
          "model_module_version": "1.2.0",
          "model_name": "LayoutModel",
          "state": {
            "_model_module": "@jupyter-widgets/base",
            "_model_module_version": "1.2.0",
            "_model_name": "LayoutModel",
            "_view_count": null,
            "_view_module": "@jupyter-widgets/base",
            "_view_module_version": "1.2.0",
            "_view_name": "LayoutView",
            "align_content": null,
            "align_items": null,
            "align_self": null,
            "border": null,
            "bottom": null,
            "display": null,
            "flex": null,
            "flex_flow": null,
            "grid_area": null,
            "grid_auto_columns": null,
            "grid_auto_flow": null,
            "grid_auto_rows": null,
            "grid_column": null,
            "grid_gap": null,
            "grid_row": null,
            "grid_template_areas": null,
            "grid_template_columns": null,
            "grid_template_rows": null,
            "height": null,
            "justify_content": null,
            "justify_items": null,
            "left": null,
            "margin": null,
            "max_height": null,
            "max_width": null,
            "min_height": null,
            "min_width": null,
            "object_fit": null,
            "object_position": null,
            "order": null,
            "overflow": null,
            "overflow_x": null,
            "overflow_y": null,
            "padding": null,
            "right": null,
            "top": null,
            "visibility": null,
            "width": null
          }
        },
        "86b0adbb030d48b1a4d905d6d8b9ccc9": {
          "model_module": "@jupyter-widgets/controls",
          "model_module_version": "1.5.0",
          "model_name": "DescriptionStyleModel",
          "state": {
            "_model_module": "@jupyter-widgets/controls",
            "_model_module_version": "1.5.0",
            "_model_name": "DescriptionStyleModel",
            "_view_count": null,
            "_view_module": "@jupyter-widgets/base",
            "_view_module_version": "1.2.0",
            "_view_name": "StyleView",
            "description_width": ""
          }
        },
        "9cf8560f7c5445f999354222c23dabd6": {
          "model_module": "@jupyter-widgets/base",
          "model_module_version": "1.2.0",
          "model_name": "LayoutModel",
          "state": {
            "_model_module": "@jupyter-widgets/base",
            "_model_module_version": "1.2.0",
            "_model_name": "LayoutModel",
            "_view_count": null,
            "_view_module": "@jupyter-widgets/base",
            "_view_module_version": "1.2.0",
            "_view_name": "LayoutView",
            "align_content": null,
            "align_items": null,
            "align_self": null,
            "border": null,
            "bottom": null,
            "display": null,
            "flex": null,
            "flex_flow": null,
            "grid_area": null,
            "grid_auto_columns": null,
            "grid_auto_flow": null,
            "grid_auto_rows": null,
            "grid_column": null,
            "grid_gap": null,
            "grid_row": null,
            "grid_template_areas": null,
            "grid_template_columns": null,
            "grid_template_rows": null,
            "height": null,
            "justify_content": null,
            "justify_items": null,
            "left": null,
            "margin": null,
            "max_height": null,
            "max_width": null,
            "min_height": null,
            "min_width": null,
            "object_fit": null,
            "object_position": null,
            "order": null,
            "overflow": null,
            "overflow_x": null,
            "overflow_y": null,
            "padding": null,
            "right": null,
            "top": null,
            "visibility": null,
            "width": null
          }
        },
        "a6742bf9bed94a6e8f819acdae5e5e59": {
          "model_module": "@jupyter-widgets/controls",
          "model_module_version": "1.5.0",
          "model_name": "HTMLModel",
          "state": {
            "_dom_classes": [],
            "_model_module": "@jupyter-widgets/controls",
            "_model_module_version": "1.5.0",
            "_model_name": "HTMLModel",
            "_view_count": null,
            "_view_module": "@jupyter-widgets/controls",
            "_view_module_version": "1.5.0",
            "_view_name": "HTMLView",
            "description": "",
            "description_tooltip": null,
            "layout": "IPY_MODEL_c7c1f92b0186415caac2c52c48168348",
            "placeholder": "​",
            "style": "IPY_MODEL_4a9ad548e3d94fcdbed28c0a8b50fe6d",
            "value": "tokenizer_config.json: 100%"
          }
        },
        "aafa89c693d241b5af2ed5af38503c74": {
          "model_module": "@jupyter-widgets/base",
          "model_module_version": "1.2.0",
          "model_name": "LayoutModel",
          "state": {
            "_model_module": "@jupyter-widgets/base",
            "_model_module_version": "1.2.0",
            "_model_name": "LayoutModel",
            "_view_count": null,
            "_view_module": "@jupyter-widgets/base",
            "_view_module_version": "1.2.0",
            "_view_name": "LayoutView",
            "align_content": null,
            "align_items": null,
            "align_self": null,
            "border": null,
            "bottom": null,
            "display": null,
            "flex": null,
            "flex_flow": null,
            "grid_area": null,
            "grid_auto_columns": null,
            "grid_auto_flow": null,
            "grid_auto_rows": null,
            "grid_column": null,
            "grid_gap": null,
            "grid_row": null,
            "grid_template_areas": null,
            "grid_template_columns": null,
            "grid_template_rows": null,
            "height": null,
            "justify_content": null,
            "justify_items": null,
            "left": null,
            "margin": null,
            "max_height": null,
            "max_width": null,
            "min_height": null,
            "min_width": null,
            "object_fit": null,
            "object_position": null,
            "order": null,
            "overflow": null,
            "overflow_x": null,
            "overflow_y": null,
            "padding": null,
            "right": null,
            "top": null,
            "visibility": null,
            "width": null
          }
        },
        "abba6129beb841e7b20b5acf64c04a49": {
          "model_module": "@jupyter-widgets/controls",
          "model_module_version": "1.5.0",
          "model_name": "HBoxModel",
          "state": {
            "_dom_classes": [],
            "_model_module": "@jupyter-widgets/controls",
            "_model_module_version": "1.5.0",
            "_model_name": "HBoxModel",
            "_view_count": null,
            "_view_module": "@jupyter-widgets/controls",
            "_view_module_version": "1.5.0",
            "_view_name": "HBoxView",
            "box_style": "",
            "children": [
              "IPY_MODEL_48137abe300a4ba6a11498cf7520c48d",
              "IPY_MODEL_6cda20538fa44a0b814551fce45f3624",
              "IPY_MODEL_849924a1b36f44869eff80450284f7a8"
            ],
            "layout": "IPY_MODEL_84da4865b83b404ba3ba3f8ad4b16079"
          }
        },
        "aebc0ed634e14f3ea18d83a18fdc6121": {
          "model_module": "@jupyter-widgets/controls",
          "model_module_version": "1.5.0",
          "model_name": "HTMLModel",
          "state": {
            "_dom_classes": [],
            "_model_module": "@jupyter-widgets/controls",
            "_model_module_version": "1.5.0",
            "_model_name": "HTMLModel",
            "_view_count": null,
            "_view_module": "@jupyter-widgets/controls",
            "_view_module_version": "1.5.0",
            "_view_name": "HTMLView",
            "description": "",
            "description_tooltip": null,
            "layout": "IPY_MODEL_9cf8560f7c5445f999354222c23dabd6",
            "placeholder": "​",
            "style": "IPY_MODEL_bc3b6914e4a34c5992040744ea7f7a62",
            "value": " 466k/466k [00:00&lt;00:00, 3.68MB/s]"
          }
        },
        "b01014b4e7bc4e1bad4c61193f62effb": {
          "model_module": "@jupyter-widgets/controls",
          "model_module_version": "1.5.0",
          "model_name": "HTMLModel",
          "state": {
            "_dom_classes": [],
            "_model_module": "@jupyter-widgets/controls",
            "_model_module_version": "1.5.0",
            "_model_name": "HTMLModel",
            "_view_count": null,
            "_view_module": "@jupyter-widgets/controls",
            "_view_module_version": "1.5.0",
            "_view_name": "HTMLView",
            "description": "",
            "description_tooltip": null,
            "layout": "IPY_MODEL_17624b88124843528740b544862fbe96",
            "placeholder": "​",
            "style": "IPY_MODEL_fb91f1c8e73344ab9ae89e9aca3d687f",
            "value": "config.json: 100%"
          }
        },
        "b3c7a60dcbac4eb5838161c0d693b715": {
          "model_module": "@jupyter-widgets/controls",
          "model_module_version": "1.5.0",
          "model_name": "HTMLModel",
          "state": {
            "_dom_classes": [],
            "_model_module": "@jupyter-widgets/controls",
            "_model_module_version": "1.5.0",
            "_model_name": "HTMLModel",
            "_view_count": null,
            "_view_module": "@jupyter-widgets/controls",
            "_view_module_version": "1.5.0",
            "_view_name": "HTMLView",
            "description": "",
            "description_tooltip": null,
            "layout": "IPY_MODEL_6cd8774f259c4fe7906e053cc9b7fbef",
            "placeholder": "​",
            "style": "IPY_MODEL_31ee4e91a9d04e7bbe92f9c2d2d80036",
            "value": " 48.0/48.0 [00:00&lt;00:00, 1.53kB/s]"
          }
        },
        "b7ec78f04cb84d038881a95e7f369022": {
          "model_module": "@jupyter-widgets/base",
          "model_module_version": "1.2.0",
          "model_name": "LayoutModel",
          "state": {
            "_model_module": "@jupyter-widgets/base",
            "_model_module_version": "1.2.0",
            "_model_name": "LayoutModel",
            "_view_count": null,
            "_view_module": "@jupyter-widgets/base",
            "_view_module_version": "1.2.0",
            "_view_name": "LayoutView",
            "align_content": null,
            "align_items": null,
            "align_self": null,
            "border": null,
            "bottom": null,
            "display": null,
            "flex": null,
            "flex_flow": null,
            "grid_area": null,
            "grid_auto_columns": null,
            "grid_auto_flow": null,
            "grid_auto_rows": null,
            "grid_column": null,
            "grid_gap": null,
            "grid_row": null,
            "grid_template_areas": null,
            "grid_template_columns": null,
            "grid_template_rows": null,
            "height": null,
            "justify_content": null,
            "justify_items": null,
            "left": null,
            "margin": null,
            "max_height": null,
            "max_width": null,
            "min_height": null,
            "min_width": null,
            "object_fit": null,
            "object_position": null,
            "order": null,
            "overflow": null,
            "overflow_x": null,
            "overflow_y": null,
            "padding": null,
            "right": null,
            "top": null,
            "visibility": null,
            "width": null
          }
        },
        "baddc84ec5c1401aa52642c456442140": {
          "model_module": "@jupyter-widgets/base",
          "model_module_version": "1.2.0",
          "model_name": "LayoutModel",
          "state": {
            "_model_module": "@jupyter-widgets/base",
            "_model_module_version": "1.2.0",
            "_model_name": "LayoutModel",
            "_view_count": null,
            "_view_module": "@jupyter-widgets/base",
            "_view_module_version": "1.2.0",
            "_view_name": "LayoutView",
            "align_content": null,
            "align_items": null,
            "align_self": null,
            "border": null,
            "bottom": null,
            "display": null,
            "flex": null,
            "flex_flow": null,
            "grid_area": null,
            "grid_auto_columns": null,
            "grid_auto_flow": null,
            "grid_auto_rows": null,
            "grid_column": null,
            "grid_gap": null,
            "grid_row": null,
            "grid_template_areas": null,
            "grid_template_columns": null,
            "grid_template_rows": null,
            "height": null,
            "justify_content": null,
            "justify_items": null,
            "left": null,
            "margin": null,
            "max_height": null,
            "max_width": null,
            "min_height": null,
            "min_width": null,
            "object_fit": null,
            "object_position": null,
            "order": null,
            "overflow": null,
            "overflow_x": null,
            "overflow_y": null,
            "padding": null,
            "right": null,
            "top": null,
            "visibility": null,
            "width": null
          }
        },
        "bc3b6914e4a34c5992040744ea7f7a62": {
          "model_module": "@jupyter-widgets/controls",
          "model_module_version": "1.5.0",
          "model_name": "DescriptionStyleModel",
          "state": {
            "_model_module": "@jupyter-widgets/controls",
            "_model_module_version": "1.5.0",
            "_model_name": "DescriptionStyleModel",
            "_view_count": null,
            "_view_module": "@jupyter-widgets/base",
            "_view_module_version": "1.2.0",
            "_view_name": "StyleView",
            "description_width": ""
          }
        },
        "c2b71c19d6fb4b8cbd54f8ca7fab2c38": {
          "model_module": "@jupyter-widgets/controls",
          "model_module_version": "1.5.0",
          "model_name": "DescriptionStyleModel",
          "state": {
            "_model_module": "@jupyter-widgets/controls",
            "_model_module_version": "1.5.0",
            "_model_name": "DescriptionStyleModel",
            "_view_count": null,
            "_view_module": "@jupyter-widgets/base",
            "_view_module_version": "1.2.0",
            "_view_name": "StyleView",
            "description_width": ""
          }
        },
        "c73382d2a22e4cc0b56441855d0e099e": {
          "model_module": "@jupyter-widgets/base",
          "model_module_version": "1.2.0",
          "model_name": "LayoutModel",
          "state": {
            "_model_module": "@jupyter-widgets/base",
            "_model_module_version": "1.2.0",
            "_model_name": "LayoutModel",
            "_view_count": null,
            "_view_module": "@jupyter-widgets/base",
            "_view_module_version": "1.2.0",
            "_view_name": "LayoutView",
            "align_content": null,
            "align_items": null,
            "align_self": null,
            "border": null,
            "bottom": null,
            "display": null,
            "flex": null,
            "flex_flow": null,
            "grid_area": null,
            "grid_auto_columns": null,
            "grid_auto_flow": null,
            "grid_auto_rows": null,
            "grid_column": null,
            "grid_gap": null,
            "grid_row": null,
            "grid_template_areas": null,
            "grid_template_columns": null,
            "grid_template_rows": null,
            "height": null,
            "justify_content": null,
            "justify_items": null,
            "left": null,
            "margin": null,
            "max_height": null,
            "max_width": null,
            "min_height": null,
            "min_width": null,
            "object_fit": null,
            "object_position": null,
            "order": null,
            "overflow": null,
            "overflow_x": null,
            "overflow_y": null,
            "padding": null,
            "right": null,
            "top": null,
            "visibility": null,
            "width": null
          }
        },
        "c7c1f92b0186415caac2c52c48168348": {
          "model_module": "@jupyter-widgets/base",
          "model_module_version": "1.2.0",
          "model_name": "LayoutModel",
          "state": {
            "_model_module": "@jupyter-widgets/base",
            "_model_module_version": "1.2.0",
            "_model_name": "LayoutModel",
            "_view_count": null,
            "_view_module": "@jupyter-widgets/base",
            "_view_module_version": "1.2.0",
            "_view_name": "LayoutView",
            "align_content": null,
            "align_items": null,
            "align_self": null,
            "border": null,
            "bottom": null,
            "display": null,
            "flex": null,
            "flex_flow": null,
            "grid_area": null,
            "grid_auto_columns": null,
            "grid_auto_flow": null,
            "grid_auto_rows": null,
            "grid_column": null,
            "grid_gap": null,
            "grid_row": null,
            "grid_template_areas": null,
            "grid_template_columns": null,
            "grid_template_rows": null,
            "height": null,
            "justify_content": null,
            "justify_items": null,
            "left": null,
            "margin": null,
            "max_height": null,
            "max_width": null,
            "min_height": null,
            "min_width": null,
            "object_fit": null,
            "object_position": null,
            "order": null,
            "overflow": null,
            "overflow_x": null,
            "overflow_y": null,
            "padding": null,
            "right": null,
            "top": null,
            "visibility": null,
            "width": null
          }
        },
        "cc68b3f6cedf4b7696c3c94d91f8a021": {
          "model_module": "@jupyter-widgets/controls",
          "model_module_version": "1.5.0",
          "model_name": "DescriptionStyleModel",
          "state": {
            "_model_module": "@jupyter-widgets/controls",
            "_model_module_version": "1.5.0",
            "_model_name": "DescriptionStyleModel",
            "_view_count": null,
            "_view_module": "@jupyter-widgets/base",
            "_view_module_version": "1.2.0",
            "_view_name": "StyleView",
            "description_width": ""
          }
        },
        "cd81fbd0d9274a2c879bf370bceda3ad": {
          "model_module": "@jupyter-widgets/controls",
          "model_module_version": "1.5.0",
          "model_name": "HTMLModel",
          "state": {
            "_dom_classes": [],
            "_model_module": "@jupyter-widgets/controls",
            "_model_module_version": "1.5.0",
            "_model_name": "HTMLModel",
            "_view_count": null,
            "_view_module": "@jupyter-widgets/controls",
            "_view_module_version": "1.5.0",
            "_view_name": "HTMLView",
            "description": "",
            "description_tooltip": null,
            "layout": "IPY_MODEL_e3e1f5a8dadf4964a22eba6e742bb5af",
            "placeholder": "​",
            "style": "IPY_MODEL_2e886528f6944c1a8224f7a2b77b2a70",
            "value": " 570/570 [00:00&lt;00:00, 9.36kB/s]"
          }
        },
        "d0a13b51ea644ec287b74e1f4a55a3dd": {
          "model_module": "@jupyter-widgets/base",
          "model_module_version": "1.2.0",
          "model_name": "LayoutModel",
          "state": {
            "_model_module": "@jupyter-widgets/base",
            "_model_module_version": "1.2.0",
            "_model_name": "LayoutModel",
            "_view_count": null,
            "_view_module": "@jupyter-widgets/base",
            "_view_module_version": "1.2.0",
            "_view_name": "LayoutView",
            "align_content": null,
            "align_items": null,
            "align_self": null,
            "border": null,
            "bottom": null,
            "display": null,
            "flex": null,
            "flex_flow": null,
            "grid_area": null,
            "grid_auto_columns": null,
            "grid_auto_flow": null,
            "grid_auto_rows": null,
            "grid_column": null,
            "grid_gap": null,
            "grid_row": null,
            "grid_template_areas": null,
            "grid_template_columns": null,
            "grid_template_rows": null,
            "height": null,
            "justify_content": null,
            "justify_items": null,
            "left": null,
            "margin": null,
            "max_height": null,
            "max_width": null,
            "min_height": null,
            "min_width": null,
            "object_fit": null,
            "object_position": null,
            "order": null,
            "overflow": null,
            "overflow_x": null,
            "overflow_y": null,
            "padding": null,
            "right": null,
            "top": null,
            "visibility": null,
            "width": null
          }
        },
        "d148d3caf537458c9aa2c55c1a800665": {
          "model_module": "@jupyter-widgets/controls",
          "model_module_version": "1.5.0",
          "model_name": "HBoxModel",
          "state": {
            "_dom_classes": [],
            "_model_module": "@jupyter-widgets/controls",
            "_model_module_version": "1.5.0",
            "_model_name": "HBoxModel",
            "_view_count": null,
            "_view_module": "@jupyter-widgets/controls",
            "_view_module_version": "1.5.0",
            "_view_name": "HBoxView",
            "box_style": "",
            "children": [
              "IPY_MODEL_035b80bc39d740bb8d8a4fe7e76d34cd",
              "IPY_MODEL_73f60c8bcc204b6bad260f799eba4745",
              "IPY_MODEL_aebc0ed634e14f3ea18d83a18fdc6121"
            ],
            "layout": "IPY_MODEL_340bf146976a457b867faecc00230869"
          }
        },
        "da2cd910f03a400b8aa1b0cd8fc34d4a": {
          "model_module": "@jupyter-widgets/base",
          "model_module_version": "1.2.0",
          "model_name": "LayoutModel",
          "state": {
            "_model_module": "@jupyter-widgets/base",
            "_model_module_version": "1.2.0",
            "_model_name": "LayoutModel",
            "_view_count": null,
            "_view_module": "@jupyter-widgets/base",
            "_view_module_version": "1.2.0",
            "_view_name": "LayoutView",
            "align_content": null,
            "align_items": null,
            "align_self": null,
            "border": null,
            "bottom": null,
            "display": null,
            "flex": null,
            "flex_flow": null,
            "grid_area": null,
            "grid_auto_columns": null,
            "grid_auto_flow": null,
            "grid_auto_rows": null,
            "grid_column": null,
            "grid_gap": null,
            "grid_row": null,
            "grid_template_areas": null,
            "grid_template_columns": null,
            "grid_template_rows": null,
            "height": null,
            "justify_content": null,
            "justify_items": null,
            "left": null,
            "margin": null,
            "max_height": null,
            "max_width": null,
            "min_height": null,
            "min_width": null,
            "object_fit": null,
            "object_position": null,
            "order": null,
            "overflow": null,
            "overflow_x": null,
            "overflow_y": null,
            "padding": null,
            "right": null,
            "top": null,
            "visibility": null,
            "width": null
          }
        },
        "de3fc230e65b457983bd0059949dc296": {
          "model_module": "@jupyter-widgets/base",
          "model_module_version": "1.2.0",
          "model_name": "LayoutModel",
          "state": {
            "_model_module": "@jupyter-widgets/base",
            "_model_module_version": "1.2.0",
            "_model_name": "LayoutModel",
            "_view_count": null,
            "_view_module": "@jupyter-widgets/base",
            "_view_module_version": "1.2.0",
            "_view_name": "LayoutView",
            "align_content": null,
            "align_items": null,
            "align_self": null,
            "border": null,
            "bottom": null,
            "display": null,
            "flex": null,
            "flex_flow": null,
            "grid_area": null,
            "grid_auto_columns": null,
            "grid_auto_flow": null,
            "grid_auto_rows": null,
            "grid_column": null,
            "grid_gap": null,
            "grid_row": null,
            "grid_template_areas": null,
            "grid_template_columns": null,
            "grid_template_rows": null,
            "height": null,
            "justify_content": null,
            "justify_items": null,
            "left": null,
            "margin": null,
            "max_height": null,
            "max_width": null,
            "min_height": null,
            "min_width": null,
            "object_fit": null,
            "object_position": null,
            "order": null,
            "overflow": null,
            "overflow_x": null,
            "overflow_y": null,
            "padding": null,
            "right": null,
            "top": null,
            "visibility": null,
            "width": null
          }
        },
        "df4644e1e27043cf8940d07a4444a043": {
          "model_module": "@jupyter-widgets/controls",
          "model_module_version": "1.5.0",
          "model_name": "DescriptionStyleModel",
          "state": {
            "_model_module": "@jupyter-widgets/controls",
            "_model_module_version": "1.5.0",
            "_model_name": "DescriptionStyleModel",
            "_view_count": null,
            "_view_module": "@jupyter-widgets/base",
            "_view_module_version": "1.2.0",
            "_view_name": "StyleView",
            "description_width": ""
          }
        },
        "e18de4fb3a804c1f84107b74a9556ac4": {
          "model_module": "@jupyter-widgets/controls",
          "model_module_version": "1.5.0",
          "model_name": "FloatProgressModel",
          "state": {
            "_dom_classes": [],
            "_model_module": "@jupyter-widgets/controls",
            "_model_module_version": "1.5.0",
            "_model_name": "FloatProgressModel",
            "_view_count": null,
            "_view_module": "@jupyter-widgets/controls",
            "_view_module_version": "1.5.0",
            "_view_name": "ProgressView",
            "bar_style": "success",
            "description": "",
            "description_tooltip": null,
            "layout": "IPY_MODEL_19d5859985674eb1a6f22c4a108ae9a4",
            "max": 570,
            "min": 0,
            "orientation": "horizontal",
            "style": "IPY_MODEL_66668b84b4d745e0bb74eccbcc349494",
            "value": 570
          }
        },
        "e3e1f5a8dadf4964a22eba6e742bb5af": {
          "model_module": "@jupyter-widgets/base",
          "model_module_version": "1.2.0",
          "model_name": "LayoutModel",
          "state": {
            "_model_module": "@jupyter-widgets/base",
            "_model_module_version": "1.2.0",
            "_model_name": "LayoutModel",
            "_view_count": null,
            "_view_module": "@jupyter-widgets/base",
            "_view_module_version": "1.2.0",
            "_view_name": "LayoutView",
            "align_content": null,
            "align_items": null,
            "align_self": null,
            "border": null,
            "bottom": null,
            "display": null,
            "flex": null,
            "flex_flow": null,
            "grid_area": null,
            "grid_auto_columns": null,
            "grid_auto_flow": null,
            "grid_auto_rows": null,
            "grid_column": null,
            "grid_gap": null,
            "grid_row": null,
            "grid_template_areas": null,
            "grid_template_columns": null,
            "grid_template_rows": null,
            "height": null,
            "justify_content": null,
            "justify_items": null,
            "left": null,
            "margin": null,
            "max_height": null,
            "max_width": null,
            "min_height": null,
            "min_width": null,
            "object_fit": null,
            "object_position": null,
            "order": null,
            "overflow": null,
            "overflow_x": null,
            "overflow_y": null,
            "padding": null,
            "right": null,
            "top": null,
            "visibility": null,
            "width": null
          }
        },
        "e56960a5d84942299184d199c2faa46a": {
          "model_module": "@jupyter-widgets/controls",
          "model_module_version": "1.5.0",
          "model_name": "HTMLModel",
          "state": {
            "_dom_classes": [],
            "_model_module": "@jupyter-widgets/controls",
            "_model_module_version": "1.5.0",
            "_model_name": "HTMLModel",
            "_view_count": null,
            "_view_module": "@jupyter-widgets/controls",
            "_view_module_version": "1.5.0",
            "_view_name": "HTMLView",
            "description": "",
            "description_tooltip": null,
            "layout": "IPY_MODEL_de3fc230e65b457983bd0059949dc296",
            "placeholder": "​",
            "style": "IPY_MODEL_86b0adbb030d48b1a4d905d6d8b9ccc9",
            "value": "vocab.txt: 100%"
          }
        },
        "e9e6cbb9f29748d09a315feab5fe036f": {
          "model_module": "@jupyter-widgets/base",
          "model_module_version": "1.2.0",
          "model_name": "LayoutModel",
          "state": {
            "_model_module": "@jupyter-widgets/base",
            "_model_module_version": "1.2.0",
            "_model_name": "LayoutModel",
            "_view_count": null,
            "_view_module": "@jupyter-widgets/base",
            "_view_module_version": "1.2.0",
            "_view_name": "LayoutView",
            "align_content": null,
            "align_items": null,
            "align_self": null,
            "border": null,
            "bottom": null,
            "display": null,
            "flex": null,
            "flex_flow": null,
            "grid_area": null,
            "grid_auto_columns": null,
            "grid_auto_flow": null,
            "grid_auto_rows": null,
            "grid_column": null,
            "grid_gap": null,
            "grid_row": null,
            "grid_template_areas": null,
            "grid_template_columns": null,
            "grid_template_rows": null,
            "height": null,
            "justify_content": null,
            "justify_items": null,
            "left": null,
            "margin": null,
            "max_height": null,
            "max_width": null,
            "min_height": null,
            "min_width": null,
            "object_fit": null,
            "object_position": null,
            "order": null,
            "overflow": null,
            "overflow_x": null,
            "overflow_y": null,
            "padding": null,
            "right": null,
            "top": null,
            "visibility": null,
            "width": null
          }
        },
        "eab6d7b6e94547b6a07f7baa168cdca7": {
          "model_module": "@jupyter-widgets/controls",
          "model_module_version": "1.5.0",
          "model_name": "HTMLModel",
          "state": {
            "_dom_classes": [],
            "_model_module": "@jupyter-widgets/controls",
            "_model_module_version": "1.5.0",
            "_model_name": "HTMLModel",
            "_view_count": null,
            "_view_module": "@jupyter-widgets/controls",
            "_view_module_version": "1.5.0",
            "_view_name": "HTMLView",
            "description": "",
            "description_tooltip": null,
            "layout": "IPY_MODEL_7007b778b6e34e0fa3520d5e671a21ff",
            "placeholder": "​",
            "style": "IPY_MODEL_df4644e1e27043cf8940d07a4444a043",
            "value": " 232k/232k [00:00&lt;00:00, 2.85MB/s]"
          }
        },
        "ed24cf2681c3497ca9bbb5eb0d1a14ce": {
          "model_module": "@jupyter-widgets/controls",
          "model_module_version": "1.5.0",
          "model_name": "FloatProgressModel",
          "state": {
            "_dom_classes": [],
            "_model_module": "@jupyter-widgets/controls",
            "_model_module_version": "1.5.0",
            "_model_name": "FloatProgressModel",
            "_view_count": null,
            "_view_module": "@jupyter-widgets/controls",
            "_view_module_version": "1.5.0",
            "_view_name": "ProgressView",
            "bar_style": "success",
            "description": "",
            "description_tooltip": null,
            "layout": "IPY_MODEL_d0a13b51ea644ec287b74e1f4a55a3dd",
            "max": 48,
            "min": 0,
            "orientation": "horizontal",
            "style": "IPY_MODEL_4512d6e454c84a3a9f1f6cb24d7b24cd",
            "value": 48
          }
        },
        "f12559e309da4c458445aa268d2f4dcc": {
          "model_module": "@jupyter-widgets/controls",
          "model_module_version": "1.5.0",
          "model_name": "ProgressStyleModel",
          "state": {
            "_model_module": "@jupyter-widgets/controls",
            "_model_module_version": "1.5.0",
            "_model_name": "ProgressStyleModel",
            "_view_count": null,
            "_view_module": "@jupyter-widgets/base",
            "_view_module_version": "1.2.0",
            "_view_name": "StyleView",
            "bar_color": null,
            "description_width": ""
          }
        },
        "f693c1cc2576439c91643a9287360a98": {
          "model_module": "@jupyter-widgets/base",
          "model_module_version": "1.2.0",
          "model_name": "LayoutModel",
          "state": {
            "_model_module": "@jupyter-widgets/base",
            "_model_module_version": "1.2.0",
            "_model_name": "LayoutModel",
            "_view_count": null,
            "_view_module": "@jupyter-widgets/base",
            "_view_module_version": "1.2.0",
            "_view_name": "LayoutView",
            "align_content": null,
            "align_items": null,
            "align_self": null,
            "border": null,
            "bottom": null,
            "display": null,
            "flex": null,
            "flex_flow": null,
            "grid_area": null,
            "grid_auto_columns": null,
            "grid_auto_flow": null,
            "grid_auto_rows": null,
            "grid_column": null,
            "grid_gap": null,
            "grid_row": null,
            "grid_template_areas": null,
            "grid_template_columns": null,
            "grid_template_rows": null,
            "height": null,
            "justify_content": null,
            "justify_items": null,
            "left": null,
            "margin": null,
            "max_height": null,
            "max_width": null,
            "min_height": null,
            "min_width": null,
            "object_fit": null,
            "object_position": null,
            "order": null,
            "overflow": null,
            "overflow_x": null,
            "overflow_y": null,
            "padding": null,
            "right": null,
            "top": null,
            "visibility": null,
            "width": null
          }
        },
        "fb91f1c8e73344ab9ae89e9aca3d687f": {
          "model_module": "@jupyter-widgets/controls",
          "model_module_version": "1.5.0",
          "model_name": "DescriptionStyleModel",
          "state": {
            "_model_module": "@jupyter-widgets/controls",
            "_model_module_version": "1.5.0",
            "_model_name": "DescriptionStyleModel",
            "_view_count": null,
            "_view_module": "@jupyter-widgets/base",
            "_view_module_version": "1.2.0",
            "_view_name": "StyleView",
            "description_width": ""
          }
        }
      }
    }
  },
  "nbformat": 4,
  "nbformat_minor": 0
}
{
  "cells": [
    {
      "cell_type": "markdown",
      "metadata": {
        "id": "czmb2CAfwZkB"
      },
      "source": [
        "### <font color='#00d2d3'> Importer les packages"
      ]
    },
    {
      "cell_type": "code",
      "execution_count": 305,
      "metadata": {
        "id": "LU_5yINqMjZ0",
        "colab": {
          "base_uri": "https://localhost:8080/"
        },
        "outputId": "8cfaa96f-57c9-44ab-9e95-655ab0d92a58"
      },
      "outputs": [
        {
          "output_type": "stream",
          "name": "stderr",
          "text": [
            "[nltk_data] Downloading package stopwords to /root/nltk_data...\n",
            "[nltk_data]   Package stopwords is already up-to-date!\n",
            "[nltk_data] Downloading package wordnet to /root/nltk_data...\n",
            "[nltk_data]   Package wordnet is already up-to-date!\n"
          ]
        }
      ],
      "source": [
        "# Importer les packages\n",
        "import numpy as np\n",
        "import pandas as pd\n",
        "import matplotlib.pyplot as plt\n",
        "import re\n",
        "import nltk\n",
        "nltk.download('stopwords') # Télécharger le package stopwords\n",
        "nltk.download('wordnet')\n",
        "from nltk.corpus import stopwords # Importer le package stopwords"
      ]
    },
    {
      "cell_type": "markdown",
      "metadata": {
        "id": "KlHMJw7NQw5k"
      },
      "source": [
        "### <font color='#00d2d3'> Importer et lire les données"
      ]
    },
    {
      "cell_type": "code",
      "execution_count": 306,
      "metadata": {
        "id": "QYwI5fuQMojZ",
        "colab": {
          "base_uri": "https://localhost:8080/"
        },
        "outputId": "d5aac7df-7901-49c4-e882-1d888e02c30c"
      },
      "outputs": [
        {
          "output_type": "stream",
          "name": "stdout",
          "text": [
            "Drive already mounted at /content/drive; to attempt to forcibly remount, call drive.mount(\"/content/drive\", force_remount=True).\n"
          ]
        }
      ],
      "source": [
        "# Importer les données\n",
        "from google.colab import drive\n",
        "drive.mount('/content/drive')"
      ]
    },
    {
      "cell_type": "code",
      "source": [
        "# Afficher les données\n",
        "data=pd.read_csv('/content/drive/MyDrive/Future_Intern/reddit_data.csv')\n",
        "data"
      ],
      "metadata": {
        "colab": {
          "base_uri": "https://localhost:8080/",
          "height": 423
        },
        "id": "pk4viDNHKqNg",
        "outputId": "1031a49c-8d8e-4514-b204-4b6dc10a15b6"
      },
      "execution_count": 307,
      "outputs": [
        {
          "output_type": "execute_result",
          "data": {
            "text/plain": [
              "                                                   title  \\\n",
              "0                  Is this considered domestic violence?   \n",
              "1      My family expects me (30F) to leave my family ...   \n",
              "2      My [22f] boyfriend [23m] got arrested on a dom...   \n",
              "3      [UPDATE] Me [28 F] with my BF [29 M] of 3 year...   \n",
              "4      Last night my (25F) boyfriend of 6 months (30M...   \n",
              "...                                                  ...   \n",
              "13242  What's the worst relationship advice you've ev...   \n",
              "13243  Do you believe that love is the most important...   \n",
              "13244  Why do so many women love stories such as Twil...   \n",
              "13245  What are some small things that you silently j...   \n",
              "13246  Women of Reddit, how do you keep your happines...   \n",
              "\n",
              "                                                selftext   created_utc  \\\n",
              "0      \\nMe (28f) nd my boyfriend (34m) have been in ...  1.720186e+09   \n",
              "1      My mother is disabled due to a neurological il...  1.561784e+09   \n",
              "2      My boyfriend, Trevor and I live with a family ...  1.471977e+09   \n",
              "3      Original post: https://www.reddit.com/r/relati...  1.443372e+09   \n",
              "4      Basically the title, but I will elaborate a li...  1.690806e+09   \n",
              "...                                                  ...           ...   \n",
              "13242  I was told to divorce my husband for being pou...  1.445544e+09   \n",
              "13243  My sister's boyfriend treats her like shit. He...  1.420999e+09   \n",
              "13244  I find it perplexing that so many women enjoy ...  1.413976e+09   \n",
              "13245                                                NaN  1.544510e+09   \n",
              "13246  I hope the title makes sense, & I hope this do...  1.446355e+09   \n",
              "\n",
              "                   author      subreddit  \n",
              "0         Double-Back-777  relationships  \n",
              "1       LittleMissPotatoe  relationships  \n",
              "2           Upandaway3435  relationships  \n",
              "3             annoyedthrw  relationships  \n",
              "4      Stock-Property1326  relationships  \n",
              "...                   ...            ...  \n",
              "13242       anxiousgirl89       AskWomen  \n",
              "13243      UFOtookmysheep       AskWomen  \n",
              "13244          Bendersass       AskWomen  \n",
              "13245         MrRomantico       AskWomen  \n",
              "13246          fancipants       AskWomen  \n",
              "\n",
              "[13247 rows x 5 columns]"
            ],
            "text/html": [
              "\n",
              "  <div id=\"df-ab673a2a-9e46-4a44-95e7-fb792395601c\" class=\"colab-df-container\">\n",
              "    <div>\n",
              "<style scoped>\n",
              "    .dataframe tbody tr th:only-of-type {\n",
              "        vertical-align: middle;\n",
              "    }\n",
              "\n",
              "    .dataframe tbody tr th {\n",
              "        vertical-align: top;\n",
              "    }\n",
              "\n",
              "    .dataframe thead th {\n",
              "        text-align: right;\n",
              "    }\n",
              "</style>\n",
              "<table border=\"1\" class=\"dataframe\">\n",
              "  <thead>\n",
              "    <tr style=\"text-align: right;\">\n",
              "      <th></th>\n",
              "      <th>title</th>\n",
              "      <th>selftext</th>\n",
              "      <th>created_utc</th>\n",
              "      <th>author</th>\n",
              "      <th>subreddit</th>\n",
              "    </tr>\n",
              "  </thead>\n",
              "  <tbody>\n",
              "    <tr>\n",
              "      <th>0</th>\n",
              "      <td>Is this considered domestic violence?</td>\n",
              "      <td>\\nMe (28f) nd my boyfriend (34m) have been in ...</td>\n",
              "      <td>1.720186e+09</td>\n",
              "      <td>Double-Back-777</td>\n",
              "      <td>relationships</td>\n",
              "    </tr>\n",
              "    <tr>\n",
              "      <th>1</th>\n",
              "      <td>My family expects me (30F) to leave my family ...</td>\n",
              "      <td>My mother is disabled due to a neurological il...</td>\n",
              "      <td>1.561784e+09</td>\n",
              "      <td>LittleMissPotatoe</td>\n",
              "      <td>relationships</td>\n",
              "    </tr>\n",
              "    <tr>\n",
              "      <th>2</th>\n",
              "      <td>My [22f] boyfriend [23m] got arrested on a dom...</td>\n",
              "      <td>My boyfriend, Trevor and I live with a family ...</td>\n",
              "      <td>1.471977e+09</td>\n",
              "      <td>Upandaway3435</td>\n",
              "      <td>relationships</td>\n",
              "    </tr>\n",
              "    <tr>\n",
              "      <th>3</th>\n",
              "      <td>[UPDATE] Me [28 F] with my BF [29 M] of 3 year...</td>\n",
              "      <td>Original post: https://www.reddit.com/r/relati...</td>\n",
              "      <td>1.443372e+09</td>\n",
              "      <td>annoyedthrw</td>\n",
              "      <td>relationships</td>\n",
              "    </tr>\n",
              "    <tr>\n",
              "      <th>4</th>\n",
              "      <td>Last night my (25F) boyfriend of 6 months (30M...</td>\n",
              "      <td>Basically the title, but I will elaborate a li...</td>\n",
              "      <td>1.690806e+09</td>\n",
              "      <td>Stock-Property1326</td>\n",
              "      <td>relationships</td>\n",
              "    </tr>\n",
              "    <tr>\n",
              "      <th>...</th>\n",
              "      <td>...</td>\n",
              "      <td>...</td>\n",
              "      <td>...</td>\n",
              "      <td>...</td>\n",
              "      <td>...</td>\n",
              "    </tr>\n",
              "    <tr>\n",
              "      <th>13242</th>\n",
              "      <td>What's the worst relationship advice you've ev...</td>\n",
              "      <td>I was told to divorce my husband for being pou...</td>\n",
              "      <td>1.445544e+09</td>\n",
              "      <td>anxiousgirl89</td>\n",
              "      <td>AskWomen</td>\n",
              "    </tr>\n",
              "    <tr>\n",
              "      <th>13243</th>\n",
              "      <td>Do you believe that love is the most important...</td>\n",
              "      <td>My sister's boyfriend treats her like shit. He...</td>\n",
              "      <td>1.420999e+09</td>\n",
              "      <td>UFOtookmysheep</td>\n",
              "      <td>AskWomen</td>\n",
              "    </tr>\n",
              "    <tr>\n",
              "      <th>13244</th>\n",
              "      <td>Why do so many women love stories such as Twil...</td>\n",
              "      <td>I find it perplexing that so many women enjoy ...</td>\n",
              "      <td>1.413976e+09</td>\n",
              "      <td>Bendersass</td>\n",
              "      <td>AskWomen</td>\n",
              "    </tr>\n",
              "    <tr>\n",
              "      <th>13245</th>\n",
              "      <td>What are some small things that you silently j...</td>\n",
              "      <td>NaN</td>\n",
              "      <td>1.544510e+09</td>\n",
              "      <td>MrRomantico</td>\n",
              "      <td>AskWomen</td>\n",
              "    </tr>\n",
              "    <tr>\n",
              "      <th>13246</th>\n",
              "      <td>Women of Reddit, how do you keep your happines...</td>\n",
              "      <td>I hope the title makes sense, &amp; I hope this do...</td>\n",
              "      <td>1.446355e+09</td>\n",
              "      <td>fancipants</td>\n",
              "      <td>AskWomen</td>\n",
              "    </tr>\n",
              "  </tbody>\n",
              "</table>\n",
              "<p>13247 rows × 5 columns</p>\n",
              "</div>\n",
              "    <div class=\"colab-df-buttons\">\n",
              "\n",
              "  <div class=\"colab-df-container\">\n",
              "    <button class=\"colab-df-convert\" onclick=\"convertToInteractive('df-ab673a2a-9e46-4a44-95e7-fb792395601c')\"\n",
              "            title=\"Convert this dataframe to an interactive table.\"\n",
              "            style=\"display:none;\">\n",
              "\n",
              "  <svg xmlns=\"http://www.w3.org/2000/svg\" height=\"24px\" viewBox=\"0 -960 960 960\">\n",
              "    <path d=\"M120-120v-720h720v720H120Zm60-500h600v-160H180v160Zm220 220h160v-160H400v160Zm0 220h160v-160H400v160ZM180-400h160v-160H180v160Zm440 0h160v-160H620v160ZM180-180h160v-160H180v160Zm440 0h160v-160H620v160Z\"/>\n",
              "  </svg>\n",
              "    </button>\n",
              "\n",
              "  <style>\n",
              "    .colab-df-container {\n",
              "      display:flex;\n",
              "      gap: 12px;\n",
              "    }\n",
              "\n",
              "    .colab-df-convert {\n",
              "      background-color: #E8F0FE;\n",
              "      border: none;\n",
              "      border-radius: 50%;\n",
              "      cursor: pointer;\n",
              "      display: none;\n",
              "      fill: #1967D2;\n",
              "      height: 32px;\n",
              "      padding: 0 0 0 0;\n",
              "      width: 32px;\n",
              "    }\n",
              "\n",
              "    .colab-df-convert:hover {\n",
              "      background-color: #E2EBFA;\n",
              "      box-shadow: 0px 1px 2px rgba(60, 64, 67, 0.3), 0px 1px 3px 1px rgba(60, 64, 67, 0.15);\n",
              "      fill: #174EA6;\n",
              "    }\n",
              "\n",
              "    .colab-df-buttons div {\n",
              "      margin-bottom: 4px;\n",
              "    }\n",
              "\n",
              "    [theme=dark] .colab-df-convert {\n",
              "      background-color: #3B4455;\n",
              "      fill: #D2E3FC;\n",
              "    }\n",
              "\n",
              "    [theme=dark] .colab-df-convert:hover {\n",
              "      background-color: #434B5C;\n",
              "      box-shadow: 0px 1px 3px 1px rgba(0, 0, 0, 0.15);\n",
              "      filter: drop-shadow(0px 1px 2px rgba(0, 0, 0, 0.3));\n",
              "      fill: #FFFFFF;\n",
              "    }\n",
              "  </style>\n",
              "\n",
              "    <script>\n",
              "      const buttonEl =\n",
              "        document.querySelector('#df-ab673a2a-9e46-4a44-95e7-fb792395601c button.colab-df-convert');\n",
              "      buttonEl.style.display =\n",
              "        google.colab.kernel.accessAllowed ? 'block' : 'none';\n",
              "\n",
              "      async function convertToInteractive(key) {\n",
              "        const element = document.querySelector('#df-ab673a2a-9e46-4a44-95e7-fb792395601c');\n",
              "        const dataTable =\n",
              "          await google.colab.kernel.invokeFunction('convertToInteractive',\n",
              "                                                    [key], {});\n",
              "        if (!dataTable) return;\n",
              "\n",
              "        const docLinkHtml = 'Like what you see? Visit the ' +\n",
              "          '<a target=\"_blank\" href=https://colab.research.google.com/notebooks/data_table.ipynb>data table notebook</a>'\n",
              "          + ' to learn more about interactive tables.';\n",
              "        element.innerHTML = '';\n",
              "        dataTable['output_type'] = 'display_data';\n",
              "        await google.colab.output.renderOutput(dataTable, element);\n",
              "        const docLink = document.createElement('div');\n",
              "        docLink.innerHTML = docLinkHtml;\n",
              "        element.appendChild(docLink);\n",
              "      }\n",
              "    </script>\n",
              "  </div>\n",
              "\n",
              "\n",
              "<div id=\"df-d519e419-2776-49bd-b214-4122cde1cbf5\">\n",
              "  <button class=\"colab-df-quickchart\" onclick=\"quickchart('df-d519e419-2776-49bd-b214-4122cde1cbf5')\"\n",
              "            title=\"Suggest charts\"\n",
              "            style=\"display:none;\">\n",
              "\n",
              "<svg xmlns=\"http://www.w3.org/2000/svg\" height=\"24px\"viewBox=\"0 0 24 24\"\n",
              "     width=\"24px\">\n",
              "    <g>\n",
              "        <path d=\"M19 3H5c-1.1 0-2 .9-2 2v14c0 1.1.9 2 2 2h14c1.1 0 2-.9 2-2V5c0-1.1-.9-2-2-2zM9 17H7v-7h2v7zm4 0h-2V7h2v10zm4 0h-2v-4h2v4z\"/>\n",
              "    </g>\n",
              "</svg>\n",
              "  </button>\n",
              "\n",
              "<style>\n",
              "  .colab-df-quickchart {\n",
              "      --bg-color: #E8F0FE;\n",
              "      --fill-color: #1967D2;\n",
              "      --hover-bg-color: #E2EBFA;\n",
              "      --hover-fill-color: #174EA6;\n",
              "      --disabled-fill-color: #AAA;\n",
              "      --disabled-bg-color: #DDD;\n",
              "  }\n",
              "\n",
              "  [theme=dark] .colab-df-quickchart {\n",
              "      --bg-color: #3B4455;\n",
              "      --fill-color: #D2E3FC;\n",
              "      --hover-bg-color: #434B5C;\n",
              "      --hover-fill-color: #FFFFFF;\n",
              "      --disabled-bg-color: #3B4455;\n",
              "      --disabled-fill-color: #666;\n",
              "  }\n",
              "\n",
              "  .colab-df-quickchart {\n",
              "    background-color: var(--bg-color);\n",
              "    border: none;\n",
              "    border-radius: 50%;\n",
              "    cursor: pointer;\n",
              "    display: none;\n",
              "    fill: var(--fill-color);\n",
              "    height: 32px;\n",
              "    padding: 0;\n",
              "    width: 32px;\n",
              "  }\n",
              "\n",
              "  .colab-df-quickchart:hover {\n",
              "    background-color: var(--hover-bg-color);\n",
              "    box-shadow: 0 1px 2px rgba(60, 64, 67, 0.3), 0 1px 3px 1px rgba(60, 64, 67, 0.15);\n",
              "    fill: var(--button-hover-fill-color);\n",
              "  }\n",
              "\n",
              "  .colab-df-quickchart-complete:disabled,\n",
              "  .colab-df-quickchart-complete:disabled:hover {\n",
              "    background-color: var(--disabled-bg-color);\n",
              "    fill: var(--disabled-fill-color);\n",
              "    box-shadow: none;\n",
              "  }\n",
              "\n",
              "  .colab-df-spinner {\n",
              "    border: 2px solid var(--fill-color);\n",
              "    border-color: transparent;\n",
              "    border-bottom-color: var(--fill-color);\n",
              "    animation:\n",
              "      spin 1s steps(1) infinite;\n",
              "  }\n",
              "\n",
              "  @keyframes spin {\n",
              "    0% {\n",
              "      border-color: transparent;\n",
              "      border-bottom-color: var(--fill-color);\n",
              "      border-left-color: var(--fill-color);\n",
              "    }\n",
              "    20% {\n",
              "      border-color: transparent;\n",
              "      border-left-color: var(--fill-color);\n",
              "      border-top-color: var(--fill-color);\n",
              "    }\n",
              "    30% {\n",
              "      border-color: transparent;\n",
              "      border-left-color: var(--fill-color);\n",
              "      border-top-color: var(--fill-color);\n",
              "      border-right-color: var(--fill-color);\n",
              "    }\n",
              "    40% {\n",
              "      border-color: transparent;\n",
              "      border-right-color: var(--fill-color);\n",
              "      border-top-color: var(--fill-color);\n",
              "    }\n",
              "    60% {\n",
              "      border-color: transparent;\n",
              "      border-right-color: var(--fill-color);\n",
              "    }\n",
              "    80% {\n",
              "      border-color: transparent;\n",
              "      border-right-color: var(--fill-color);\n",
              "      border-bottom-color: var(--fill-color);\n",
              "    }\n",
              "    90% {\n",
              "      border-color: transparent;\n",
              "      border-bottom-color: var(--fill-color);\n",
              "    }\n",
              "  }\n",
              "</style>\n",
              "\n",
              "  <script>\n",
              "    async function quickchart(key) {\n",
              "      const quickchartButtonEl =\n",
              "        document.querySelector('#' + key + ' button');\n",
              "      quickchartButtonEl.disabled = true;  // To prevent multiple clicks.\n",
              "      quickchartButtonEl.classList.add('colab-df-spinner');\n",
              "      try {\n",
              "        const charts = await google.colab.kernel.invokeFunction(\n",
              "            'suggestCharts', [key], {});\n",
              "      } catch (error) {\n",
              "        console.error('Error during call to suggestCharts:', error);\n",
              "      }\n",
              "      quickchartButtonEl.classList.remove('colab-df-spinner');\n",
              "      quickchartButtonEl.classList.add('colab-df-quickchart-complete');\n",
              "    }\n",
              "    (() => {\n",
              "      let quickchartButtonEl =\n",
              "        document.querySelector('#df-d519e419-2776-49bd-b214-4122cde1cbf5 button');\n",
              "      quickchartButtonEl.style.display =\n",
              "        google.colab.kernel.accessAllowed ? 'block' : 'none';\n",
              "    })();\n",
              "  </script>\n",
              "</div>\n",
              "\n",
              "  <div id=\"id_45fa5ed3-08cb-424d-9f03-c9012c903c2e\">\n",
              "    <style>\n",
              "      .colab-df-generate {\n",
              "        background-color: #E8F0FE;\n",
              "        border: none;\n",
              "        border-radius: 50%;\n",
              "        cursor: pointer;\n",
              "        display: none;\n",
              "        fill: #1967D2;\n",
              "        height: 32px;\n",
              "        padding: 0 0 0 0;\n",
              "        width: 32px;\n",
              "      }\n",
              "\n",
              "      .colab-df-generate:hover {\n",
              "        background-color: #E2EBFA;\n",
              "        box-shadow: 0px 1px 2px rgba(60, 64, 67, 0.3), 0px 1px 3px 1px rgba(60, 64, 67, 0.15);\n",
              "        fill: #174EA6;\n",
              "      }\n",
              "\n",
              "      [theme=dark] .colab-df-generate {\n",
              "        background-color: #3B4455;\n",
              "        fill: #D2E3FC;\n",
              "      }\n",
              "\n",
              "      [theme=dark] .colab-df-generate:hover {\n",
              "        background-color: #434B5C;\n",
              "        box-shadow: 0px 1px 3px 1px rgba(0, 0, 0, 0.15);\n",
              "        filter: drop-shadow(0px 1px 2px rgba(0, 0, 0, 0.3));\n",
              "        fill: #FFFFFF;\n",
              "      }\n",
              "    </style>\n",
              "    <button class=\"colab-df-generate\" onclick=\"generateWithVariable('data')\"\n",
              "            title=\"Generate code using this dataframe.\"\n",
              "            style=\"display:none;\">\n",
              "\n",
              "  <svg xmlns=\"http://www.w3.org/2000/svg\" height=\"24px\"viewBox=\"0 0 24 24\"\n",
              "       width=\"24px\">\n",
              "    <path d=\"M7,19H8.4L18.45,9,17,7.55,7,17.6ZM5,21V16.75L18.45,3.32a2,2,0,0,1,2.83,0l1.4,1.43a1.91,1.91,0,0,1,.58,1.4,1.91,1.91,0,0,1-.58,1.4L9.25,21ZM18.45,9,17,7.55Zm-12,3A5.31,5.31,0,0,0,4.9,8.1,5.31,5.31,0,0,0,1,6.5,5.31,5.31,0,0,0,4.9,4.9,5.31,5.31,0,0,0,6.5,1,5.31,5.31,0,0,0,8.1,4.9,5.31,5.31,0,0,0,12,6.5,5.46,5.46,0,0,0,6.5,12Z\"/>\n",
              "  </svg>\n",
              "    </button>\n",
              "    <script>\n",
              "      (() => {\n",
              "      const buttonEl =\n",
              "        document.querySelector('#id_45fa5ed3-08cb-424d-9f03-c9012c903c2e button.colab-df-generate');\n",
              "      buttonEl.style.display =\n",
              "        google.colab.kernel.accessAllowed ? 'block' : 'none';\n",
              "\n",
              "      buttonEl.onclick = () => {\n",
              "        google.colab.notebook.generateWithVariable('data');\n",
              "      }\n",
              "      })();\n",
              "    </script>\n",
              "  </div>\n",
              "\n",
              "    </div>\n",
              "  </div>\n"
            ],
            "application/vnd.google.colaboratory.intrinsic+json": {
              "type": "dataframe",
              "variable_name": "data",
              "summary": "{\n  \"name\": \"data\",\n  \"rows\": 13247,\n  \"fields\": [\n    {\n      \"column\": \"title\",\n      \"properties\": {\n        \"dtype\": \"string\",\n        \"num_unique_values\": 10667,\n        \"samples\": [\n          \"Dating a sexual assault survivor?\",\n          \"I was sexually abused before age 5 and I don\\u2019t know who to talk to\",\n          \"The longer I live with my dad, the more I understand why my mum was so angry all the time\"\n        ],\n        \"semantic_type\": \"\",\n        \"description\": \"\"\n      }\n    },\n    {\n      \"column\": \"selftext\",\n      \"properties\": {\n        \"dtype\": \"string\",\n        \"num_unique_values\": 10023,\n        \"samples\": [\n          \"I was thinking I might find good positive tips to make me feel better. Nah it actually sad\",\n          \"Forgive me if this is a heavier topic than usual. I've made a throwaway and originally posted this in a different subreddit, but this seems like a better place for it. This happened in April 2019, so it's a while ago. \\n\\nMy sister was in high school, I was 23 at the time. My sister had a bully who she had been at odds with ever since around middle school, but it had mostly been one-sided. She was cruel, verbally and physically, and we had meetings with the other girl's parents (they didn't care that much, didn't think their kid was as bad as what they were hearing), talked to the school, talked to the teachers, but nobody ever seemed to do anything at all, or barely even care. She always had alibis or lied about any physical alterations, any verbal abuse was treated as \\\"high school drama.\\\" \\n\\nAs the older sister, it made me so incredibly frustrated, especially being away at college. All i wished so badly that I could've been there to help in her high school somehow.My parents didn't have enough money to move or relocate other than switching schools in the area, which worked for middle school, but in our hometown, we only have one, very overcrowded high school.\\n\\nI'm not going to talk about this part too long, but in her sophomore year, my sister committed suicide. She left a note. The bullying was one of the things she wrote about.\\n\\nWe held an open funeral, as she did know a lot of people and had friends at her high school. I didn't really pay much attention to who was there during everything, especially as I was trying to comfort my parents and run the rest smoothly...but when it was the time to leave, I saw the girl who bullied my sister outside. She was walking towards her car with her parents.\\n\\nI shouted \\\"hey!\\\" and walked up to them. For a second, all I felt was just a mess of feelings inside, especially as the parents started to apologize. Their words seemed real, i trusted that it wasn't just to save face. But then I realized that the daughter was crying. \\n\\nI fully believe that she was geniunely remorseful, and I believed it at the time too, but suddenly I felt inhumanly angry. The thought of this girl, who played what i feel was a major role in my sister's death having the audacity to come here and shed a tear made me see red.\\n\\nI lost control, and cut off the parents who were still apologizing. I cursed them out, screaming and yelling at them about everything, how they downplayed everything, how they never cared before. I knew i was causing a scene, but I honestly had lost all my bearings. I do not regret this part, but the next part is where I do feel ashamed.\\n\\nI remember yelling that their \\\"fucking little monster bullied my sister so hard that she wrote about it in the suicide note.\\\" I then turned to the girl, and i told her: \\n\\n\\\"I fucking hope you remember this your whole life. I hope you always remember that my fucking sister is dead and you were one of the reasons. I fucking hate you.\\\"\\n\\nI remember my own words so vividly. I remember at that moment that I sincerely hoped that she would be scarred from this. I hoped it would keep her up at night. I hoped it would be on her mind forever. I felt more malicious than I ever have in my life, and my thinking was that she truly deserved it. \\n\\nThe parents were shocked, but didn't respond, surprisingly. I guess they understood, despite what i said being so screwed up. The girl was completely frozen, just looking at me.. They rushed her to the car and left.\\n\\nRight after that, I went to the bathroom and locked myself in a stall. I felt like she deserved it, but i also felt like...nobody deserves that. She was only 16. I wanted my words to stay with her but I only just now realized how horrible it is for her to always remember what i said, especially at such a young age. I feel like I should've known better, especially considering I was much older. \\n\\nSince then, I've constantly gone back and forth. There are times where I remember my sister. I remember playing games together, reading her stories, watching movies with her. I remember how kind she was was everyone, and how all I wanted was for her to be happy. I remember how she died, and the funeral, and I work myself up again. \\n\\nBut there are also times when all I can think is how that girl really was remorseful. I know now that what I said truly was just out of pure hatred, and so many bottled emotions during the funeral that I directed entirely into that poor girl. And I have thoughts about how my sister is gone...an entire life gone, but at the same time, I did something horrible to another's life. There are times when i want to apologize, but i just freeze up wondering if it would do more damage or not.\\n\\nForgive me if this post was too heavy. I just want to have other opinions on my actions, and whether or not they were unforgivable or not.\",\n          \"Not only does choice matter significantly, but no single option is right for every person and every situation all of the time.\\n\\nI\\u2019m going to tell you all a story about my mother. This is going to be a long post, but hopefully it will be worth reading anyway (deleted and resubmitted for hopefully better readability.) Warning in advance that this post may be triggering to read for some, though I tried my best to avoid going into too much detail, but this was her lived experience. I don't believe she's some rare statistic, or some outlier who should not be counted, and I have a feeling that experiences like hers are likely far more common than we think (or at least parts of them are). These are the kinds of stories that don't get shared, but they need to be, especially due to the reversal of Roe v Wade; people are going to be forced into these types of situations against their will, when they're sometimes hard enough to go through even when it's someone's own informed choice.\\n\\n&#x200B;\\n\\nSo nearly two decades before my mother had me, she gave a child up for adoption.\\n\\nShe was young, had just finished high school, had been taken advantage of by a few so-called friends while drunk, and ended up pregnant as a result.\\n\\n&#x200B;\\n\\nAbortion was still illegal in our country, though a few doctors would perform abortions out of moral objection to the ban (and often be jailed for it), but at the time the family was well off enough that she *could* have gone on a short \\u201cvacation\\u201d if she had wanted to. The family would have been supportive of it, and likely even encouraged/pushed it as an option\\u2014my grandmother was trapped in an abusive marriage when she got pregnant with my mother due to a lack of accessible birth control or abortion, had multiple children against her will whom she mistreated as a result, and is fiercely in support of contraception and abortion access. (Literally all my grandma ever said to me was \\u201cdon\\u2019t get pregnant,\\u201d \\u201clife is terrible when you don\\u2019t have access to abortion or birth control,\\u201d and \\u201cif I\\u2019d been given a choice I\\u2019d never have had children.\\u201d)\\n\\n&#x200B;\\n\\nMy mother *chose* to continue the pregnancy and opt for adoption, as she was not interested in parenting the child. She was content with the reality that she was creating a child for someone else, giving it to a loving family who would take care of it the way it would deserve. Obviously this was going to be a closed adoption, given the time, and she went through all this knowing she would never again see the child she lovingly carried for 9 months. The pregnancy and birth and recovery were\\u2014from what I understand, at least\\u2014relatively easy and uncomplicated.\\n\\n&#x200B;\\n\\nEven though continuing the pregnancy and choosing adoption was her own free choice, it was still a deeply traumatic and life-altering experience for her. She went deeper into alcoholism and hard drugs to try and cope with the trauma and feelings she couldn\\u2019t express or understand, or share with anyone because of the stigma.\\n\\n&#x200B;\\n\\nA few years later she developed health problems and was told to never have kids. They said if she tried, she\\u2019d be put at risk throughout the entire pregnancy because the medication she needs is unsafe to take while pregnant, and they\\u2019d likely have to choose between saving her life or the potential fetus\\u2019s. (This also meant that hormonal birth control was not an option for her, making the possibility of another pregnancy far more likely.)\\n\\n&#x200B;\\n\\nShe still wasn\\u2019t ready to be a parent, but with added despair because she now felt like she had given up her only chance to become one. Some people even said that this was a religious punishment, because she\\u2019d had sex before marriage and didn\\u2019t parent the child that resulted.\\n\\n&#x200B;\\n\\nShe ended up having multiple abortions and knew it was the right decision to make each time, even though it was difficult and painful (both emotionally and physically), because there was a very low chance at the time of a pregnancy resulting in a living, healthy mother \\\\*and\\\\* baby. She wasn\\u2019t willing to put her life at risk on that slim-to-none chance, nor willing to undergo the stress of pregnancy and the heartbreak of losing another child. And in the hypothetical case where the child survived but she didn\\u2019t, there would be no one left to raise it\\u2014my grandparents would have refused, (not that she\\u2019d be willing to let them raise a child anyway considering how terrible they were in most regards,) and she was rarely ever in stable long-term monogamous relationships\\u2014which essentially meant that if she died, another child of hers would just be put up for adoption. When you\\u2019re still processing the complicated emotions of a previous adoption, that\\u2019s not exactly an appealing outcome.\\n\\n&#x200B;\\n\\nOnce again, her own choice, but they still were traumatic experiences for her\\u2014in part because of her previous choice of adoption. And once again, because of the stigma, she had to bear this emotional burden alone.\\n\\n&#x200B;\\n\\nBy the time my mother had a chance encounter where she was told that new medication options were available that wouldn\\u2019t cross the placenta and were safe during pregnancy, meaning she\\u2019d actually be able to become a parent after all, she\\u2019d been heavily into drugs and alcohol for decades. She was nearing 40 at this point and was so desperate to have a child, after giving one away and then being told to let go of the possibility of ever having a another one, that she rushed to try and have one as soon as possible before it was \\u201ctoo late.\\u201d\\n\\n&#x200B;\\n\\nI was born about 10 months later. She desperately wanted me, and never regretted it, but my birth still had consequences. During the pregnancy itself and for months after, she had to take medication and give herself medical injections multiple times a day just to keep herself alive, and it\\u2019s still pretty miraculous that she managed to avoid any major complications. If she\\u2019d been in the States at the time, I can\\u2019t even fathom how expensive the medication alone would have been, let alone the cost of prenatal care and delivery.\\n\\n&#x200B;\\n\\nI was born homeless. My mother continued to drink, though she stopped doing most drugs because of me and credits my birth as the reason she's still alive, due to her previous lifestyle. My father didn\\u2019t pay child support, though he would sometimes bring her drugs and alcohol in order to keep her from abusing me. We struggled financially throughout my entire childhood and lived in a terrible tiny and unsafe apartment that should\\u2019ve been condemned years ago, because that\\u2019s all we could afford on welfare. She now had to deal with the stigma of being a single mother living in poverty, in addition to her other struggles.\\n\\n&#x200B;\\n\\nWhen I was a child, I didn\\u2019t understand why there was one day each year where my mother would always struggle to get out of bed in the morning and go through the day in a depressed fog; even 20+ years later, with her own child to take care of, she still felt the immense emotional pain of her adoption annually on the date of her first child\\u2019s birth. I\\u2019d like to say she tried her best, but she was also abusive and neglectful and had been in desperate need of proper financial support and mental health care. My entire childhood was clouded by my mother\\u2019s trauma, just as she was traumatized by her own mother as a child.\\n\\n&#x200B;\\n\\nWhen you are pregnant, you have three choices: adoption, abortion, or parenting. My mother made all three choices at different points in her life, and those choices were all what was personally right for her at the given time, but every single time, that decision was still life altering. Even the right choice, made with conviction, can be difficult and painful.\\n\\n&#x200B;\\n\\nAnd \\u201cpro-lifers\\u201d want us to have no choice at all.\"\n        ],\n        \"semantic_type\": \"\",\n        \"description\": \"\"\n      }\n    },\n    {\n      \"column\": \"created_utc\",\n      \"properties\": {\n        \"dtype\": \"number\",\n        \"std\": 94281506.86582765,\n        \"min\": 1264606688.0,\n        \"max\": 1730906422.0,\n        \"num_unique_values\": 10795,\n        \"samples\": [\n          1691865634.0,\n          1605315871.0,\n          1726716053.0\n        ],\n        \"semantic_type\": \"\",\n        \"description\": \"\"\n      }\n    },\n    {\n      \"column\": \"author\",\n      \"properties\": {\n        \"dtype\": \"string\",\n        \"num_unique_values\": 10215,\n        \"samples\": [\n          \"laurakark\",\n          \"ldl84\",\n          \"TheRosyGhost\"\n        ],\n        \"semantic_type\": \"\",\n        \"description\": \"\"\n      }\n    },\n    {\n      \"column\": \"subreddit\",\n      \"properties\": {\n        \"dtype\": \"category\",\n        \"num_unique_values\": 9,\n        \"samples\": [\n          \"TrueOffMyChest\",\n          \"abusesurvivors\",\n          \"TwoXChromosomes\"\n        ],\n        \"semantic_type\": \"\",\n        \"description\": \"\"\n      }\n    }\n  ]\n}"
            }
          },
          "metadata": {},
          "execution_count": 307
        }
      ]
    },
    {
      "cell_type": "markdown",
      "metadata": {
        "id": "0AqkjpUZQw5m"
      },
      "source": [
        "- 1 : Negative\n",
        "- 0 : Positive"
      ]
    },
    {
      "cell_type": "code",
      "execution_count": 308,
      "metadata": {
        "id": "v5DYAQbZQw5n",
        "colab": {
          "base_uri": "https://localhost:8080/"
        },
        "outputId": "fb3cac0d-a8ed-4a07-dd74-bfabd4248281"
      },
      "outputs": [
        {
          "output_type": "execute_result",
          "data": {
            "text/plain": [
              "(13247, 5)"
            ]
          },
          "metadata": {},
          "execution_count": 308
        }
      ],
      "source": [
        "# Dimension des données\n",
        "data.shape"
      ]
    },
    {
      "cell_type": "markdown",
      "metadata": {
        "id": "XhtOBqkqQw5o"
      },
      "source": [
        "### <font color='#00d2d3'> Pré-traitement des données"
      ]
    },
    {
      "cell_type": "code",
      "execution_count": 309,
      "metadata": {
        "id": "jtFrSBXPQw5p",
        "colab": {
          "base_uri": "https://localhost:8080/"
        },
        "outputId": "1b1c907a-6713-4f32-a956-507f2b224bbb"
      },
      "outputs": [
        {
          "output_type": "stream",
          "name": "stdout",
          "text": [
            "selftext\n",
            "<class 'str'>      12375\n",
            "<class 'float'>      872\n",
            "Name: count, dtype: int64\n"
          ]
        }
      ],
      "source": [
        "print(data['selftext'].apply(type).value_counts())\n"
      ]
    },
    {
      "cell_type": "markdown",
      "metadata": {
        "id": "_41c8uL5Qw5r"
      },
      "source": [
        "#### <font color='#00d2d3'> Pré-traitement des données textuelles"
      ]
    },
    {
      "cell_type": "code",
      "execution_count": 311,
      "metadata": {
        "id": "dwMVggXAQw5u",
        "colab": {
          "base_uri": "https://localhost:8080/",
          "height": 36
        },
        "outputId": "b319b7a4-473a-42be-dc61-0eb861e5935f"
      },
      "outputs": [
        {
          "output_type": "execute_result",
          "data": {
            "text/plain": [
              "'Is this considered domestic violence?'"
            ],
            "application/vnd.google.colaboratory.intrinsic+json": {
              "type": "string"
            }
          },
          "metadata": {},
          "execution_count": 311
        }
      ],
      "source": [
        "# Afficher la première ligne de la colonne text\n",
        "data['title'][0]"
      ]
    },
    {
      "cell_type": "code",
      "execution_count": 312,
      "metadata": {
        "id": "LC5qNlC3vA7M",
        "colab": {
          "base_uri": "https://localhost:8080/",
          "height": 126
        },
        "outputId": "7ab1704b-679a-486c-bd75-f80d292cbe35"
      },
      "outputs": [
        {
          "output_type": "execute_result",
          "data": {
            "text/plain": [
              "'\\nMe (28f) nd my boyfriend (34m) have been in a relationship for 2 years. We got into an argument last night. It started over this girl he used to work with as I’d seen he had liked one of her photos and I asked if they still talked. He said no look at my phone if you want. So I called his bluff and I was like fine I will. When I went to check their chat was empty and I know they had previously messaged. I asked him why he deleted the chat and he said he did it ages ago to stop our arguments. He tried to grab his phone back but I was clinging onto it and kept saying but why are they deleted. He eventually tackled the phone off of me and left a mark on my arm and broke 2 of my nails. Is this domestic abuse? I have a very dark feeling that my partner just hit me but he insists it was just because we tackled for the phone and I wouldn’t let go and that he hadn’t “hit or abused me”. I’m very confused and upset, the deleted messages are a separate issue to this. I’d like clarification on the tackle and outcome of it, before I begin processing the message part. \\n\\nTL;DR boyfriend tackled me for his phone leaving me with marks on my arm and 2 broken nails'"
            ],
            "application/vnd.google.colaboratory.intrinsic+json": {
              "type": "string"
            }
          },
          "metadata": {},
          "execution_count": 312
        }
      ],
      "source": [
        "# Afficher la deuxième ligne de la colonne text\n",
        "data['selftext'][0]"
      ]
    },
    {
      "cell_type": "markdown",
      "metadata": {
        "id": "8TbCKi_C2DVr"
      },
      "source": [
        "###### <font color='#1dd1a1'> Commencer le nettoyage des tweets\n"
      ]
    },
    {
      "cell_type": "code",
      "execution_count": 313,
      "metadata": {
        "id": "CJDmurEzQw5y"
      },
      "outputs": [],
      "source": [
        "# Fonction supprimant les links\n",
        "def remove_links(title):\n",
        "    title= re.sub(r'http:?//\\S+ | https:?//\\S+','',title)\n",
        "    return title"
      ]
    },
    {
      "cell_type": "code",
      "source": [
        "def remove_links2(selftext):\n",
        "    if isinstance(selftext, str):\n",
        "        return re.sub(r'http:?//\\S+ | https:?//\\S+','',selftext)\n",
        "    return selftext"
      ],
      "metadata": {
        "id": "e35r83XJ5-OQ"
      },
      "execution_count": 314,
      "outputs": []
    },
    {
      "cell_type": "code",
      "execution_count": 315,
      "metadata": {
        "id": "Vm1912YqQw5y"
      },
      "outputs": [],
      "source": [
        "# Fonction supprimant les @username\n",
        "def remove_users(title):\n",
        "    title = re.sub(r'@[\\w\\-._]+','',title)\n",
        "    return title"
      ]
    },
    {
      "cell_type": "code",
      "source": [
        "def remove_users2(selftext):\n",
        "    if isinstance(selftext, str):\n",
        "        # Supprime les mentions utilisateurs (exemple : @username)\n",
        "        return re.sub(r\"@\\w+\", \"\", selftext)\n",
        "    return selftext"
      ],
      "metadata": {
        "id": "31vrSzcm6TpT"
      },
      "execution_count": 316,
      "outputs": []
    },
    {
      "cell_type": "code",
      "execution_count": 317,
      "metadata": {
        "id": "06fJkgu2Qw5z"
      },
      "outputs": [],
      "source": [
        "# Supprimer les adresses emails\n",
        "def email_address(text):\n",
        "  title= re.sub(r'@[\\w\\-._]+','',text)\n",
        "  return title"
      ]
    },
    {
      "cell_type": "code",
      "source": [
        "# Supprimer les adresses emails\n",
        "def email_address2(selftext):\n",
        "    if isinstance(selftext, str):  # Vérifiez si l'entrée est une chaîne de caractères\n",
        "        # Supprime les adresses email\n",
        "        return re.sub(r'@[\\w\\-._]+', '', selftext)\n",
        "    return selftext"
      ],
      "metadata": {
        "id": "zXJzV4Sz9apw"
      },
      "execution_count": 318,
      "outputs": []
    },
    {
      "cell_type": "code",
      "execution_count": 319,
      "metadata": {
        "id": "MoGcuo8tQw50"
      },
      "outputs": [],
      "source": [
        "# Exemple\n",
        "tweet ='My email adress is the following : abdoulwahabdiall@gmail.com'\n",
        "tweet = email_address(tweet)"
      ]
    },
    {
      "cell_type": "code",
      "execution_count": 320,
      "metadata": {
        "id": "yhDsZZaaRVnv",
        "colab": {
          "base_uri": "https://localhost:8080/"
        },
        "outputId": "022240da-ab78-4b05-bc28-35556c662c57"
      },
      "outputs": [
        {
          "output_type": "stream",
          "name": "stdout",
          "text": [
            "Requirement already satisfied: contractions in /usr/local/lib/python3.10/dist-packages (0.1.73)\n",
            "Requirement already satisfied: textsearch>=0.0.21 in /usr/local/lib/python3.10/dist-packages (from contractions) (0.0.24)\n",
            "Requirement already satisfied: anyascii in /usr/local/lib/python3.10/dist-packages (from textsearch>=0.0.21->contractions) (0.3.2)\n",
            "Requirement already satisfied: pyahocorasick in /usr/local/lib/python3.10/dist-packages (from textsearch>=0.0.21->contractions) (2.1.0)\n"
          ]
        }
      ],
      "source": [
        "!pip install contractions"
      ]
    },
    {
      "cell_type": "code",
      "execution_count": 321,
      "metadata": {
        "id": "dr4lFuBHQw50"
      },
      "outputs": [],
      "source": [
        "import contractions\n",
        "# Fonction étendant les contractions\n",
        "def contraction(title):\n",
        "    expanded_all = []\n",
        "    for word in title.split():\n",
        "        expanded_all.append(contractions.fix(word)) # utiliser la fonction fix de contractions\n",
        "\n",
        "    expand = ' '.join(expanded_all)\n",
        "    return expand"
      ]
    },
    {
      "cell_type": "code",
      "source": [
        "def contraction2(selftext):\n",
        "    if isinstance(selftext, str):  # Vérifiez si l'entrée est une chaîne\n",
        "        expanded_all = [contractions.fix(word) for word in selftext.split()]\n",
        "        return ' '.join(expanded_all)\n",
        "    return selftext"
      ],
      "metadata": {
        "id": "KatQDdHP9gAi"
      },
      "execution_count": 322,
      "outputs": []
    },
    {
      "cell_type": "code",
      "execution_count": 323,
      "metadata": {
        "id": "OzH0ZD9bQw51",
        "colab": {
          "base_uri": "https://localhost:8080/",
          "height": 36
        },
        "outputId": "e070d716-093c-401a-fb56-19ae6d3ada80"
      },
      "outputs": [
        {
          "output_type": "execute_result",
          "data": {
            "text/plain": [
              "'That is the right thing to do'"
            ],
            "application/vnd.google.colaboratory.intrinsic+json": {
              "type": "string"
            }
          },
          "metadata": {},
          "execution_count": 323
        }
      ],
      "source": [
        "# Exemple\n",
        "tweet =\"That's the right thing to do\"\n",
        "tweet = contraction(tweet)\n",
        "tweet"
      ]
    },
    {
      "cell_type": "code",
      "execution_count": 324,
      "metadata": {
        "id": "p8oVUvyDQw51"
      },
      "outputs": [],
      "source": [
        "# Supprimer html caractères\n",
        "def clean_html(text):\n",
        "   title = re.sub(r'&\\w+','',text)\n",
        "   return title"
      ]
    },
    {
      "cell_type": "code",
      "source": [
        "def clean_html2(selftext):\n",
        "    if isinstance(selftext, str):  # Vérifiez si l'entrée est une chaîne\n",
        "        return re.sub(r'&\\w+;', '', selftext)\n",
        "    return selftext"
      ],
      "metadata": {
        "id": "ABSFX5S49k5F"
      },
      "execution_count": 325,
      "outputs": []
    },
    {
      "cell_type": "code",
      "execution_count": 326,
      "metadata": {
        "id": "bAAxUUmEQw51",
        "colab": {
          "base_uri": "https://localhost:8080/",
          "height": 36
        },
        "outputId": "37f3104b-b815-49c1-8a10-e96c6633ebb3"
      },
      "outputs": [
        {
          "output_type": "execute_result",
          "data": {
            "text/plain": [
              "'#world What a shame '"
            ],
            "application/vnd.google.colaboratory.intrinsic+json": {
              "type": "string"
            }
          },
          "metadata": {},
          "execution_count": 326
        }
      ],
      "source": [
        "# Exemple\n",
        "tweet ='#world What a shame &amp'\n",
        "tweet = clean_html(tweet)\n",
        "tweet"
      ]
    },
    {
      "cell_type": "code",
      "execution_count": 327,
      "metadata": {
        "id": "nLNuYb7KQw52"
      },
      "outputs": [],
      "source": [
        "# Remplacer tout ce qui n'est chaines de caractères alphabétiques et espace par ' '\n",
        "def alpha_b(text):\n",
        "   title = re.sub(r'^a-zA-Z\\s]+',' ',text)\n",
        "   return title"
      ]
    },
    {
      "cell_type": "code",
      "source": [
        "def alpha_b2(selftext):\n",
        "    if isinstance(selftext, str):  # Vérifiez si l'entrée est une chaîne\n",
        "        # Supprimer tout sauf les lettres (a-z, A-Z) et les espaces\n",
        "        return re.sub(r'[^a-zA-Z\\s]+', ' ', selftext)\n",
        "    return selftext"
      ],
      "metadata": {
        "id": "ahdrRqm29md6"
      },
      "execution_count": 328,
      "outputs": []
    },
    {
      "cell_type": "code",
      "execution_count": 329,
      "metadata": {
        "id": "8Eb-oR4dQw52",
        "colab": {
          "base_uri": "https://localhost:8080/",
          "height": 36
        },
        "outputId": "ce1441e8-3cff-46e7-859c-9a1015755253"
      },
      "outputs": [
        {
          "output_type": "execute_result",
          "data": {
            "text/plain": [
              "'My year of birth is 2050 #happy'"
            ],
            "application/vnd.google.colaboratory.intrinsic+json": {
              "type": "string"
            }
          },
          "metadata": {},
          "execution_count": 329
        }
      ],
      "source": [
        "# Exemple\n",
        "tweet = 'My year of birth is 2050 #happy'\n",
        "tweet = alpha_b(tweet)\n",
        "tweet"
      ]
    },
    {
      "cell_type": "code",
      "execution_count": 330,
      "metadata": {
        "id": "Jqv5Z7AHQw53"
      },
      "outputs": [],
      "source": [
        "# Fonction remplaçant les espaces multiples et convertissant majuscules en minuscules\n",
        "def lower(text):\n",
        "    title = re.sub(r'\\s(2,)',' ' ,text)\n",
        "    return title"
      ]
    },
    {
      "cell_type": "code",
      "source": [
        "def lower2(selftext):\n",
        "    if isinstance(selftext, str):  # Vérifiez si l'entrée est une chaîne\n",
        "        return selftext.lower()\n",
        "    return selftext"
      ],
      "metadata": {
        "id": "4-f76BbS9qBf"
      },
      "execution_count": 331,
      "outputs": []
    },
    {
      "cell_type": "code",
      "execution_count": 332,
      "metadata": {
        "id": "zK7xShT2Qw53"
      },
      "outputs": [],
      "source": [
        "# Supprimer les espaces en début et fin de tweet\n",
        "def clean_space(text):\n",
        "    title = re.sub(r'^\\s|\\s$',' ' ,text)\n",
        "    return title"
      ]
    },
    {
      "cell_type": "code",
      "source": [
        "def clean_space2(selftext):\n",
        "    if isinstance(selftext, str):  # Vérifiez si l'entrée est une chaîne\n",
        "        # Supprimer les espaces en début (^\\\\s) et en fin (\\\\s$) de chaîne\n",
        "        return re.sub(r'^\\s+|\\s+$', '', selftext)\n",
        "    return selftext"
      ],
      "metadata": {
        "id": "uJpnj3Ws9uCO"
      },
      "execution_count": 333,
      "outputs": []
    },
    {
      "cell_type": "code",
      "execution_count": 334,
      "metadata": {
        "id": "TrTkDXL6Qw54"
      },
      "outputs": [],
      "source": [
        "# Fonction supprimant les stopwords\n",
        "def remove_stopwords(text):\n",
        "    Stopwords = stopwords.words('english')\n",
        "    title= ' '.join([word for word in text.split() if word not in Stopwords])\n",
        "    return title"
      ]
    },
    {
      "cell_type": "code",
      "source": [
        "def remove_stopwords2(selftext):\n",
        "    # Charger la liste des mots vides (stopwords)\n",
        "    Stopwords = set(stopwords.words('english'))\n",
        "\n",
        "    # Vérifier si l'entrée est une chaîne\n",
        "    if isinstance(selftext, str):\n",
        "        # Supprimer les mots vides\n",
        "        return ' '.join([word for word in selftext.split() if word.lower() not in Stopwords])\n",
        "    return selftext"
      ],
      "metadata": {
        "id": "GY-8uqvh-c5b"
      },
      "execution_count": 335,
      "outputs": []
    },
    {
      "cell_type": "code",
      "execution_count": 336,
      "metadata": {
        "id": "vCRK-eLkQw54",
        "colab": {
          "base_uri": "https://localhost:8080/",
          "height": 36
        },
        "outputId": "e98e03b2-6f88-4ec4-c3f9-d27597f79bfc"
      },
      "outputs": [
        {
          "output_type": "execute_result",
          "data": {
            "text/plain": [
              "'Life mess people'"
            ],
            "application/vnd.google.colaboratory.intrinsic+json": {
              "type": "string"
            }
          },
          "metadata": {},
          "execution_count": 336
        }
      ],
      "source": [
        "# Exemple\n",
        "tweet = 'Life is a mess for some people'\n",
        "tweet = remove_stopwords(tweet)\n",
        "tweet"
      ]
    },
    {
      "cell_type": "code",
      "execution_count": 337,
      "metadata": {
        "id": "q6nwwvbsQw55"
      },
      "outputs": [],
      "source": [
        "# Lemmatization\n",
        "from nltk.stem import WordNetLemmatizer\n",
        "lemma=WordNetLemmatizer()\n",
        "def lem_sw(text):\n",
        "    title = [lemma.lemmatize(word) for word in text.split()]\n",
        "    title = \" \".join(title)\n",
        "    return title"
      ]
    },
    {
      "cell_type": "code",
      "source": [
        "def lem_sw2(selftext):\n",
        "    if isinstance(selftext, str):  # Vérifiez si l'entrée est une chaîne\n",
        "        # Appliquer la lemmatisation sur chaque mot\n",
        "        lemmatized_words = [lemma.lemmatize(word) for word in selftext.split()]\n",
        "        # Joindre les mots lemmatisés en une chaîne\n",
        "        return \" \".join(lemmatized_words)\n",
        "    return selftext"
      ],
      "metadata": {
        "id": "6XLxD44J9yZU"
      },
      "execution_count": 338,
      "outputs": []
    },
    {
      "cell_type": "markdown",
      "source": [
        "###### <font color='#1dd1a1'> Appliquer les différentes fonctions sur letitle\n",
        "\n"
      ],
      "metadata": {
        "id": "q1GFBn2peCbz"
      }
    },
    {
      "cell_type": "code",
      "execution_count": 339,
      "metadata": {
        "id": "2T1IFv1zkKlx"
      },
      "outputs": [],
      "source": [
        "# Appliquer la fonction remove_users\n",
        "data['new_title'] = data.title.apply(func =remove_users)\n",
        "# Appliquer la fonction remove_links\n",
        "data['new_title'] = data.new_title.apply(func =remove_links)\n",
        "# Appliquer la fonction email_address\n",
        "data['new_title'] = data.new_title.apply(func =email_address)\n",
        "# Appliquer la fonction remove_contraction\n",
        "data['new_title'] = data.new_title.apply(func = contraction)\n",
        "# Appliquer la fonction clean_html\n",
        "data['new_title'] = data.new_title.apply(func =clean_html)\n",
        "# Appliquer la fonction alpha_b\n",
        "data['new_title'] = data.new_title.apply(func =alpha_b)\n",
        "# Appliquer la fonction lower\n",
        "data['new_title'] = data.new_title.apply(func =lower)\n",
        "# Appliquer la fonction clean_space\n",
        "data['new_title'] = data.new_title.apply(func =clean_space)\n",
        "# Appliquer la fonction remove_stopwords\n",
        "data['new_title'] = data.new_title.apply(func =remove_stopwords)\n",
        "# Appliquer la fonction lem_sw\n",
        "data['new_title'] = data.new_title.apply(func =lem_sw)"
      ]
    },
    {
      "cell_type": "code",
      "source": [
        "# Appliquer la fonction remove_users\n",
        "data['new_selftext'] = data.selftext.apply(func =remove_users2)\n",
        "# Appliquer la fonction remove_links\n",
        "data['new_selftext'] = data.new_selftext.apply(func =remove_links2)\n",
        "# Appliquer la fonction email_address\n",
        "data['new_selftext'] = data.new_selftext.apply(func =email_address2)\n",
        "# Appliquer la fonction remove_contraction\n",
        "data['new_selftext'] = data.new_selftext.apply(func = contraction2)\n",
        "# Appliquer la fonction clean_html\n",
        "data['new_selftext'] = data.new_selftext.apply(func =clean_html2)\n",
        "# Appliquer la fonction alpha_b\n",
        "data['new_selftext'] = data.new_selftext.apply(func =alpha_b2)\n",
        "# Appliquer la fonction lower\n",
        "data['new_selftext'] = data.new_selftext.apply(func =lower2)\n",
        "# Appliquer la fonction clean_space\n",
        "data['new_selftext'] = data.new_selftext.apply(func =clean_space2)\n",
        "# Appliquer la fonction remove_stopwords\n",
        "data['new_selftext'] = data.new_selftext.apply(func =remove_stopwords2)\n",
        "# Appliquer la fonction lem_sw\n",
        "data['new_selftext'] = data.new_selftext.apply(func =lem_sw2)"
      ],
      "metadata": {
        "id": "1mSK9POY-l6-"
      },
      "execution_count": 341,
      "outputs": []
    },
    {
      "cell_type": "code",
      "execution_count": 342,
      "metadata": {
        "id": "jpUFyoATx3Z2",
        "colab": {
          "base_uri": "https://localhost:8080/",
          "height": 36
        },
        "outputId": "80f77f48-1ae2-4ec7-bf99-281a4896f38f"
      },
      "outputs": [
        {
          "output_type": "execute_result",
          "data": {
            "text/plain": [
              "'Is considered domestic violence?'"
            ],
            "application/vnd.google.colaboratory.intrinsic+json": {
              "type": "string"
            }
          },
          "metadata": {},
          "execution_count": 342
        }
      ],
      "source": [
        "# Afficher la ligne d'index 0\n",
        "data['new_title'][0]"
      ]
    },
    {
      "cell_type": "code",
      "execution_count": 343,
      "metadata": {
        "id": "RvKIgLcFyceO",
        "colab": {
          "base_uri": "https://localhost:8080/",
          "height": 126
        },
        "outputId": "ae2efc53-910f-45c0-a550-5fababe57029"
      },
      "outputs": [
        {
          "output_type": "execute_result",
          "data": {
            "text/plain": [
              "'mother disabled due neurological illness diagnosed late thirty remember mostly sick needing help used really look super mom could overcome obstacle father died father passed decade ago still high school brother lived parent time got job high school passed cleaned house mowed grass bought food money job paid bill could minimum wage much made dinner night mom brother rarely home unless sleep wanted money year brother prison dozen dozen time everything drunk driving drug possession stealing mother assault currently incarcerated one mention expects anything except mother violation court order protection asked sends money speaks weekly well sends letter back father death seven month bout illness nearly two year father passed graduated high school left college state would send mom money college distinctly remember instance using stipend received december buy mother brother christmas gift knew would anything one reciprocated expect honestly care either became pattern next decade particular christmas barely year old scraping together penny buy cheap fridge came home winter break gift realize food house brother drug fueled rage tore christmas tree bought decorated threatened kill unless gave money one loved would prove cared important note even time mother continued let felon brother back home try skip college graduate study year suffice say met husband spent less less time home home husband visited follows clean mom home buy mom food cook mom take care mom remain clear mother let brother life threatened kill prescription cough syrup thrown stair broken door get little bit cash time doubt would try hurt child husband get want told find get perception wronged giving money zero contact blocked number correlation including friend call outside prison note mother let get number phone told mother year cannot brother life least go one year drug free date unable stolen ten thousand dollar always say let back house end forgives cycle repeat next year released told uncertain term live admits remains contact sends money think devil make drug addict move back offered help mom move closer live many state away husband even realtor come start process listing home could find home space mom condition bring brother son life adamantly refused also refused look assisted living facility even though reached accord found great recommendation doctor surgery week family come woodwork honestly resentful people cannot even send reciprocal christmas card tell neglecting mother refusing take time work travel take care care vacation day would likely lose job one even stated would care putting grocery table would work employer like easy word say tell hungry toddler said think cared baby honestly one get sometimes learn deal life cannot ignore dealing life includes losing job moving away toddler formative year caring mother guess probably tell point fed win position literally surviving family member telling leave job family small child come care mom help also refuse put timeframe would long needed expected care question asked also strongly feel like taking resentment mother asking favor though explained multiple time offered stay u surgery cost mind declined tell response right near friend also tried explain bending every beck call enabling want hear seem hear try explain example helping check physical therapy facility week half doctor recommendation enabling long run good independence grown accustomed everyone everything example past visit got upset taking wal mart go nearly toddler bedtime emergency wanted look around mother mess taken position although want lose job good daughter care mother honestly lot animosity toward proclamation mother since father died called birthday tried establish relationship son always one trying get facetime speak phone last twelve year count one hand number time called check son ask reach contact always ulterior motive money brother given brother everything breaking point cannot work full time care family also expected hear multiple time week shitty person refusing abandon everything worked hard care mother despite everything love mom husband family seen unfold multiple people remarked even try anymore meaning try schedule call allow talk see son invited home earlier month scheduled plane ticket assistance though airport etc watch play phone spend time playing fetch dog rather read book toddler wanted attention today final straw needed called check proclaimed going home doctor order dog need dog sick first minor skin condition nearly resolved thanks friend giving prescribed ointment secondly toddler got sick week meaning daycare three day sick even told never called check like never called check got flu last year mysterious week half long illness earlier year resulted four doctor appointment degree temperature cannot stand anymore literally writing last resort husband saying go contact everyone family left except one aunt father side see cry hurtful comment role guilt trip see trying hide child feel like giving want right look littlemisspotatoe crappy human inept dealing life chose ignore u cannot spend day defending extended family member seen decade case two decade nothing say good enough nothing say ever tl dr told uncertain term horrible person refusing abandon husband small child move across county care mother edit thank comment offered support recurring question covered fmla employer large enough state offer comparable law one vacation day left due son getting sick earlier year husband get nearly triple day taken many many day care want lose job find another one good job one confined limit small company refused moving either husband building mother suite moving bigger home assisted care facility nursing home moving closer flip flopped whether allow home care contradicts point telling insert name help need anything friend call common fine care want assistance want term told cut tie brother able get agree counseling brother assaulted stole car pawned appliance moved domestic violence shelter yet refused press charge occurred going seven month pregnant refused travel hour car told essentially thing accused excuse brother behavior got devil cannot abandon spoken counselor adult protective service boil adult make decision doctor although seem agree could use help taking care refused state lack capacity care'"
            ],
            "application/vnd.google.colaboratory.intrinsic+json": {
              "type": "string"
            }
          },
          "metadata": {},
          "execution_count": 343
        }
      ],
      "source": [
        "# Afficher la ligne d'index 1\n",
        "data['new_selftext'][1]"
      ]
    },
    {
      "cell_type": "code",
      "source": [
        "data.isnull().sum()"
      ],
      "metadata": {
        "colab": {
          "base_uri": "https://localhost:8080/",
          "height": 303
        },
        "id": "72eVV9HWfXFw",
        "outputId": "d67eda89-8919-45d5-ee02-a9506d30d6b8"
      },
      "execution_count": 344,
      "outputs": [
        {
          "output_type": "execute_result",
          "data": {
            "text/plain": [
              "title             0\n",
              "selftext        872\n",
              "created_utc       0\n",
              "author            0\n",
              "subreddit         0\n",
              "new_title         0\n",
              "new_selftext    872\n",
              "dtype: int64"
            ],
            "text/html": [
              "<div>\n",
              "<style scoped>\n",
              "    .dataframe tbody tr th:only-of-type {\n",
              "        vertical-align: middle;\n",
              "    }\n",
              "\n",
              "    .dataframe tbody tr th {\n",
              "        vertical-align: top;\n",
              "    }\n",
              "\n",
              "    .dataframe thead th {\n",
              "        text-align: right;\n",
              "    }\n",
              "</style>\n",
              "<table border=\"1\" class=\"dataframe\">\n",
              "  <thead>\n",
              "    <tr style=\"text-align: right;\">\n",
              "      <th></th>\n",
              "      <th>0</th>\n",
              "    </tr>\n",
              "  </thead>\n",
              "  <tbody>\n",
              "    <tr>\n",
              "      <th>title</th>\n",
              "      <td>0</td>\n",
              "    </tr>\n",
              "    <tr>\n",
              "      <th>selftext</th>\n",
              "      <td>872</td>\n",
              "    </tr>\n",
              "    <tr>\n",
              "      <th>created_utc</th>\n",
              "      <td>0</td>\n",
              "    </tr>\n",
              "    <tr>\n",
              "      <th>author</th>\n",
              "      <td>0</td>\n",
              "    </tr>\n",
              "    <tr>\n",
              "      <th>subreddit</th>\n",
              "      <td>0</td>\n",
              "    </tr>\n",
              "    <tr>\n",
              "      <th>new_title</th>\n",
              "      <td>0</td>\n",
              "    </tr>\n",
              "    <tr>\n",
              "      <th>new_selftext</th>\n",
              "      <td>872</td>\n",
              "    </tr>\n",
              "  </tbody>\n",
              "</table>\n",
              "</div><br><label><b>dtype:</b> int64</label>"
            ]
          },
          "metadata": {},
          "execution_count": 344
        }
      ]
    },
    {
      "cell_type": "code",
      "source": [
        "data"
      ],
      "metadata": {
        "colab": {
          "base_uri": "https://localhost:8080/",
          "height": 614
        },
        "id": "twRYTOISFGT4",
        "outputId": "bfe8c3ec-f768-414f-ad9c-087f7531a2a6"
      },
      "execution_count": 345,
      "outputs": [
        {
          "output_type": "execute_result",
          "data": {
            "text/plain": [
              "                                                   title  \\\n",
              "0                  Is this considered domestic violence?   \n",
              "1      My family expects me (30F) to leave my family ...   \n",
              "2      My [22f] boyfriend [23m] got arrested on a dom...   \n",
              "3      [UPDATE] Me [28 F] with my BF [29 M] of 3 year...   \n",
              "4      Last night my (25F) boyfriend of 6 months (30M...   \n",
              "...                                                  ...   \n",
              "13242  What's the worst relationship advice you've ev...   \n",
              "13243  Do you believe that love is the most important...   \n",
              "13244  Why do so many women love stories such as Twil...   \n",
              "13245  What are some small things that you silently j...   \n",
              "13246  Women of Reddit, how do you keep your happines...   \n",
              "\n",
              "                                                selftext   created_utc  \\\n",
              "0      \\nMe (28f) nd my boyfriend (34m) have been in ...  1.720186e+09   \n",
              "1      My mother is disabled due to a neurological il...  1.561784e+09   \n",
              "2      My boyfriend, Trevor and I live with a family ...  1.471977e+09   \n",
              "3      Original post: https://www.reddit.com/r/relati...  1.443372e+09   \n",
              "4      Basically the title, but I will elaborate a li...  1.690806e+09   \n",
              "...                                                  ...           ...   \n",
              "13242  I was told to divorce my husband for being pou...  1.445544e+09   \n",
              "13243  My sister's boyfriend treats her like shit. He...  1.420999e+09   \n",
              "13244  I find it perplexing that so many women enjoy ...  1.413976e+09   \n",
              "13245                                                NaN  1.544510e+09   \n",
              "13246  I hope the title makes sense, & I hope this do...  1.446355e+09   \n",
              "\n",
              "                   author      subreddit  \\\n",
              "0         Double-Back-777  relationships   \n",
              "1       LittleMissPotatoe  relationships   \n",
              "2           Upandaway3435  relationships   \n",
              "3             annoyedthrw  relationships   \n",
              "4      Stock-Property1326  relationships   \n",
              "...                   ...            ...   \n",
              "13242       anxiousgirl89       AskWomen   \n",
              "13243      UFOtookmysheep       AskWomen   \n",
              "13244          Bendersass       AskWomen   \n",
              "13245         MrRomantico       AskWomen   \n",
              "13246          fancipants       AskWomen   \n",
              "\n",
              "                                               new_title  \\\n",
              "0                       Is considered domestic violence?   \n",
              "1      My family expects (30F) leave family (and smal...   \n",
              "2      My [22f] boyfriend [23m] got arrested domestic...   \n",
              "3      [UPDATE] Me [28 F] BF [29 M] 3 years, parent w...   \n",
              "4      Last night (25F) boyfriend 6 month (30M) told ...   \n",
              "...                                                  ...   \n",
              "13242  What worst relationship advice ever seen given...   \n",
              "13243      Do believe love important thing relationship?   \n",
              "13244  Why many woman love story Twilight 50 shade gr...   \n",
              "13245  What small thing silently judge prospective ro...   \n",
              "13246  Women Reddit, keep happiness based someone els...   \n",
              "\n",
              "                                            new_selftext  \n",
              "0      f nd boyfriend relationship year got argument ...  \n",
              "1      mother disabled due neurological illness diagn...  \n",
              "2      boyfriend trevor live family member moved aunt...  \n",
              "3      original post read reply long talk bf boundary...  \n",
              "4      basically title elaborate little met jacob mon...  \n",
              "...                                                  ...  \n",
              "13242  told divorce husband pouty antisocial friend p...  \n",
              "13243  sister boyfriend treat like shit call woman ex...  \n",
              "13244  find perplexing many woman enjoy story fantasi...  \n",
              "13245                                                NaN  \n",
              "13246  hope title make sense hope usual mobile format...  \n",
              "\n",
              "[13247 rows x 7 columns]"
            ],
            "text/html": [
              "\n",
              "  <div id=\"df-b8eb1a88-a0f7-4468-893e-fe6b940d53fd\" class=\"colab-df-container\">\n",
              "    <div>\n",
              "<style scoped>\n",
              "    .dataframe tbody tr th:only-of-type {\n",
              "        vertical-align: middle;\n",
              "    }\n",
              "\n",
              "    .dataframe tbody tr th {\n",
              "        vertical-align: top;\n",
              "    }\n",
              "\n",
              "    .dataframe thead th {\n",
              "        text-align: right;\n",
              "    }\n",
              "</style>\n",
              "<table border=\"1\" class=\"dataframe\">\n",
              "  <thead>\n",
              "    <tr style=\"text-align: right;\">\n",
              "      <th></th>\n",
              "      <th>title</th>\n",
              "      <th>selftext</th>\n",
              "      <th>created_utc</th>\n",
              "      <th>author</th>\n",
              "      <th>subreddit</th>\n",
              "      <th>new_title</th>\n",
              "      <th>new_selftext</th>\n",
              "    </tr>\n",
              "  </thead>\n",
              "  <tbody>\n",
              "    <tr>\n",
              "      <th>0</th>\n",
              "      <td>Is this considered domestic violence?</td>\n",
              "      <td>\\nMe (28f) nd my boyfriend (34m) have been in ...</td>\n",
              "      <td>1.720186e+09</td>\n",
              "      <td>Double-Back-777</td>\n",
              "      <td>relationships</td>\n",
              "      <td>Is considered domestic violence?</td>\n",
              "      <td>f nd boyfriend relationship year got argument ...</td>\n",
              "    </tr>\n",
              "    <tr>\n",
              "      <th>1</th>\n",
              "      <td>My family expects me (30F) to leave my family ...</td>\n",
              "      <td>My mother is disabled due to a neurological il...</td>\n",
              "      <td>1.561784e+09</td>\n",
              "      <td>LittleMissPotatoe</td>\n",
              "      <td>relationships</td>\n",
              "      <td>My family expects (30F) leave family (and smal...</td>\n",
              "      <td>mother disabled due neurological illness diagn...</td>\n",
              "    </tr>\n",
              "    <tr>\n",
              "      <th>2</th>\n",
              "      <td>My [22f] boyfriend [23m] got arrested on a dom...</td>\n",
              "      <td>My boyfriend, Trevor and I live with a family ...</td>\n",
              "      <td>1.471977e+09</td>\n",
              "      <td>Upandaway3435</td>\n",
              "      <td>relationships</td>\n",
              "      <td>My [22f] boyfriend [23m] got arrested domestic...</td>\n",
              "      <td>boyfriend trevor live family member moved aunt...</td>\n",
              "    </tr>\n",
              "    <tr>\n",
              "      <th>3</th>\n",
              "      <td>[UPDATE] Me [28 F] with my BF [29 M] of 3 year...</td>\n",
              "      <td>Original post: https://www.reddit.com/r/relati...</td>\n",
              "      <td>1.443372e+09</td>\n",
              "      <td>annoyedthrw</td>\n",
              "      <td>relationships</td>\n",
              "      <td>[UPDATE] Me [28 F] BF [29 M] 3 years, parent w...</td>\n",
              "      <td>original post read reply long talk bf boundary...</td>\n",
              "    </tr>\n",
              "    <tr>\n",
              "      <th>4</th>\n",
              "      <td>Last night my (25F) boyfriend of 6 months (30M...</td>\n",
              "      <td>Basically the title, but I will elaborate a li...</td>\n",
              "      <td>1.690806e+09</td>\n",
              "      <td>Stock-Property1326</td>\n",
              "      <td>relationships</td>\n",
              "      <td>Last night (25F) boyfriend 6 month (30M) told ...</td>\n",
              "      <td>basically title elaborate little met jacob mon...</td>\n",
              "    </tr>\n",
              "    <tr>\n",
              "      <th>...</th>\n",
              "      <td>...</td>\n",
              "      <td>...</td>\n",
              "      <td>...</td>\n",
              "      <td>...</td>\n",
              "      <td>...</td>\n",
              "      <td>...</td>\n",
              "      <td>...</td>\n",
              "    </tr>\n",
              "    <tr>\n",
              "      <th>13242</th>\n",
              "      <td>What's the worst relationship advice you've ev...</td>\n",
              "      <td>I was told to divorce my husband for being pou...</td>\n",
              "      <td>1.445544e+09</td>\n",
              "      <td>anxiousgirl89</td>\n",
              "      <td>AskWomen</td>\n",
              "      <td>What worst relationship advice ever seen given...</td>\n",
              "      <td>told divorce husband pouty antisocial friend p...</td>\n",
              "    </tr>\n",
              "    <tr>\n",
              "      <th>13243</th>\n",
              "      <td>Do you believe that love is the most important...</td>\n",
              "      <td>My sister's boyfriend treats her like shit. He...</td>\n",
              "      <td>1.420999e+09</td>\n",
              "      <td>UFOtookmysheep</td>\n",
              "      <td>AskWomen</td>\n",
              "      <td>Do believe love important thing relationship?</td>\n",
              "      <td>sister boyfriend treat like shit call woman ex...</td>\n",
              "    </tr>\n",
              "    <tr>\n",
              "      <th>13244</th>\n",
              "      <td>Why do so many women love stories such as Twil...</td>\n",
              "      <td>I find it perplexing that so many women enjoy ...</td>\n",
              "      <td>1.413976e+09</td>\n",
              "      <td>Bendersass</td>\n",
              "      <td>AskWomen</td>\n",
              "      <td>Why many woman love story Twilight 50 shade gr...</td>\n",
              "      <td>find perplexing many woman enjoy story fantasi...</td>\n",
              "    </tr>\n",
              "    <tr>\n",
              "      <th>13245</th>\n",
              "      <td>What are some small things that you silently j...</td>\n",
              "      <td>NaN</td>\n",
              "      <td>1.544510e+09</td>\n",
              "      <td>MrRomantico</td>\n",
              "      <td>AskWomen</td>\n",
              "      <td>What small thing silently judge prospective ro...</td>\n",
              "      <td>NaN</td>\n",
              "    </tr>\n",
              "    <tr>\n",
              "      <th>13246</th>\n",
              "      <td>Women of Reddit, how do you keep your happines...</td>\n",
              "      <td>I hope the title makes sense, &amp; I hope this do...</td>\n",
              "      <td>1.446355e+09</td>\n",
              "      <td>fancipants</td>\n",
              "      <td>AskWomen</td>\n",
              "      <td>Women Reddit, keep happiness based someone els...</td>\n",
              "      <td>hope title make sense hope usual mobile format...</td>\n",
              "    </tr>\n",
              "  </tbody>\n",
              "</table>\n",
              "<p>13247 rows × 7 columns</p>\n",
              "</div>\n",
              "    <div class=\"colab-df-buttons\">\n",
              "\n",
              "  <div class=\"colab-df-container\">\n",
              "    <button class=\"colab-df-convert\" onclick=\"convertToInteractive('df-b8eb1a88-a0f7-4468-893e-fe6b940d53fd')\"\n",
              "            title=\"Convert this dataframe to an interactive table.\"\n",
              "            style=\"display:none;\">\n",
              "\n",
              "  <svg xmlns=\"http://www.w3.org/2000/svg\" height=\"24px\" viewBox=\"0 -960 960 960\">\n",
              "    <path d=\"M120-120v-720h720v720H120Zm60-500h600v-160H180v160Zm220 220h160v-160H400v160Zm0 220h160v-160H400v160ZM180-400h160v-160H180v160Zm440 0h160v-160H620v160ZM180-180h160v-160H180v160Zm440 0h160v-160H620v160Z\"/>\n",
              "  </svg>\n",
              "    </button>\n",
              "\n",
              "  <style>\n",
              "    .colab-df-container {\n",
              "      display:flex;\n",
              "      gap: 12px;\n",
              "    }\n",
              "\n",
              "    .colab-df-convert {\n",
              "      background-color: #E8F0FE;\n",
              "      border: none;\n",
              "      border-radius: 50%;\n",
              "      cursor: pointer;\n",
              "      display: none;\n",
              "      fill: #1967D2;\n",
              "      height: 32px;\n",
              "      padding: 0 0 0 0;\n",
              "      width: 32px;\n",
              "    }\n",
              "\n",
              "    .colab-df-convert:hover {\n",
              "      background-color: #E2EBFA;\n",
              "      box-shadow: 0px 1px 2px rgba(60, 64, 67, 0.3), 0px 1px 3px 1px rgba(60, 64, 67, 0.15);\n",
              "      fill: #174EA6;\n",
              "    }\n",
              "\n",
              "    .colab-df-buttons div {\n",
              "      margin-bottom: 4px;\n",
              "    }\n",
              "\n",
              "    [theme=dark] .colab-df-convert {\n",
              "      background-color: #3B4455;\n",
              "      fill: #D2E3FC;\n",
              "    }\n",
              "\n",
              "    [theme=dark] .colab-df-convert:hover {\n",
              "      background-color: #434B5C;\n",
              "      box-shadow: 0px 1px 3px 1px rgba(0, 0, 0, 0.15);\n",
              "      filter: drop-shadow(0px 1px 2px rgba(0, 0, 0, 0.3));\n",
              "      fill: #FFFFFF;\n",
              "    }\n",
              "  </style>\n",
              "\n",
              "    <script>\n",
              "      const buttonEl =\n",
              "        document.querySelector('#df-b8eb1a88-a0f7-4468-893e-fe6b940d53fd button.colab-df-convert');\n",
              "      buttonEl.style.display =\n",
              "        google.colab.kernel.accessAllowed ? 'block' : 'none';\n",
              "\n",
              "      async function convertToInteractive(key) {\n",
              "        const element = document.querySelector('#df-b8eb1a88-a0f7-4468-893e-fe6b940d53fd');\n",
              "        const dataTable =\n",
              "          await google.colab.kernel.invokeFunction('convertToInteractive',\n",
              "                                                    [key], {});\n",
              "        if (!dataTable) return;\n",
              "\n",
              "        const docLinkHtml = 'Like what you see? Visit the ' +\n",
              "          '<a target=\"_blank\" href=https://colab.research.google.com/notebooks/data_table.ipynb>data table notebook</a>'\n",
              "          + ' to learn more about interactive tables.';\n",
              "        element.innerHTML = '';\n",
              "        dataTable['output_type'] = 'display_data';\n",
              "        await google.colab.output.renderOutput(dataTable, element);\n",
              "        const docLink = document.createElement('div');\n",
              "        docLink.innerHTML = docLinkHtml;\n",
              "        element.appendChild(docLink);\n",
              "      }\n",
              "    </script>\n",
              "  </div>\n",
              "\n",
              "\n",
              "<div id=\"df-77670a90-0b5b-4265-b63e-77cd22a49e9d\">\n",
              "  <button class=\"colab-df-quickchart\" onclick=\"quickchart('df-77670a90-0b5b-4265-b63e-77cd22a49e9d')\"\n",
              "            title=\"Suggest charts\"\n",
              "            style=\"display:none;\">\n",
              "\n",
              "<svg xmlns=\"http://www.w3.org/2000/svg\" height=\"24px\"viewBox=\"0 0 24 24\"\n",
              "     width=\"24px\">\n",
              "    <g>\n",
              "        <path d=\"M19 3H5c-1.1 0-2 .9-2 2v14c0 1.1.9 2 2 2h14c1.1 0 2-.9 2-2V5c0-1.1-.9-2-2-2zM9 17H7v-7h2v7zm4 0h-2V7h2v10zm4 0h-2v-4h2v4z\"/>\n",
              "    </g>\n",
              "</svg>\n",
              "  </button>\n",
              "\n",
              "<style>\n",
              "  .colab-df-quickchart {\n",
              "      --bg-color: #E8F0FE;\n",
              "      --fill-color: #1967D2;\n",
              "      --hover-bg-color: #E2EBFA;\n",
              "      --hover-fill-color: #174EA6;\n",
              "      --disabled-fill-color: #AAA;\n",
              "      --disabled-bg-color: #DDD;\n",
              "  }\n",
              "\n",
              "  [theme=dark] .colab-df-quickchart {\n",
              "      --bg-color: #3B4455;\n",
              "      --fill-color: #D2E3FC;\n",
              "      --hover-bg-color: #434B5C;\n",
              "      --hover-fill-color: #FFFFFF;\n",
              "      --disabled-bg-color: #3B4455;\n",
              "      --disabled-fill-color: #666;\n",
              "  }\n",
              "\n",
              "  .colab-df-quickchart {\n",
              "    background-color: var(--bg-color);\n",
              "    border: none;\n",
              "    border-radius: 50%;\n",
              "    cursor: pointer;\n",
              "    display: none;\n",
              "    fill: var(--fill-color);\n",
              "    height: 32px;\n",
              "    padding: 0;\n",
              "    width: 32px;\n",
              "  }\n",
              "\n",
              "  .colab-df-quickchart:hover {\n",
              "    background-color: var(--hover-bg-color);\n",
              "    box-shadow: 0 1px 2px rgba(60, 64, 67, 0.3), 0 1px 3px 1px rgba(60, 64, 67, 0.15);\n",
              "    fill: var(--button-hover-fill-color);\n",
              "  }\n",
              "\n",
              "  .colab-df-quickchart-complete:disabled,\n",
              "  .colab-df-quickchart-complete:disabled:hover {\n",
              "    background-color: var(--disabled-bg-color);\n",
              "    fill: var(--disabled-fill-color);\n",
              "    box-shadow: none;\n",
              "  }\n",
              "\n",
              "  .colab-df-spinner {\n",
              "    border: 2px solid var(--fill-color);\n",
              "    border-color: transparent;\n",
              "    border-bottom-color: var(--fill-color);\n",
              "    animation:\n",
              "      spin 1s steps(1) infinite;\n",
              "  }\n",
              "\n",
              "  @keyframes spin {\n",
              "    0% {\n",
              "      border-color: transparent;\n",
              "      border-bottom-color: var(--fill-color);\n",
              "      border-left-color: var(--fill-color);\n",
              "    }\n",
              "    20% {\n",
              "      border-color: transparent;\n",
              "      border-left-color: var(--fill-color);\n",
              "      border-top-color: var(--fill-color);\n",
              "    }\n",
              "    30% {\n",
              "      border-color: transparent;\n",
              "      border-left-color: var(--fill-color);\n",
              "      border-top-color: var(--fill-color);\n",
              "      border-right-color: var(--fill-color);\n",
              "    }\n",
              "    40% {\n",
              "      border-color: transparent;\n",
              "      border-right-color: var(--fill-color);\n",
              "      border-top-color: var(--fill-color);\n",
              "    }\n",
              "    60% {\n",
              "      border-color: transparent;\n",
              "      border-right-color: var(--fill-color);\n",
              "    }\n",
              "    80% {\n",
              "      border-color: transparent;\n",
              "      border-right-color: var(--fill-color);\n",
              "      border-bottom-color: var(--fill-color);\n",
              "    }\n",
              "    90% {\n",
              "      border-color: transparent;\n",
              "      border-bottom-color: var(--fill-color);\n",
              "    }\n",
              "  }\n",
              "</style>\n",
              "\n",
              "  <script>\n",
              "    async function quickchart(key) {\n",
              "      const quickchartButtonEl =\n",
              "        document.querySelector('#' + key + ' button');\n",
              "      quickchartButtonEl.disabled = true;  // To prevent multiple clicks.\n",
              "      quickchartButtonEl.classList.add('colab-df-spinner');\n",
              "      try {\n",
              "        const charts = await google.colab.kernel.invokeFunction(\n",
              "            'suggestCharts', [key], {});\n",
              "      } catch (error) {\n",
              "        console.error('Error during call to suggestCharts:', error);\n",
              "      }\n",
              "      quickchartButtonEl.classList.remove('colab-df-spinner');\n",
              "      quickchartButtonEl.classList.add('colab-df-quickchart-complete');\n",
              "    }\n",
              "    (() => {\n",
              "      let quickchartButtonEl =\n",
              "        document.querySelector('#df-77670a90-0b5b-4265-b63e-77cd22a49e9d button');\n",
              "      quickchartButtonEl.style.display =\n",
              "        google.colab.kernel.accessAllowed ? 'block' : 'none';\n",
              "    })();\n",
              "  </script>\n",
              "</div>\n",
              "\n",
              "  <div id=\"id_80d203b0-fa56-4121-8803-893db6907272\">\n",
              "    <style>\n",
              "      .colab-df-generate {\n",
              "        background-color: #E8F0FE;\n",
              "        border: none;\n",
              "        border-radius: 50%;\n",
              "        cursor: pointer;\n",
              "        display: none;\n",
              "        fill: #1967D2;\n",
              "        height: 32px;\n",
              "        padding: 0 0 0 0;\n",
              "        width: 32px;\n",
              "      }\n",
              "\n",
              "      .colab-df-generate:hover {\n",
              "        background-color: #E2EBFA;\n",
              "        box-shadow: 0px 1px 2px rgba(60, 64, 67, 0.3), 0px 1px 3px 1px rgba(60, 64, 67, 0.15);\n",
              "        fill: #174EA6;\n",
              "      }\n",
              "\n",
              "      [theme=dark] .colab-df-generate {\n",
              "        background-color: #3B4455;\n",
              "        fill: #D2E3FC;\n",
              "      }\n",
              "\n",
              "      [theme=dark] .colab-df-generate:hover {\n",
              "        background-color: #434B5C;\n",
              "        box-shadow: 0px 1px 3px 1px rgba(0, 0, 0, 0.15);\n",
              "        filter: drop-shadow(0px 1px 2px rgba(0, 0, 0, 0.3));\n",
              "        fill: #FFFFFF;\n",
              "      }\n",
              "    </style>\n",
              "    <button class=\"colab-df-generate\" onclick=\"generateWithVariable('data')\"\n",
              "            title=\"Generate code using this dataframe.\"\n",
              "            style=\"display:none;\">\n",
              "\n",
              "  <svg xmlns=\"http://www.w3.org/2000/svg\" height=\"24px\"viewBox=\"0 0 24 24\"\n",
              "       width=\"24px\">\n",
              "    <path d=\"M7,19H8.4L18.45,9,17,7.55,7,17.6ZM5,21V16.75L18.45,3.32a2,2,0,0,1,2.83,0l1.4,1.43a1.91,1.91,0,0,1,.58,1.4,1.91,1.91,0,0,1-.58,1.4L9.25,21ZM18.45,9,17,7.55Zm-12,3A5.31,5.31,0,0,0,4.9,8.1,5.31,5.31,0,0,0,1,6.5,5.31,5.31,0,0,0,4.9,4.9,5.31,5.31,0,0,0,6.5,1,5.31,5.31,0,0,0,8.1,4.9,5.31,5.31,0,0,0,12,6.5,5.46,5.46,0,0,0,6.5,12Z\"/>\n",
              "  </svg>\n",
              "    </button>\n",
              "    <script>\n",
              "      (() => {\n",
              "      const buttonEl =\n",
              "        document.querySelector('#id_80d203b0-fa56-4121-8803-893db6907272 button.colab-df-generate');\n",
              "      buttonEl.style.display =\n",
              "        google.colab.kernel.accessAllowed ? 'block' : 'none';\n",
              "\n",
              "      buttonEl.onclick = () => {\n",
              "        google.colab.notebook.generateWithVariable('data');\n",
              "      }\n",
              "      })();\n",
              "    </script>\n",
              "  </div>\n",
              "\n",
              "    </div>\n",
              "  </div>\n"
            ],
            "application/vnd.google.colaboratory.intrinsic+json": {
              "type": "dataframe",
              "variable_name": "data",
              "summary": "{\n  \"name\": \"data\",\n  \"rows\": 13247,\n  \"fields\": [\n    {\n      \"column\": \"title\",\n      \"properties\": {\n        \"dtype\": \"string\",\n        \"num_unique_values\": 10667,\n        \"samples\": [\n          \"Dating a sexual assault survivor?\",\n          \"I was sexually abused before age 5 and I don\\u2019t know who to talk to\",\n          \"The longer I live with my dad, the more I understand why my mum was so angry all the time\"\n        ],\n        \"semantic_type\": \"\",\n        \"description\": \"\"\n      }\n    },\n    {\n      \"column\": \"selftext\",\n      \"properties\": {\n        \"dtype\": \"string\",\n        \"num_unique_values\": 10023,\n        \"samples\": [\n          \"I was thinking I might find good positive tips to make me feel better. Nah it actually sad\",\n          \"Forgive me if this is a heavier topic than usual. I've made a throwaway and originally posted this in a different subreddit, but this seems like a better place for it. This happened in April 2019, so it's a while ago. \\n\\nMy sister was in high school, I was 23 at the time. My sister had a bully who she had been at odds with ever since around middle school, but it had mostly been one-sided. She was cruel, verbally and physically, and we had meetings with the other girl's parents (they didn't care that much, didn't think their kid was as bad as what they were hearing), talked to the school, talked to the teachers, but nobody ever seemed to do anything at all, or barely even care. She always had alibis or lied about any physical alterations, any verbal abuse was treated as \\\"high school drama.\\\" \\n\\nAs the older sister, it made me so incredibly frustrated, especially being away at college. All i wished so badly that I could've been there to help in her high school somehow.My parents didn't have enough money to move or relocate other than switching schools in the area, which worked for middle school, but in our hometown, we only have one, very overcrowded high school.\\n\\nI'm not going to talk about this part too long, but in her sophomore year, my sister committed suicide. She left a note. The bullying was one of the things she wrote about.\\n\\nWe held an open funeral, as she did know a lot of people and had friends at her high school. I didn't really pay much attention to who was there during everything, especially as I was trying to comfort my parents and run the rest smoothly...but when it was the time to leave, I saw the girl who bullied my sister outside. She was walking towards her car with her parents.\\n\\nI shouted \\\"hey!\\\" and walked up to them. For a second, all I felt was just a mess of feelings inside, especially as the parents started to apologize. Their words seemed real, i trusted that it wasn't just to save face. But then I realized that the daughter was crying. \\n\\nI fully believe that she was geniunely remorseful, and I believed it at the time too, but suddenly I felt inhumanly angry. The thought of this girl, who played what i feel was a major role in my sister's death having the audacity to come here and shed a tear made me see red.\\n\\nI lost control, and cut off the parents who were still apologizing. I cursed them out, screaming and yelling at them about everything, how they downplayed everything, how they never cared before. I knew i was causing a scene, but I honestly had lost all my bearings. I do not regret this part, but the next part is where I do feel ashamed.\\n\\nI remember yelling that their \\\"fucking little monster bullied my sister so hard that she wrote about it in the suicide note.\\\" I then turned to the girl, and i told her: \\n\\n\\\"I fucking hope you remember this your whole life. I hope you always remember that my fucking sister is dead and you were one of the reasons. I fucking hate you.\\\"\\n\\nI remember my own words so vividly. I remember at that moment that I sincerely hoped that she would be scarred from this. I hoped it would keep her up at night. I hoped it would be on her mind forever. I felt more malicious than I ever have in my life, and my thinking was that she truly deserved it. \\n\\nThe parents were shocked, but didn't respond, surprisingly. I guess they understood, despite what i said being so screwed up. The girl was completely frozen, just looking at me.. They rushed her to the car and left.\\n\\nRight after that, I went to the bathroom and locked myself in a stall. I felt like she deserved it, but i also felt like...nobody deserves that. She was only 16. I wanted my words to stay with her but I only just now realized how horrible it is for her to always remember what i said, especially at such a young age. I feel like I should've known better, especially considering I was much older. \\n\\nSince then, I've constantly gone back and forth. There are times where I remember my sister. I remember playing games together, reading her stories, watching movies with her. I remember how kind she was was everyone, and how all I wanted was for her to be happy. I remember how she died, and the funeral, and I work myself up again. \\n\\nBut there are also times when all I can think is how that girl really was remorseful. I know now that what I said truly was just out of pure hatred, and so many bottled emotions during the funeral that I directed entirely into that poor girl. And I have thoughts about how my sister is gone...an entire life gone, but at the same time, I did something horrible to another's life. There are times when i want to apologize, but i just freeze up wondering if it would do more damage or not.\\n\\nForgive me if this post was too heavy. I just want to have other opinions on my actions, and whether or not they were unforgivable or not.\",\n          \"Not only does choice matter significantly, but no single option is right for every person and every situation all of the time.\\n\\nI\\u2019m going to tell you all a story about my mother. This is going to be a long post, but hopefully it will be worth reading anyway (deleted and resubmitted for hopefully better readability.) Warning in advance that this post may be triggering to read for some, though I tried my best to avoid going into too much detail, but this was her lived experience. I don't believe she's some rare statistic, or some outlier who should not be counted, and I have a feeling that experiences like hers are likely far more common than we think (or at least parts of them are). These are the kinds of stories that don't get shared, but they need to be, especially due to the reversal of Roe v Wade; people are going to be forced into these types of situations against their will, when they're sometimes hard enough to go through even when it's someone's own informed choice.\\n\\n&#x200B;\\n\\nSo nearly two decades before my mother had me, she gave a child up for adoption.\\n\\nShe was young, had just finished high school, had been taken advantage of by a few so-called friends while drunk, and ended up pregnant as a result.\\n\\n&#x200B;\\n\\nAbortion was still illegal in our country, though a few doctors would perform abortions out of moral objection to the ban (and often be jailed for it), but at the time the family was well off enough that she *could* have gone on a short \\u201cvacation\\u201d if she had wanted to. The family would have been supportive of it, and likely even encouraged/pushed it as an option\\u2014my grandmother was trapped in an abusive marriage when she got pregnant with my mother due to a lack of accessible birth control or abortion, had multiple children against her will whom she mistreated as a result, and is fiercely in support of contraception and abortion access. (Literally all my grandma ever said to me was \\u201cdon\\u2019t get pregnant,\\u201d \\u201clife is terrible when you don\\u2019t have access to abortion or birth control,\\u201d and \\u201cif I\\u2019d been given a choice I\\u2019d never have had children.\\u201d)\\n\\n&#x200B;\\n\\nMy mother *chose* to continue the pregnancy and opt for adoption, as she was not interested in parenting the child. She was content with the reality that she was creating a child for someone else, giving it to a loving family who would take care of it the way it would deserve. Obviously this was going to be a closed adoption, given the time, and she went through all this knowing she would never again see the child she lovingly carried for 9 months. The pregnancy and birth and recovery were\\u2014from what I understand, at least\\u2014relatively easy and uncomplicated.\\n\\n&#x200B;\\n\\nEven though continuing the pregnancy and choosing adoption was her own free choice, it was still a deeply traumatic and life-altering experience for her. She went deeper into alcoholism and hard drugs to try and cope with the trauma and feelings she couldn\\u2019t express or understand, or share with anyone because of the stigma.\\n\\n&#x200B;\\n\\nA few years later she developed health problems and was told to never have kids. They said if she tried, she\\u2019d be put at risk throughout the entire pregnancy because the medication she needs is unsafe to take while pregnant, and they\\u2019d likely have to choose between saving her life or the potential fetus\\u2019s. (This also meant that hormonal birth control was not an option for her, making the possibility of another pregnancy far more likely.)\\n\\n&#x200B;\\n\\nShe still wasn\\u2019t ready to be a parent, but with added despair because she now felt like she had given up her only chance to become one. Some people even said that this was a religious punishment, because she\\u2019d had sex before marriage and didn\\u2019t parent the child that resulted.\\n\\n&#x200B;\\n\\nShe ended up having multiple abortions and knew it was the right decision to make each time, even though it was difficult and painful (both emotionally and physically), because there was a very low chance at the time of a pregnancy resulting in a living, healthy mother \\\\*and\\\\* baby. She wasn\\u2019t willing to put her life at risk on that slim-to-none chance, nor willing to undergo the stress of pregnancy and the heartbreak of losing another child. And in the hypothetical case where the child survived but she didn\\u2019t, there would be no one left to raise it\\u2014my grandparents would have refused, (not that she\\u2019d be willing to let them raise a child anyway considering how terrible they were in most regards,) and she was rarely ever in stable long-term monogamous relationships\\u2014which essentially meant that if she died, another child of hers would just be put up for adoption. When you\\u2019re still processing the complicated emotions of a previous adoption, that\\u2019s not exactly an appealing outcome.\\n\\n&#x200B;\\n\\nOnce again, her own choice, but they still were traumatic experiences for her\\u2014in part because of her previous choice of adoption. And once again, because of the stigma, she had to bear this emotional burden alone.\\n\\n&#x200B;\\n\\nBy the time my mother had a chance encounter where she was told that new medication options were available that wouldn\\u2019t cross the placenta and were safe during pregnancy, meaning she\\u2019d actually be able to become a parent after all, she\\u2019d been heavily into drugs and alcohol for decades. She was nearing 40 at this point and was so desperate to have a child, after giving one away and then being told to let go of the possibility of ever having a another one, that she rushed to try and have one as soon as possible before it was \\u201ctoo late.\\u201d\\n\\n&#x200B;\\n\\nI was born about 10 months later. She desperately wanted me, and never regretted it, but my birth still had consequences. During the pregnancy itself and for months after, she had to take medication and give herself medical injections multiple times a day just to keep herself alive, and it\\u2019s still pretty miraculous that she managed to avoid any major complications. If she\\u2019d been in the States at the time, I can\\u2019t even fathom how expensive the medication alone would have been, let alone the cost of prenatal care and delivery.\\n\\n&#x200B;\\n\\nI was born homeless. My mother continued to drink, though she stopped doing most drugs because of me and credits my birth as the reason she's still alive, due to her previous lifestyle. My father didn\\u2019t pay child support, though he would sometimes bring her drugs and alcohol in order to keep her from abusing me. We struggled financially throughout my entire childhood and lived in a terrible tiny and unsafe apartment that should\\u2019ve been condemned years ago, because that\\u2019s all we could afford on welfare. She now had to deal with the stigma of being a single mother living in poverty, in addition to her other struggles.\\n\\n&#x200B;\\n\\nWhen I was a child, I didn\\u2019t understand why there was one day each year where my mother would always struggle to get out of bed in the morning and go through the day in a depressed fog; even 20+ years later, with her own child to take care of, she still felt the immense emotional pain of her adoption annually on the date of her first child\\u2019s birth. I\\u2019d like to say she tried her best, but she was also abusive and neglectful and had been in desperate need of proper financial support and mental health care. My entire childhood was clouded by my mother\\u2019s trauma, just as she was traumatized by her own mother as a child.\\n\\n&#x200B;\\n\\nWhen you are pregnant, you have three choices: adoption, abortion, or parenting. My mother made all three choices at different points in her life, and those choices were all what was personally right for her at the given time, but every single time, that decision was still life altering. Even the right choice, made with conviction, can be difficult and painful.\\n\\n&#x200B;\\n\\nAnd \\u201cpro-lifers\\u201d want us to have no choice at all.\"\n        ],\n        \"semantic_type\": \"\",\n        \"description\": \"\"\n      }\n    },\n    {\n      \"column\": \"created_utc\",\n      \"properties\": {\n        \"dtype\": \"number\",\n        \"std\": 94281506.86582765,\n        \"min\": 1264606688.0,\n        \"max\": 1730906422.0,\n        \"num_unique_values\": 10795,\n        \"samples\": [\n          1691865634.0,\n          1605315871.0,\n          1726716053.0\n        ],\n        \"semantic_type\": \"\",\n        \"description\": \"\"\n      }\n    },\n    {\n      \"column\": \"author\",\n      \"properties\": {\n        \"dtype\": \"string\",\n        \"num_unique_values\": 10215,\n        \"samples\": [\n          \"laurakark\",\n          \"ldl84\",\n          \"TheRosyGhost\"\n        ],\n        \"semantic_type\": \"\",\n        \"description\": \"\"\n      }\n    },\n    {\n      \"column\": \"subreddit\",\n      \"properties\": {\n        \"dtype\": \"category\",\n        \"num_unique_values\": 9,\n        \"samples\": [\n          \"TrueOffMyChest\",\n          \"abusesurvivors\",\n          \"TwoXChromosomes\"\n        ],\n        \"semantic_type\": \"\",\n        \"description\": \"\"\n      }\n    },\n    {\n      \"column\": \"new_title\",\n      \"properties\": {\n        \"dtype\": \"string\",\n        \"num_unique_values\": 10628,\n        \"samples\": [\n          \"I want break free I know how.\",\n          \"My angry I \\u2018did contact him\\u2019 child I 3 year ago\",\n          \"Do woman urge physically fight?\"\n        ],\n        \"semantic_type\": \"\",\n        \"description\": \"\"\n      }\n    },\n    {\n      \"column\": \"new_selftext\",\n      \"properties\": {\n        \"dtype\": \"string\",\n        \"num_unique_values\": 10007,\n        \"samples\": [\n          \"hi easy even behind screen identity protected asking help never thing feel option doom scrolling tt night came across post gave clarity seeking year stuck functional freeze mode adult life seem numbing since coming conclusion healing journey year entirely sure would survive almost spent time psych unit crisis recovery program goal started meet deprogrammed limiting belief trauma experienced life confidently say seeing worth value bring world feel deep calling speak share much telling story method unconventional feel dissociating even protect feel one live mother stepdad get mother understanding supportive best way feel cut everyone job see taking route know break free supported financially feel called perpetuate misery trading time money feel lost much given much including child cut step back responsibility deepest healing moment much timing heartbreaking missed daughter senior prom th birthday final spring break guilt still heavy mainly happened separate break free heal trauma bond father weird spot understand power seeing potential still space guilt shame happened like world feel better speaking pray someone understands read appreciate time\",\n          \"know best time work damn cannot help feel like shit\",\n          \"hi know explain properly try direct clear possible throughout whole life always misfit still many problem difficulty socialization definetely improved lot since youngerbut still one piece missing cannot understand becoming desperate every time become part group friend sooner later would always everybody hating without really knowing even bit scary always try talk directly someone feel problem talk thing people never seem sometimes may something involunatrily upset someone intead pointing simply keep treating nicely like nothing happened thing go find abandoned hated sudden without even clue reason always try absolute best nicest people deep fear making people upset especially disappointing one look absolute best nice kind somehow always fail still get people mhating thing one previous psychologist told actaully rare people courage come tell problem face face tried one check people sense something wrong somehow people hate get even angry left confused clueless something wrong people point cannot stand start treating poorly spite point ask wrong get even upset unfathomable seriously cannot wrap head around way thinking accidentally mess going beginning downfall towards hatred regard people whole time clueless thing happened group friend really looked said sweetest thing loving caring heart gold would love see spend time day told many people group actually angry good thing said lie happened multiple time online real life friend people really fake growing received sort abuse physical psychological became big misfit something missing nobody showed done wrong people p currently receiving therapy psychologist psychiatrist sorry eventual error english main language\"\n        ],\n        \"semantic_type\": \"\",\n        \"description\": \"\"\n      }\n    }\n  ]\n}"
            }
          },
          "metadata": {},
          "execution_count": 345
        }
      ]
    },
    {
      "cell_type": "code",
      "source": [
        "columns_to_drop = ['title', 'selftext', 'created_utc', 'author', 'subreddit']\n",
        "# Garder uniquement les colonnes existantes dans le DataFrame\n",
        "columns_to_drop = [col for col in columns_to_drop if col in data.columns]\n",
        "\n",
        "data = data.drop(columns=columns_to_drop)\n",
        "data"
      ],
      "metadata": {
        "colab": {
          "base_uri": "https://localhost:8080/",
          "height": 423
        },
        "id": "6DVD0vsHGeut",
        "outputId": "22d2ea1c-b206-486d-8188-65bc7fdd0f04"
      },
      "execution_count": 346,
      "outputs": [
        {
          "output_type": "execute_result",
          "data": {
            "text/plain": [
              "                                               new_title  \\\n",
              "0                       Is considered domestic violence?   \n",
              "1      My family expects (30F) leave family (and smal...   \n",
              "2      My [22f] boyfriend [23m] got arrested domestic...   \n",
              "3      [UPDATE] Me [28 F] BF [29 M] 3 years, parent w...   \n",
              "4      Last night (25F) boyfriend 6 month (30M) told ...   \n",
              "...                                                  ...   \n",
              "13242  What worst relationship advice ever seen given...   \n",
              "13243      Do believe love important thing relationship?   \n",
              "13244  Why many woman love story Twilight 50 shade gr...   \n",
              "13245  What small thing silently judge prospective ro...   \n",
              "13246  Women Reddit, keep happiness based someone els...   \n",
              "\n",
              "                                            new_selftext  \n",
              "0      f nd boyfriend relationship year got argument ...  \n",
              "1      mother disabled due neurological illness diagn...  \n",
              "2      boyfriend trevor live family member moved aunt...  \n",
              "3      original post read reply long talk bf boundary...  \n",
              "4      basically title elaborate little met jacob mon...  \n",
              "...                                                  ...  \n",
              "13242  told divorce husband pouty antisocial friend p...  \n",
              "13243  sister boyfriend treat like shit call woman ex...  \n",
              "13244  find perplexing many woman enjoy story fantasi...  \n",
              "13245                                                NaN  \n",
              "13246  hope title make sense hope usual mobile format...  \n",
              "\n",
              "[13247 rows x 2 columns]"
            ],
            "text/html": [
              "\n",
              "  <div id=\"df-18f582cc-ad6f-479d-aacf-0ca1c0cf7142\" class=\"colab-df-container\">\n",
              "    <div>\n",
              "<style scoped>\n",
              "    .dataframe tbody tr th:only-of-type {\n",
              "        vertical-align: middle;\n",
              "    }\n",
              "\n",
              "    .dataframe tbody tr th {\n",
              "        vertical-align: top;\n",
              "    }\n",
              "\n",
              "    .dataframe thead th {\n",
              "        text-align: right;\n",
              "    }\n",
              "</style>\n",
              "<table border=\"1\" class=\"dataframe\">\n",
              "  <thead>\n",
              "    <tr style=\"text-align: right;\">\n",
              "      <th></th>\n",
              "      <th>new_title</th>\n",
              "      <th>new_selftext</th>\n",
              "    </tr>\n",
              "  </thead>\n",
              "  <tbody>\n",
              "    <tr>\n",
              "      <th>0</th>\n",
              "      <td>Is considered domestic violence?</td>\n",
              "      <td>f nd boyfriend relationship year got argument ...</td>\n",
              "    </tr>\n",
              "    <tr>\n",
              "      <th>1</th>\n",
              "      <td>My family expects (30F) leave family (and smal...</td>\n",
              "      <td>mother disabled due neurological illness diagn...</td>\n",
              "    </tr>\n",
              "    <tr>\n",
              "      <th>2</th>\n",
              "      <td>My [22f] boyfriend [23m] got arrested domestic...</td>\n",
              "      <td>boyfriend trevor live family member moved aunt...</td>\n",
              "    </tr>\n",
              "    <tr>\n",
              "      <th>3</th>\n",
              "      <td>[UPDATE] Me [28 F] BF [29 M] 3 years, parent w...</td>\n",
              "      <td>original post read reply long talk bf boundary...</td>\n",
              "    </tr>\n",
              "    <tr>\n",
              "      <th>4</th>\n",
              "      <td>Last night (25F) boyfriend 6 month (30M) told ...</td>\n",
              "      <td>basically title elaborate little met jacob mon...</td>\n",
              "    </tr>\n",
              "    <tr>\n",
              "      <th>...</th>\n",
              "      <td>...</td>\n",
              "      <td>...</td>\n",
              "    </tr>\n",
              "    <tr>\n",
              "      <th>13242</th>\n",
              "      <td>What worst relationship advice ever seen given...</td>\n",
              "      <td>told divorce husband pouty antisocial friend p...</td>\n",
              "    </tr>\n",
              "    <tr>\n",
              "      <th>13243</th>\n",
              "      <td>Do believe love important thing relationship?</td>\n",
              "      <td>sister boyfriend treat like shit call woman ex...</td>\n",
              "    </tr>\n",
              "    <tr>\n",
              "      <th>13244</th>\n",
              "      <td>Why many woman love story Twilight 50 shade gr...</td>\n",
              "      <td>find perplexing many woman enjoy story fantasi...</td>\n",
              "    </tr>\n",
              "    <tr>\n",
              "      <th>13245</th>\n",
              "      <td>What small thing silently judge prospective ro...</td>\n",
              "      <td>NaN</td>\n",
              "    </tr>\n",
              "    <tr>\n",
              "      <th>13246</th>\n",
              "      <td>Women Reddit, keep happiness based someone els...</td>\n",
              "      <td>hope title make sense hope usual mobile format...</td>\n",
              "    </tr>\n",
              "  </tbody>\n",
              "</table>\n",
              "<p>13247 rows × 2 columns</p>\n",
              "</div>\n",
              "    <div class=\"colab-df-buttons\">\n",
              "\n",
              "  <div class=\"colab-df-container\">\n",
              "    <button class=\"colab-df-convert\" onclick=\"convertToInteractive('df-18f582cc-ad6f-479d-aacf-0ca1c0cf7142')\"\n",
              "            title=\"Convert this dataframe to an interactive table.\"\n",
              "            style=\"display:none;\">\n",
              "\n",
              "  <svg xmlns=\"http://www.w3.org/2000/svg\" height=\"24px\" viewBox=\"0 -960 960 960\">\n",
              "    <path d=\"M120-120v-720h720v720H120Zm60-500h600v-160H180v160Zm220 220h160v-160H400v160Zm0 220h160v-160H400v160ZM180-400h160v-160H180v160Zm440 0h160v-160H620v160ZM180-180h160v-160H180v160Zm440 0h160v-160H620v160Z\"/>\n",
              "  </svg>\n",
              "    </button>\n",
              "\n",
              "  <style>\n",
              "    .colab-df-container {\n",
              "      display:flex;\n",
              "      gap: 12px;\n",
              "    }\n",
              "\n",
              "    .colab-df-convert {\n",
              "      background-color: #E8F0FE;\n",
              "      border: none;\n",
              "      border-radius: 50%;\n",
              "      cursor: pointer;\n",
              "      display: none;\n",
              "      fill: #1967D2;\n",
              "      height: 32px;\n",
              "      padding: 0 0 0 0;\n",
              "      width: 32px;\n",
              "    }\n",
              "\n",
              "    .colab-df-convert:hover {\n",
              "      background-color: #E2EBFA;\n",
              "      box-shadow: 0px 1px 2px rgba(60, 64, 67, 0.3), 0px 1px 3px 1px rgba(60, 64, 67, 0.15);\n",
              "      fill: #174EA6;\n",
              "    }\n",
              "\n",
              "    .colab-df-buttons div {\n",
              "      margin-bottom: 4px;\n",
              "    }\n",
              "\n",
              "    [theme=dark] .colab-df-convert {\n",
              "      background-color: #3B4455;\n",
              "      fill: #D2E3FC;\n",
              "    }\n",
              "\n",
              "    [theme=dark] .colab-df-convert:hover {\n",
              "      background-color: #434B5C;\n",
              "      box-shadow: 0px 1px 3px 1px rgba(0, 0, 0, 0.15);\n",
              "      filter: drop-shadow(0px 1px 2px rgba(0, 0, 0, 0.3));\n",
              "      fill: #FFFFFF;\n",
              "    }\n",
              "  </style>\n",
              "\n",
              "    <script>\n",
              "      const buttonEl =\n",
              "        document.querySelector('#df-18f582cc-ad6f-479d-aacf-0ca1c0cf7142 button.colab-df-convert');\n",
              "      buttonEl.style.display =\n",
              "        google.colab.kernel.accessAllowed ? 'block' : 'none';\n",
              "\n",
              "      async function convertToInteractive(key) {\n",
              "        const element = document.querySelector('#df-18f582cc-ad6f-479d-aacf-0ca1c0cf7142');\n",
              "        const dataTable =\n",
              "          await google.colab.kernel.invokeFunction('convertToInteractive',\n",
              "                                                    [key], {});\n",
              "        if (!dataTable) return;\n",
              "\n",
              "        const docLinkHtml = 'Like what you see? Visit the ' +\n",
              "          '<a target=\"_blank\" href=https://colab.research.google.com/notebooks/data_table.ipynb>data table notebook</a>'\n",
              "          + ' to learn more about interactive tables.';\n",
              "        element.innerHTML = '';\n",
              "        dataTable['output_type'] = 'display_data';\n",
              "        await google.colab.output.renderOutput(dataTable, element);\n",
              "        const docLink = document.createElement('div');\n",
              "        docLink.innerHTML = docLinkHtml;\n",
              "        element.appendChild(docLink);\n",
              "      }\n",
              "    </script>\n",
              "  </div>\n",
              "\n",
              "\n",
              "<div id=\"df-200f60c3-1d85-4520-8c39-386e3d3ebaa5\">\n",
              "  <button class=\"colab-df-quickchart\" onclick=\"quickchart('df-200f60c3-1d85-4520-8c39-386e3d3ebaa5')\"\n",
              "            title=\"Suggest charts\"\n",
              "            style=\"display:none;\">\n",
              "\n",
              "<svg xmlns=\"http://www.w3.org/2000/svg\" height=\"24px\"viewBox=\"0 0 24 24\"\n",
              "     width=\"24px\">\n",
              "    <g>\n",
              "        <path d=\"M19 3H5c-1.1 0-2 .9-2 2v14c0 1.1.9 2 2 2h14c1.1 0 2-.9 2-2V5c0-1.1-.9-2-2-2zM9 17H7v-7h2v7zm4 0h-2V7h2v10zm4 0h-2v-4h2v4z\"/>\n",
              "    </g>\n",
              "</svg>\n",
              "  </button>\n",
              "\n",
              "<style>\n",
              "  .colab-df-quickchart {\n",
              "      --bg-color: #E8F0FE;\n",
              "      --fill-color: #1967D2;\n",
              "      --hover-bg-color: #E2EBFA;\n",
              "      --hover-fill-color: #174EA6;\n",
              "      --disabled-fill-color: #AAA;\n",
              "      --disabled-bg-color: #DDD;\n",
              "  }\n",
              "\n",
              "  [theme=dark] .colab-df-quickchart {\n",
              "      --bg-color: #3B4455;\n",
              "      --fill-color: #D2E3FC;\n",
              "      --hover-bg-color: #434B5C;\n",
              "      --hover-fill-color: #FFFFFF;\n",
              "      --disabled-bg-color: #3B4455;\n",
              "      --disabled-fill-color: #666;\n",
              "  }\n",
              "\n",
              "  .colab-df-quickchart {\n",
              "    background-color: var(--bg-color);\n",
              "    border: none;\n",
              "    border-radius: 50%;\n",
              "    cursor: pointer;\n",
              "    display: none;\n",
              "    fill: var(--fill-color);\n",
              "    height: 32px;\n",
              "    padding: 0;\n",
              "    width: 32px;\n",
              "  }\n",
              "\n",
              "  .colab-df-quickchart:hover {\n",
              "    background-color: var(--hover-bg-color);\n",
              "    box-shadow: 0 1px 2px rgba(60, 64, 67, 0.3), 0 1px 3px 1px rgba(60, 64, 67, 0.15);\n",
              "    fill: var(--button-hover-fill-color);\n",
              "  }\n",
              "\n",
              "  .colab-df-quickchart-complete:disabled,\n",
              "  .colab-df-quickchart-complete:disabled:hover {\n",
              "    background-color: var(--disabled-bg-color);\n",
              "    fill: var(--disabled-fill-color);\n",
              "    box-shadow: none;\n",
              "  }\n",
              "\n",
              "  .colab-df-spinner {\n",
              "    border: 2px solid var(--fill-color);\n",
              "    border-color: transparent;\n",
              "    border-bottom-color: var(--fill-color);\n",
              "    animation:\n",
              "      spin 1s steps(1) infinite;\n",
              "  }\n",
              "\n",
              "  @keyframes spin {\n",
              "    0% {\n",
              "      border-color: transparent;\n",
              "      border-bottom-color: var(--fill-color);\n",
              "      border-left-color: var(--fill-color);\n",
              "    }\n",
              "    20% {\n",
              "      border-color: transparent;\n",
              "      border-left-color: var(--fill-color);\n",
              "      border-top-color: var(--fill-color);\n",
              "    }\n",
              "    30% {\n",
              "      border-color: transparent;\n",
              "      border-left-color: var(--fill-color);\n",
              "      border-top-color: var(--fill-color);\n",
              "      border-right-color: var(--fill-color);\n",
              "    }\n",
              "    40% {\n",
              "      border-color: transparent;\n",
              "      border-right-color: var(--fill-color);\n",
              "      border-top-color: var(--fill-color);\n",
              "    }\n",
              "    60% {\n",
              "      border-color: transparent;\n",
              "      border-right-color: var(--fill-color);\n",
              "    }\n",
              "    80% {\n",
              "      border-color: transparent;\n",
              "      border-right-color: var(--fill-color);\n",
              "      border-bottom-color: var(--fill-color);\n",
              "    }\n",
              "    90% {\n",
              "      border-color: transparent;\n",
              "      border-bottom-color: var(--fill-color);\n",
              "    }\n",
              "  }\n",
              "</style>\n",
              "\n",
              "  <script>\n",
              "    async function quickchart(key) {\n",
              "      const quickchartButtonEl =\n",
              "        document.querySelector('#' + key + ' button');\n",
              "      quickchartButtonEl.disabled = true;  // To prevent multiple clicks.\n",
              "      quickchartButtonEl.classList.add('colab-df-spinner');\n",
              "      try {\n",
              "        const charts = await google.colab.kernel.invokeFunction(\n",
              "            'suggestCharts', [key], {});\n",
              "      } catch (error) {\n",
              "        console.error('Error during call to suggestCharts:', error);\n",
              "      }\n",
              "      quickchartButtonEl.classList.remove('colab-df-spinner');\n",
              "      quickchartButtonEl.classList.add('colab-df-quickchart-complete');\n",
              "    }\n",
              "    (() => {\n",
              "      let quickchartButtonEl =\n",
              "        document.querySelector('#df-200f60c3-1d85-4520-8c39-386e3d3ebaa5 button');\n",
              "      quickchartButtonEl.style.display =\n",
              "        google.colab.kernel.accessAllowed ? 'block' : 'none';\n",
              "    })();\n",
              "  </script>\n",
              "</div>\n",
              "\n",
              "  <div id=\"id_d93c8237-9f6e-4843-913a-5ed074a27630\">\n",
              "    <style>\n",
              "      .colab-df-generate {\n",
              "        background-color: #E8F0FE;\n",
              "        border: none;\n",
              "        border-radius: 50%;\n",
              "        cursor: pointer;\n",
              "        display: none;\n",
              "        fill: #1967D2;\n",
              "        height: 32px;\n",
              "        padding: 0 0 0 0;\n",
              "        width: 32px;\n",
              "      }\n",
              "\n",
              "      .colab-df-generate:hover {\n",
              "        background-color: #E2EBFA;\n",
              "        box-shadow: 0px 1px 2px rgba(60, 64, 67, 0.3), 0px 1px 3px 1px rgba(60, 64, 67, 0.15);\n",
              "        fill: #174EA6;\n",
              "      }\n",
              "\n",
              "      [theme=dark] .colab-df-generate {\n",
              "        background-color: #3B4455;\n",
              "        fill: #D2E3FC;\n",
              "      }\n",
              "\n",
              "      [theme=dark] .colab-df-generate:hover {\n",
              "        background-color: #434B5C;\n",
              "        box-shadow: 0px 1px 3px 1px rgba(0, 0, 0, 0.15);\n",
              "        filter: drop-shadow(0px 1px 2px rgba(0, 0, 0, 0.3));\n",
              "        fill: #FFFFFF;\n",
              "      }\n",
              "    </style>\n",
              "    <button class=\"colab-df-generate\" onclick=\"generateWithVariable('data')\"\n",
              "            title=\"Generate code using this dataframe.\"\n",
              "            style=\"display:none;\">\n",
              "\n",
              "  <svg xmlns=\"http://www.w3.org/2000/svg\" height=\"24px\"viewBox=\"0 0 24 24\"\n",
              "       width=\"24px\">\n",
              "    <path d=\"M7,19H8.4L18.45,9,17,7.55,7,17.6ZM5,21V16.75L18.45,3.32a2,2,0,0,1,2.83,0l1.4,1.43a1.91,1.91,0,0,1,.58,1.4,1.91,1.91,0,0,1-.58,1.4L9.25,21ZM18.45,9,17,7.55Zm-12,3A5.31,5.31,0,0,0,4.9,8.1,5.31,5.31,0,0,0,1,6.5,5.31,5.31,0,0,0,4.9,4.9,5.31,5.31,0,0,0,6.5,1,5.31,5.31,0,0,0,8.1,4.9,5.31,5.31,0,0,0,12,6.5,5.46,5.46,0,0,0,6.5,12Z\"/>\n",
              "  </svg>\n",
              "    </button>\n",
              "    <script>\n",
              "      (() => {\n",
              "      const buttonEl =\n",
              "        document.querySelector('#id_d93c8237-9f6e-4843-913a-5ed074a27630 button.colab-df-generate');\n",
              "      buttonEl.style.display =\n",
              "        google.colab.kernel.accessAllowed ? 'block' : 'none';\n",
              "\n",
              "      buttonEl.onclick = () => {\n",
              "        google.colab.notebook.generateWithVariable('data');\n",
              "      }\n",
              "      })();\n",
              "    </script>\n",
              "  </div>\n",
              "\n",
              "    </div>\n",
              "  </div>\n"
            ],
            "application/vnd.google.colaboratory.intrinsic+json": {
              "type": "dataframe",
              "variable_name": "data",
              "summary": "{\n  \"name\": \"data\",\n  \"rows\": 13247,\n  \"fields\": [\n    {\n      \"column\": \"new_title\",\n      \"properties\": {\n        \"dtype\": \"string\",\n        \"num_unique_values\": 10628,\n        \"samples\": [\n          \"I want break free I know how.\",\n          \"My angry I \\u2018did contact him\\u2019 child I 3 year ago\",\n          \"Do woman urge physically fight?\"\n        ],\n        \"semantic_type\": \"\",\n        \"description\": \"\"\n      }\n    },\n    {\n      \"column\": \"new_selftext\",\n      \"properties\": {\n        \"dtype\": \"string\",\n        \"num_unique_values\": 10007,\n        \"samples\": [\n          \"hi easy even behind screen identity protected asking help never thing feel option doom scrolling tt night came across post gave clarity seeking year stuck functional freeze mode adult life seem numbing since coming conclusion healing journey year entirely sure would survive almost spent time psych unit crisis recovery program goal started meet deprogrammed limiting belief trauma experienced life confidently say seeing worth value bring world feel deep calling speak share much telling story method unconventional feel dissociating even protect feel one live mother stepdad get mother understanding supportive best way feel cut everyone job see taking route know break free supported financially feel called perpetuate misery trading time money feel lost much given much including child cut step back responsibility deepest healing moment much timing heartbreaking missed daughter senior prom th birthday final spring break guilt still heavy mainly happened separate break free heal trauma bond father weird spot understand power seeing potential still space guilt shame happened like world feel better speaking pray someone understands read appreciate time\",\n          \"know best time work damn cannot help feel like shit\",\n          \"hi know explain properly try direct clear possible throughout whole life always misfit still many problem difficulty socialization definetely improved lot since youngerbut still one piece missing cannot understand becoming desperate every time become part group friend sooner later would always everybody hating without really knowing even bit scary always try talk directly someone feel problem talk thing people never seem sometimes may something involunatrily upset someone intead pointing simply keep treating nicely like nothing happened thing go find abandoned hated sudden without even clue reason always try absolute best nicest people deep fear making people upset especially disappointing one look absolute best nice kind somehow always fail still get people mhating thing one previous psychologist told actaully rare people courage come tell problem face face tried one check people sense something wrong somehow people hate get even angry left confused clueless something wrong people point cannot stand start treating poorly spite point ask wrong get even upset unfathomable seriously cannot wrap head around way thinking accidentally mess going beginning downfall towards hatred regard people whole time clueless thing happened group friend really looked said sweetest thing loving caring heart gold would love see spend time day told many people group actually angry good thing said lie happened multiple time online real life friend people really fake growing received sort abuse physical psychological became big misfit something missing nobody showed done wrong people p currently receiving therapy psychologist psychiatrist sorry eventual error english main language\"\n        ],\n        \"semantic_type\": \"\",\n        \"description\": \"\"\n      }\n    }\n  ]\n}"
            }
          },
          "metadata": {},
          "execution_count": 346
        }
      ]
    },
    {
      "cell_type": "markdown",
      "metadata": {
        "id": "ugtv8w6SQw6F"
      },
      "source": [
        "### <font color='#00d2d3'> Vectorisation"
      ]
    },
    {
      "cell_type": "code",
      "execution_count": 348,
      "metadata": {
        "id": "ihjG2i2QQw6F"
      },
      "outputs": [],
      "source": [
        "# Importer les packages\n",
        "from tensorflow.keras.preprocessing.text import Tokenizer\n",
        "from tensorflow.keras.preprocessing.sequence import pad_sequences\n"
      ]
    },
    {
      "cell_type": "code",
      "execution_count": 350,
      "metadata": {
        "id": "18NzfK9EQw6G"
      },
      "outputs": [],
      "source": [
        "# Nombre de mots\n",
        "voc_size = len(set(\" \".join(data.new_title).split()))\n",
        "# voc_size2 = len(set(\" \".join(data.new_selftext).split()))\n",
        "# Initialiser le modèle Tokenizer\n",
        "tokenizer = Tokenizer(num_words=voc_size, split=' ')\n",
        "# Entrainer les données\n",
        "tokenizer.fit_on_texts(data['new_title'].values)\n",
        "# Vectoriser\n",
        "X = tokenizer.texts_to_sequences(data['new_title'].values)\n",
        "# Padding\n",
        "X = pad_sequences(X)"
      ]
    },
    {
      "cell_type": "code",
      "source": [],
      "metadata": {
        "id": "S4UlDlVDEtEy"
      },
      "execution_count": null,
      "outputs": []
    },
    {
      "cell_type": "markdown",
      "metadata": {
        "id": "c48OsYa-Qw6G"
      },
      "source": [
        "### <font color='#00d2d3'> Sentiment Analysis avec Bi-directional LSTM"
      ]
    },
    {
      "cell_type": "code",
      "source": [
        "from keras.models import Sequential\n",
        "from keras.layers import Dense, Embedding, LSTM, Bidirectional, Dropout"
      ],
      "metadata": {
        "id": "wjzBVAQg8zjD"
      },
      "execution_count": 351,
      "outputs": []
    },
    {
      "cell_type": "code",
      "execution_count": 352,
      "metadata": {
        "id": "9IkvYDfIQw6G",
        "colab": {
          "base_uri": "https://localhost:8080/",
          "height": 381
        },
        "outputId": "e2e0c8c2-3e25-4f91-d4ec-9900040914cc"
      },
      "outputs": [
        {
          "output_type": "stream",
          "name": "stderr",
          "text": [
            "/usr/local/lib/python3.10/dist-packages/keras/src/layers/core/embedding.py:90: UserWarning: Argument `input_length` is deprecated. Just remove it.\n",
            "  warnings.warn(\n"
          ]
        },
        {
          "output_type": "display_data",
          "data": {
            "text/plain": [
              "\u001b[1mModel: \"sequential\"\u001b[0m\n"
            ],
            "text/html": [
              "<pre style=\"white-space:pre;overflow-x:auto;line-height:normal;font-family:Menlo,'DejaVu Sans Mono',consolas,'Courier New',monospace\"><span style=\"font-weight: bold\">Model: \"sequential\"</span>\n",
              "</pre>\n"
            ]
          },
          "metadata": {}
        },
        {
          "output_type": "display_data",
          "data": {
            "text/plain": [
              "┏━━━━━━━━━━━━━━━━━━━━━━━━━━━━━━━━━━━━━━┳━━━━━━━━━━━━━━━━━━━━━━━━━━━━━┳━━━━━━━━━━━━━━━━━┓\n",
              "┃\u001b[1m \u001b[0m\u001b[1mLayer (type)                        \u001b[0m\u001b[1m \u001b[0m┃\u001b[1m \u001b[0m\u001b[1mOutput Shape               \u001b[0m\u001b[1m \u001b[0m┃\u001b[1m \u001b[0m\u001b[1m        Param #\u001b[0m\u001b[1m \u001b[0m┃\n",
              "┡━━━━━━━━━━━━━━━━━━━━━━━━━━━━━━━━━━━━━━╇━━━━━━━━━━━━━━━━━━━━━━━━━━━━━╇━━━━━━━━━━━━━━━━━┩\n",
              "│ embedding (\u001b[38;5;33mEmbedding\u001b[0m)                │ ?                           │     \u001b[38;5;34m0\u001b[0m (unbuilt) │\n",
              "├──────────────────────────────────────┼─────────────────────────────┼─────────────────┤\n",
              "│ bidirectional (\u001b[38;5;33mBidirectional\u001b[0m)        │ ?                           │     \u001b[38;5;34m0\u001b[0m (unbuilt) │\n",
              "├──────────────────────────────────────┼─────────────────────────────┼─────────────────┤\n",
              "│ dropout (\u001b[38;5;33mDropout\u001b[0m)                    │ ?                           │     \u001b[38;5;34m0\u001b[0m (unbuilt) │\n",
              "├──────────────────────────────────────┼─────────────────────────────┼─────────────────┤\n",
              "│ bidirectional_1 (\u001b[38;5;33mBidirectional\u001b[0m)      │ ?                           │     \u001b[38;5;34m0\u001b[0m (unbuilt) │\n",
              "├──────────────────────────────────────┼─────────────────────────────┼─────────────────┤\n",
              "│ dropout_1 (\u001b[38;5;33mDropout\u001b[0m)                  │ ?                           │     \u001b[38;5;34m0\u001b[0m (unbuilt) │\n",
              "├──────────────────────────────────────┼─────────────────────────────┼─────────────────┤\n",
              "│ dense (\u001b[38;5;33mDense\u001b[0m)                        │ ?                           │     \u001b[38;5;34m0\u001b[0m (unbuilt) │\n",
              "└──────────────────────────────────────┴─────────────────────────────┴─────────────────┘\n"
            ],
            "text/html": [
              "<pre style=\"white-space:pre;overflow-x:auto;line-height:normal;font-family:Menlo,'DejaVu Sans Mono',consolas,'Courier New',monospace\">┏━━━━━━━━━━━━━━━━━━━━━━━━━━━━━━━━━━━━━━┳━━━━━━━━━━━━━━━━━━━━━━━━━━━━━┳━━━━━━━━━━━━━━━━━┓\n",
              "┃<span style=\"font-weight: bold\"> Layer (type)                         </span>┃<span style=\"font-weight: bold\"> Output Shape                </span>┃<span style=\"font-weight: bold\">         Param # </span>┃\n",
              "┡━━━━━━━━━━━━━━━━━━━━━━━━━━━━━━━━━━━━━━╇━━━━━━━━━━━━━━━━━━━━━━━━━━━━━╇━━━━━━━━━━━━━━━━━┩\n",
              "│ embedding (<span style=\"color: #0087ff; text-decoration-color: #0087ff\">Embedding</span>)                │ ?                           │     <span style=\"color: #00af00; text-decoration-color: #00af00\">0</span> (unbuilt) │\n",
              "├──────────────────────────────────────┼─────────────────────────────┼─────────────────┤\n",
              "│ bidirectional (<span style=\"color: #0087ff; text-decoration-color: #0087ff\">Bidirectional</span>)        │ ?                           │     <span style=\"color: #00af00; text-decoration-color: #00af00\">0</span> (unbuilt) │\n",
              "├──────────────────────────────────────┼─────────────────────────────┼─────────────────┤\n",
              "│ dropout (<span style=\"color: #0087ff; text-decoration-color: #0087ff\">Dropout</span>)                    │ ?                           │     <span style=\"color: #00af00; text-decoration-color: #00af00\">0</span> (unbuilt) │\n",
              "├──────────────────────────────────────┼─────────────────────────────┼─────────────────┤\n",
              "│ bidirectional_1 (<span style=\"color: #0087ff; text-decoration-color: #0087ff\">Bidirectional</span>)      │ ?                           │     <span style=\"color: #00af00; text-decoration-color: #00af00\">0</span> (unbuilt) │\n",
              "├──────────────────────────────────────┼─────────────────────────────┼─────────────────┤\n",
              "│ dropout_1 (<span style=\"color: #0087ff; text-decoration-color: #0087ff\">Dropout</span>)                  │ ?                           │     <span style=\"color: #00af00; text-decoration-color: #00af00\">0</span> (unbuilt) │\n",
              "├──────────────────────────────────────┼─────────────────────────────┼─────────────────┤\n",
              "│ dense (<span style=\"color: #0087ff; text-decoration-color: #0087ff\">Dense</span>)                        │ ?                           │     <span style=\"color: #00af00; text-decoration-color: #00af00\">0</span> (unbuilt) │\n",
              "└──────────────────────────────────────┴─────────────────────────────┴─────────────────┘\n",
              "</pre>\n"
            ]
          },
          "metadata": {}
        },
        {
          "output_type": "display_data",
          "data": {
            "text/plain": [
              "\u001b[1m Total params: \u001b[0m\u001b[38;5;34m0\u001b[0m (0.00 B)\n"
            ],
            "text/html": [
              "<pre style=\"white-space:pre;overflow-x:auto;line-height:normal;font-family:Menlo,'DejaVu Sans Mono',consolas,'Courier New',monospace\"><span style=\"font-weight: bold\"> Total params: </span><span style=\"color: #00af00; text-decoration-color: #00af00\">0</span> (0.00 B)\n",
              "</pre>\n"
            ]
          },
          "metadata": {}
        },
        {
          "output_type": "display_data",
          "data": {
            "text/plain": [
              "\u001b[1m Trainable params: \u001b[0m\u001b[38;5;34m0\u001b[0m (0.00 B)\n"
            ],
            "text/html": [
              "<pre style=\"white-space:pre;overflow-x:auto;line-height:normal;font-family:Menlo,'DejaVu Sans Mono',consolas,'Courier New',monospace\"><span style=\"font-weight: bold\"> Trainable params: </span><span style=\"color: #00af00; text-decoration-color: #00af00\">0</span> (0.00 B)\n",
              "</pre>\n"
            ]
          },
          "metadata": {}
        },
        {
          "output_type": "display_data",
          "data": {
            "text/plain": [
              "\u001b[1m Non-trainable params: \u001b[0m\u001b[38;5;34m0\u001b[0m (0.00 B)\n"
            ],
            "text/html": [
              "<pre style=\"white-space:pre;overflow-x:auto;line-height:normal;font-family:Menlo,'DejaVu Sans Mono',consolas,'Courier New',monospace\"><span style=\"font-weight: bold\"> Non-trainable params: </span><span style=\"color: #00af00; text-decoration-color: #00af00\">0</span> (0.00 B)\n",
              "</pre>\n"
            ]
          },
          "metadata": {}
        },
        {
          "output_type": "stream",
          "name": "stdout",
          "text": [
            "None\n"
          ]
        }
      ],
      "source": [
        "# Dimension des vecteurs\n",
        "emb_dim=100\n",
        "model=Sequential()\n",
        "model.add(Embedding(voc_size, emb_dim, input_length=X.shape[1]))\n",
        "model.add(Bidirectional(LSTM(200, return_sequences=True)))\n",
        "model.add(Dropout(0.4))\n",
        "model.add(Bidirectional(LSTM(200)))\n",
        "model.add(Dropout(0.4))\n",
        "model.add(Dense(1,activation='sigmoid'))\n",
        "# Compiler le modèle\n",
        "model.compile(loss='binary_crossentropy',optimizer='adam',metrics=['accuracy'])\n",
        "# Afficher le summary\n",
        "print(model.summary())"
      ]
    }
  ],
  "metadata": {
    "accelerator": "GPU",
    "colab": {
      "provenance": []
    },
    "kernelspec": {
      "display_name": "Python 3",
      "name": "python3"
    },
    "language_info": {
      "codemirror_mode": {
        "name": "ipython",
        "version": 3
      },
      "file_extension": ".py",
      "mimetype": "text/x-python",
      "name": "python",
      "nbconvert_exporter": "python",
      "pygments_lexer": "ipython3",
      "version": "3.11.4"
    }
  },
  "nbformat": 4,
  "nbformat_minor": 0
}